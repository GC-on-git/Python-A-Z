{
 "cells": [
  {
   "metadata": {},
   "cell_type": "markdown",
   "source": "# FILE I/O",
   "id": "33e7dc7f349cb32e"
  },
  {
   "metadata": {},
   "cell_type": "markdown",
   "source": [
    "## Opening a file\n",
    "\n",
    "`file_object=open(filename,mode)`\n",
    "\n",
    "* mode letter 1\n",
    "    *   r is read\n",
    "    * w is write\n",
    "    * x is write,only if file doesn't previously exist\n",
    "    * a is append, write to the end of a file\n",
    "* mode letter 2\n",
    "    * t text\n",
    "    * b binary"
   ],
   "id": "fdf09270de7ee18"
  },
  {
   "metadata": {},
   "cell_type": "markdown",
   "source": "### Reading from file",
   "id": "986ba5e0470015a5"
  },
  {
   "cell_type": "code",
   "id": "initial_id",
   "metadata": {
    "collapsed": true,
    "ExecuteTime": {
     "end_time": "2025-09-27T14:50:37.573732Z",
     "start_time": "2025-09-27T14:50:37.567307Z"
    }
   },
   "source": "f=open(\"day5.txt\",\"r\")",
   "outputs": [],
   "execution_count": 20
  },
  {
   "metadata": {
    "ExecuteTime": {
     "end_time": "2025-09-27T14:50:37.874948Z",
     "start_time": "2025-09-27T14:50:37.867448Z"
    }
   },
   "cell_type": "code",
   "source": "content=f.read()",
   "id": "d85509a7e66c0244",
   "outputs": [],
   "execution_count": 21
  },
  {
   "metadata": {
    "ExecuteTime": {
     "end_time": "2025-09-27T14:50:38.218832Z",
     "start_time": "2025-09-27T14:50:38.215019Z"
    }
   },
   "cell_type": "code",
   "source": "content",
   "id": "9bb125b042dc4cb4",
   "outputs": [
    {
     "data": {
      "text/plain": [
       "'Python day 5 is very fun'"
      ]
     },
     "execution_count": 22,
     "metadata": {},
     "output_type": "execute_result"
    }
   ],
   "execution_count": 22
  },
  {
   "metadata": {
    "ExecuteTime": {
     "end_time": "2025-09-27T14:48:14.606469Z",
     "start_time": "2025-09-27T14:48:14.604625Z"
    }
   },
   "cell_type": "code",
   "source": "f.close()",
   "id": "6d6b5d27439e7158",
   "outputs": [],
   "execution_count": 8
  },
  {
   "metadata": {},
   "cell_type": "markdown",
   "source": "### Write to a file",
   "id": "28f73fe0ec936238"
  },
  {
   "metadata": {
    "ExecuteTime": {
     "end_time": "2025-09-27T14:52:15.364413Z",
     "start_time": "2025-09-27T14:52:15.360423Z"
    }
   },
   "cell_type": "code",
   "source": "content=\"Python day 5 is very fun\"",
   "id": "29be1597b58a6338",
   "outputs": [],
   "execution_count": 31
  },
  {
   "metadata": {
    "ExecuteTime": {
     "end_time": "2025-09-27T14:52:15.607672Z",
     "start_time": "2025-09-27T14:52:15.603315Z"
    }
   },
   "cell_type": "code",
   "source": "f=open(\"day5.txt\",\"wt\")",
   "id": "68e7a73bc3e07dfb",
   "outputs": [],
   "execution_count": 32
  },
  {
   "metadata": {
    "ExecuteTime": {
     "end_time": "2025-09-27T14:52:15.807920Z",
     "start_time": "2025-09-27T14:52:15.793779Z"
    }
   },
   "cell_type": "code",
   "source": "f.write(content)",
   "id": "e844452267c33553",
   "outputs": [
    {
     "data": {
      "text/plain": [
       "24"
      ]
     },
     "execution_count": 33,
     "metadata": {},
     "output_type": "execute_result"
    }
   ],
   "execution_count": 33
  },
  {
   "metadata": {
    "ExecuteTime": {
     "end_time": "2025-09-27T14:52:15.924792Z",
     "start_time": "2025-09-27T14:52:15.919545Z"
    }
   },
   "cell_type": "code",
   "source": "f.close()",
   "id": "1f2db1833cdcd4f1",
   "outputs": [],
   "execution_count": 34
  },
  {
   "metadata": {},
   "cell_type": "markdown",
   "source": "### Appending to a file",
   "id": "4dbf7f1b7c26b222"
  },
  {
   "metadata": {
    "ExecuteTime": {
     "end_time": "2025-09-27T14:52:27.080258Z",
     "start_time": "2025-09-27T14:52:27.075251Z"
    }
   },
   "cell_type": "code",
   "source": "new_content=\"\\n\\nhello viewers, welcome to python day 5\"",
   "id": "1c78a520e3d65611",
   "outputs": [],
   "execution_count": 39
  },
  {
   "metadata": {
    "ExecuteTime": {
     "end_time": "2025-09-27T14:52:27.464271Z",
     "start_time": "2025-09-27T14:52:27.461978Z"
    }
   },
   "cell_type": "code",
   "source": "f=open(\"day5.txt\",\"at\")",
   "id": "6c866876f4a5e4be",
   "outputs": [],
   "execution_count": 40
  },
  {
   "metadata": {
    "ExecuteTime": {
     "end_time": "2025-09-27T14:52:27.807819Z",
     "start_time": "2025-09-27T14:52:27.803624Z"
    }
   },
   "cell_type": "code",
   "source": "f.write(new_content)",
   "id": "6623470f477d405a",
   "outputs": [
    {
     "data": {
      "text/plain": [
       "40"
      ]
     },
     "execution_count": 41,
     "metadata": {},
     "output_type": "execute_result"
    }
   ],
   "execution_count": 41
  },
  {
   "metadata": {
    "ExecuteTime": {
     "end_time": "2025-09-27T14:52:31.537822Z",
     "start_time": "2025-09-27T14:52:31.533518Z"
    }
   },
   "cell_type": "code",
   "source": "f.close()",
   "id": "66c093ad53196d45",
   "outputs": [],
   "execution_count": 42
  },
  {
   "metadata": {},
   "cell_type": "markdown",
   "source": "### Large file",
   "id": "efdfa2bcc7b66475"
  },
  {
   "metadata": {
    "ExecuteTime": {
     "end_time": "2025-09-27T14:58:47.149886Z",
     "start_time": "2025-09-27T14:58:47.144885Z"
    }
   },
   "cell_type": "code",
   "source": [
    "poem = '''There was a young lady named Bright,\n",
    "... Whose speed was far faster than light;\n",
    "... She started one day\n",
    "... In a relative way,\n",
    "... And returned on the previous night...'''"
   ],
   "id": "677a13e0afbd708f",
   "outputs": [],
   "execution_count": 51
  },
  {
   "metadata": {
    "ExecuteTime": {
     "end_time": "2025-09-27T14:58:47.433713Z",
     "start_time": "2025-09-27T14:58:47.427409Z"
    }
   },
   "cell_type": "code",
   "source": "f=open(\"poem.txt\",\"wt\")",
   "id": "40c687fa8bcb1e3",
   "outputs": [],
   "execution_count": 52
  },
  {
   "metadata": {
    "ExecuteTime": {
     "end_time": "2025-09-27T14:58:47.840288Z",
     "start_time": "2025-09-27T14:58:47.837177Z"
    }
   },
   "cell_type": "code",
   "source": [
    "size=len(poem)\n",
    "size"
   ],
   "id": "a9c09653ad67d9f1",
   "outputs": [
    {
     "data": {
      "text/plain": [
       "152"
      ]
     },
     "execution_count": 53,
     "metadata": {},
     "output_type": "execute_result"
    }
   ],
   "execution_count": 53
  },
  {
   "metadata": {
    "ExecuteTime": {
     "end_time": "2025-09-27T14:58:48.264669Z",
     "start_time": "2025-09-27T14:58:48.261836Z"
    }
   },
   "cell_type": "code",
   "source": [
    "offset=0\n",
    "chunk=50\n",
    "\n",
    "while True:\n",
    "    if offset>size:\n",
    "        break\n",
    "    print(f\"offset is {offset}, chunk is {chunk}, poem written is {poem[offset:offset+chunk]}\")\n",
    "    f.write(poem[offset:offset+chunk])\n",
    "    offset+=chunk"
   ],
   "id": "5c0520b622ecf3d0",
   "outputs": [
    {
     "name": "stdout",
     "output_type": "stream",
     "text": [
      "offset is 0, chunk is 50, poem written is There was a young lady named Bright,\n",
      "Whose speed w\n",
      "offset is 50, chunk is 50, poem written is as far faster than light;\n",
      "She started one day\n",
      "In a\n",
      "offset is 100, chunk is 50, poem written is  relative way,\n",
      "And returned on the previous night.\n",
      "offset is 150, chunk is 50, poem written is ..\n"
     ]
    }
   ],
   "execution_count": 54
  },
  {
   "metadata": {
    "ExecuteTime": {
     "end_time": "2025-09-27T14:59:01.365175Z",
     "start_time": "2025-09-27T14:59:01.362265Z"
    }
   },
   "cell_type": "code",
   "source": "f.close()",
   "id": "96810a88db1cb9d1",
   "outputs": [],
   "execution_count": 55
  },
  {
   "metadata": {
    "ExecuteTime": {
     "end_time": "2025-09-27T14:59:43.062585Z",
     "start_time": "2025-09-27T14:59:43.058607Z"
    }
   },
   "cell_type": "code",
   "source": "f=open(\"poem.txt\",\"rt\")",
   "id": "afecc07f5e50802c",
   "outputs": [],
   "execution_count": 57
  },
  {
   "metadata": {
    "ExecuteTime": {
     "end_time": "2025-09-27T15:00:11.289795Z",
     "start_time": "2025-09-27T15:00:11.285909Z"
    }
   },
   "cell_type": "code",
   "source": [
    "content=f.read()\n",
    "content"
   ],
   "id": "74b400ec70b0a9a2",
   "outputs": [
    {
     "data": {
      "text/plain": [
       "'There was a young lady named Bright,\\nWhose speed was far faster than light;\\nShe started one day\\nIn a relative way,\\nAnd returned on the previous night...'"
      ]
     },
     "execution_count": 58,
     "metadata": {},
     "output_type": "execute_result"
    }
   ],
   "execution_count": 58
  },
  {
   "metadata": {
    "ExecuteTime": {
     "end_time": "2025-09-27T15:00:16.780040Z",
     "start_time": "2025-09-27T15:00:16.777568Z"
    }
   },
   "cell_type": "code",
   "source": "f.close()",
   "id": "29c34380f976b0a3",
   "outputs": [],
   "execution_count": 59
  },
  {
   "metadata": {},
   "cell_type": "markdown",
   "source": "### Readline",
   "id": "765fe3c2653f360a"
  },
  {
   "metadata": {
    "ExecuteTime": {
     "end_time": "2025-09-27T15:03:34.106643Z",
     "start_time": "2025-09-27T15:03:34.103466Z"
    }
   },
   "cell_type": "code",
   "source": "f=open(\"poem.txt\",\"rt\")",
   "id": "33c158e15ca87102",
   "outputs": [],
   "execution_count": 71
  },
  {
   "metadata": {
    "ExecuteTime": {
     "end_time": "2025-09-27T15:03:35.506879Z",
     "start_time": "2025-09-27T15:03:35.503873Z"
    }
   },
   "cell_type": "code",
   "source": [
    "content=f.readlines()\n",
    "for line in content:\n",
    "    print(line,end=\"\")"
   ],
   "id": "29e0f02016e4591a",
   "outputs": [
    {
     "name": "stdout",
     "output_type": "stream",
     "text": [
      "There was a young lady named Bright,\n",
      "Whose speed was far faster than light;\n",
      "She started one day\n",
      "In a relative way,\n",
      "And returned on the previous night..."
     ]
    }
   ],
   "execution_count": 72
  },
  {
   "metadata": {
    "ExecuteTime": {
     "end_time": "2025-09-27T15:03:47.507016Z",
     "start_time": "2025-09-27T15:03:47.503256Z"
    }
   },
   "cell_type": "code",
   "source": "content",
   "id": "205f6e0a05feca22",
   "outputs": [
    {
     "data": {
      "text/plain": [
       "['There was a young lady named Bright,\\n',\n",
       " 'Whose speed was far faster than light;\\n',\n",
       " 'She started one day\\n',\n",
       " 'In a relative way,\\n',\n",
       " 'And returned on the previous night...']"
      ]
     },
     "execution_count": 73,
     "metadata": {},
     "output_type": "execute_result"
    }
   ],
   "execution_count": 73
  },
  {
   "metadata": {
    "ExecuteTime": {
     "end_time": "2025-09-27T15:04:37.985169Z",
     "start_time": "2025-09-27T15:04:37.980133Z"
    }
   },
   "cell_type": "code",
   "source": "print(\"There was a young lady named Bright,\\n\",end=\"\")",
   "id": "f8c41a789040fd91",
   "outputs": [
    {
     "name": "stdout",
     "output_type": "stream",
     "text": [
      "There was a young lady named Bright,\n"
     ]
    }
   ],
   "execution_count": 76
  },
  {
   "metadata": {
    "ExecuteTime": {
     "end_time": "2025-09-27T15:05:07.307243Z",
     "start_time": "2025-09-27T15:05:07.305519Z"
    }
   },
   "cell_type": "code",
   "source": "f.close()",
   "id": "b8f863c1b9e0eb29",
   "outputs": [],
   "execution_count": 77
  },
  {
   "metadata": {},
   "cell_type": "markdown",
   "source": "### Better way",
   "id": "7c11e10b440ee4c6"
  },
  {
   "metadata": {
    "ExecuteTime": {
     "end_time": "2025-09-27T15:09:22.028951Z",
     "start_time": "2025-09-27T15:09:22.021627Z"
    }
   },
   "cell_type": "code",
   "source": [
    "with open(\"file.txt\",\"wt\") as f2:\n",
    "    f2.write(\"this is a new file, using with keyword\")"
   ],
   "id": "5fc9ee5948cf1f9e",
   "outputs": [],
   "execution_count": 85
  },
  {
   "metadata": {
    "ExecuteTime": {
     "end_time": "2025-09-27T15:09:22.204448Z",
     "start_time": "2025-09-27T15:09:22.202082Z"
    }
   },
   "cell_type": "code",
   "source": [
    "with open(\"file.txt\",\"rt\") as f2:\n",
    "    content=f2.read()"
   ],
   "id": "7b5e04a872c38f4d",
   "outputs": [],
   "execution_count": 86
  },
  {
   "metadata": {
    "ExecuteTime": {
     "end_time": "2025-09-27T15:09:22.396874Z",
     "start_time": "2025-09-27T15:09:22.394659Z"
    }
   },
   "cell_type": "code",
   "source": "content",
   "id": "2ac3b171c1dacd03",
   "outputs": [
    {
     "data": {
      "text/plain": [
       "'this is a new file, using with keyword'"
      ]
     },
     "execution_count": 87,
     "metadata": {},
     "output_type": "execute_result"
    }
   ],
   "execution_count": 87
  },
  {
   "metadata": {
    "ExecuteTime": {
     "end_time": "2025-09-27T15:09:22.587748Z",
     "start_time": "2025-09-27T15:09:22.585398Z"
    }
   },
   "cell_type": "code",
   "source": [
    "with open(\"file.txt\",\"at\") as f2:\n",
    "    f2.write(\"\\nthis is a new line, in the new file\")"
   ],
   "id": "734af48d01b2f6fc",
   "outputs": [],
   "execution_count": 88
  },
  {
   "metadata": {
    "ExecuteTime": {
     "end_time": "2025-09-27T15:09:23.008320Z",
     "start_time": "2025-09-27T15:09:23.005902Z"
    }
   },
   "cell_type": "code",
   "source": [
    "with open(\"file.txt\",\"rt\") as f2:\n",
    "    content=f2.readlines()"
   ],
   "id": "aca20f02a230ae0e",
   "outputs": [],
   "execution_count": 89
  },
  {
   "metadata": {
    "ExecuteTime": {
     "end_time": "2025-09-27T15:09:24.580138Z",
     "start_time": "2025-09-27T15:09:24.577980Z"
    }
   },
   "cell_type": "code",
   "source": [
    "for line in content:\n",
    "    print(line,end=\"\")"
   ],
   "id": "510965a04ddb12c0",
   "outputs": [
    {
     "name": "stdout",
     "output_type": "stream",
     "text": [
      "this is a new file, using with keyword\n",
      "this is a new line, in the new file"
     ]
    }
   ],
   "execution_count": 90
  },
  {
   "metadata": {},
   "cell_type": "markdown",
   "source": [
    "## Structured files\n",
    "With simple text files, the only level of organization is the line. Sometimes, you want\n",
    "more structure than that. You might want to save data for your program to use later,\n",
    "or send data to another program.\n",
    "There are many formats, and here’s how you can distinguish them:\n",
    "* A separator, or delimiter, character like tab ('\\t'), comma (','), or vertical bar('|'). This is an example of the comma-separated values (CSV) format.  (csv)\n",
    "* '<' and '>' around tags. Examples include XML and HTML. (xml.etree.ElementTree)\n",
    "* Punctuation. An example is JavaScript Object Notation (JSON).  (json)\n",
    "* Indentation. An example is YAML (which depending on the source you usemeans “YAML Ain’t Markup Language;” you’ll need to research that one your‐self).\n",
    "* Miscellaneous, such as configuration files for programs."
   ],
   "id": "9017f4ce83748dac"
  },
  {
   "metadata": {
    "ExecuteTime": {
     "end_time": "2025-09-27T15:16:01.896279Z",
     "start_time": "2025-09-27T15:16:01.882044Z"
    }
   },
   "cell_type": "code",
   "source": "csv_file=[[\"Doctor\", \"Doof\"], [\"agent\",\"perry\"], [\"bro1\", \"phineas\"],[\"bro2\",\"ferb\"]]",
   "id": "fdc8ef3a32817c8b",
   "outputs": [],
   "execution_count": 91
  },
  {
   "metadata": {
    "ExecuteTime": {
     "end_time": "2025-09-27T15:16:05.429137Z",
     "start_time": "2025-09-27T15:16:05.425664Z"
    }
   },
   "cell_type": "code",
   "source": "csv_file",
   "id": "c44240bcbbcd0b26",
   "outputs": [
    {
     "data": {
      "text/plain": [
       "[['Doctor', 'Doof'], ['agent', 'perry'], ['bro1', 'phineas'], ['bro2', 'ferb']]"
      ]
     },
     "execution_count": 92,
     "metadata": {},
     "output_type": "execute_result"
    }
   ],
   "execution_count": 92
  },
  {
   "metadata": {
    "ExecuteTime": {
     "end_time": "2025-09-27T15:16:14.500724Z",
     "start_time": "2025-09-27T15:16:14.498867Z"
    }
   },
   "cell_type": "code",
   "source": "import csv",
   "id": "ddd3b67a791002bf",
   "outputs": [],
   "execution_count": 93
  },
  {
   "metadata": {
    "ExecuteTime": {
     "end_time": "2025-09-27T15:17:43.809479Z",
     "start_time": "2025-09-27T15:17:43.802981Z"
    }
   },
   "cell_type": "code",
   "source": [
    "with open(\"file.txt\",\"wt\") as f2:\n",
    "    csvout=csv.writer(f2)\n",
    "    csvout.writerows(csv_file)"
   ],
   "id": "c6e7f8325b8029f5",
   "outputs": [],
   "execution_count": 94
  },
  {
   "metadata": {
    "ExecuteTime": {
     "end_time": "2025-09-27T15:18:32.798872Z",
     "start_time": "2025-09-27T15:18:32.796631Z"
    }
   },
   "cell_type": "code",
   "source": [
    "with open(\"file.txt\",\"rt\") as f2:\n",
    "    cin=csv.reader(f2)\n",
    "    content=[row for row in cin]"
   ],
   "id": "d39165560f011979",
   "outputs": [],
   "execution_count": 97
  },
  {
   "metadata": {
    "ExecuteTime": {
     "end_time": "2025-09-27T15:18:34.963456Z",
     "start_time": "2025-09-27T15:18:34.961114Z"
    }
   },
   "cell_type": "code",
   "source": "content",
   "id": "3d3b59b05af08b6d",
   "outputs": [
    {
     "data": {
      "text/plain": [
       "[['Doctor', 'Doof'], ['agent', 'perry'], ['bro1', 'phineas'], ['bro2', 'ferb']]"
      ]
     },
     "execution_count": 98,
     "metadata": {},
     "output_type": "execute_result"
    }
   ],
   "execution_count": 98
  },
  {
   "metadata": {},
   "cell_type": "code",
   "outputs": [],
   "execution_count": null,
   "source": "",
   "id": "d0a906d6bc3f6d50"
  }
 ],
 "metadata": {
  "kernelspec": {
   "display_name": "Python 3",
   "language": "python",
   "name": "python3"
  },
  "language_info": {
   "codemirror_mode": {
    "name": "ipython",
    "version": 2
   },
   "file_extension": ".py",
   "mimetype": "text/x-python",
   "name": "python",
   "nbconvert_exporter": "python",
   "pygments_lexer": "ipython2",
   "version": "2.7.6"
  }
 },
 "nbformat": 4,
 "nbformat_minor": 5
}
