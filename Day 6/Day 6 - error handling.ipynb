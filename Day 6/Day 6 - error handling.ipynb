{
 "cells": [
  {
   "metadata": {},
   "cell_type": "markdown",
   "source": [
    "# Python Error Handling & Debugging\n",
    "\n",
    "## Objectives\n",
    "- Understand common Python exceptions and error types.\n",
    "- Learn how to use `try/except` blocks effectively.\n",
    "- Use `finally` and `else` for cleanup and post-try logic.\n",
    "- Create and raise custom exceptions.\n",
    "- Practice basic debugging with tracebacks and `pdb`."
   ],
   "id": "5ecd79fdfa1c6d52"
  },
  {
   "metadata": {},
   "cell_type": "markdown",
   "source": [
    "\n",
    "## 1. Exceptions & Error Types"
   ],
   "id": "fba8619dd045e7b1"
  },
  {
   "metadata": {},
   "cell_type": "markdown",
   "source": [
    "Python has many built-in exceptions that occur when something goes wrong.\n",
    "\n",
    "Some common ones:\n",
    "- `ValueError` – wrong value type (e.g., converting `\"abc\"` to integer).\n",
    "- `TypeError` – invalid operation between incompatible types.\n",
    "- `IndexError` – accessing an invalid index in a list.\n",
    "- `KeyError` – accessing a missing dictionary key."
   ],
   "id": "c0d1e1a3447d2a54"
  },
  {
   "metadata": {
    "ExecuteTime": {
     "end_time": "2025-10-07T13:37:34.194904Z",
     "start_time": "2025-10-07T13:37:33.529730Z"
    }
   },
   "cell_type": "code",
   "source": [
    "# ValueError\n",
    "int(\"abc\")"
   ],
   "id": "8cd8f55f94bd5c81",
   "outputs": [
    {
     "ename": "ValueError",
     "evalue": "invalid literal for int() with base 10: 'abc'",
     "output_type": "error",
     "traceback": [
      "\u001B[0;31m---------------------------------------------------------------------------\u001B[0m",
      "\u001B[0;31mValueError\u001B[0m                                Traceback (most recent call last)",
      "Cell \u001B[0;32mIn[1], line 2\u001B[0m\n\u001B[1;32m      1\u001B[0m \u001B[38;5;66;03m# ValueError\u001B[39;00m\n\u001B[0;32m----> 2\u001B[0m \u001B[38;5;28;43mint\u001B[39;49m\u001B[43m(\u001B[49m\u001B[38;5;124;43m\"\u001B[39;49m\u001B[38;5;124;43mabc\u001B[39;49m\u001B[38;5;124;43m\"\u001B[39;49m\u001B[43m)\u001B[49m\n",
      "\u001B[0;31mValueError\u001B[0m: invalid literal for int() with base 10: 'abc'"
     ]
    }
   ],
   "execution_count": 1
  },
  {
   "metadata": {},
   "cell_type": "code",
   "source": [
    "# TypeError\n",
    "result = \"5\" + 5\n"
   ],
   "id": "a319fa4a7d6b74c0",
   "outputs": [],
   "execution_count": null
  },
  {
   "metadata": {
    "ExecuteTime": {
     "end_time": "2025-10-07T13:37:34.749321Z",
     "start_time": "2025-10-07T13:37:34.705755Z"
    }
   },
   "cell_type": "code",
   "source": [
    "# IndexError\n",
    "numbers = [1, 2, 3]\n",
    "print(numbers[5])\n"
   ],
   "id": "93974afe965ca62f",
   "outputs": [
    {
     "ename": "IndexError",
     "evalue": "list index out of range",
     "output_type": "error",
     "traceback": [
      "\u001B[0;31m---------------------------------------------------------------------------\u001B[0m",
      "\u001B[0;31mIndexError\u001B[0m                                Traceback (most recent call last)",
      "Cell \u001B[0;32mIn[2], line 3\u001B[0m\n\u001B[1;32m      1\u001B[0m \u001B[38;5;66;03m# IndexError\u001B[39;00m\n\u001B[1;32m      2\u001B[0m numbers \u001B[38;5;241m=\u001B[39m [\u001B[38;5;241m1\u001B[39m, \u001B[38;5;241m2\u001B[39m, \u001B[38;5;241m3\u001B[39m]\n\u001B[0;32m----> 3\u001B[0m \u001B[38;5;28mprint\u001B[39m(\u001B[43mnumbers\u001B[49m\u001B[43m[\u001B[49m\u001B[38;5;241;43m5\u001B[39;49m\u001B[43m]\u001B[49m)\n",
      "\u001B[0;31mIndexError\u001B[0m: list index out of range"
     ]
    }
   ],
   "execution_count": 2
  },
  {
   "metadata": {
    "ExecuteTime": {
     "end_time": "2025-10-07T13:38:12.244958Z",
     "start_time": "2025-10-07T13:38:12.224855Z"
    }
   },
   "cell_type": "code",
   "source": [
    "# KeyError\n",
    "my_dict = {\"name\": \"Alice\"}\n",
    "print(my_dict[\"age\"])"
   ],
   "id": "f1e90357a7582c43",
   "outputs": [
    {
     "ename": "KeyError",
     "evalue": "'age'",
     "output_type": "error",
     "traceback": [
      "\u001B[0;31m---------------------------------------------------------------------------\u001B[0m",
      "\u001B[0;31mKeyError\u001B[0m                                  Traceback (most recent call last)",
      "Cell \u001B[0;32mIn[5], line 3\u001B[0m\n\u001B[1;32m      1\u001B[0m \u001B[38;5;66;03m# KeyError\u001B[39;00m\n\u001B[1;32m      2\u001B[0m my_dict \u001B[38;5;241m=\u001B[39m {\u001B[38;5;124m\"\u001B[39m\u001B[38;5;124mname\u001B[39m\u001B[38;5;124m\"\u001B[39m: \u001B[38;5;124m\"\u001B[39m\u001B[38;5;124mAlice\u001B[39m\u001B[38;5;124m\"\u001B[39m}\n\u001B[0;32m----> 3\u001B[0m \u001B[38;5;28mprint\u001B[39m(\u001B[43mmy_dict\u001B[49m\u001B[43m[\u001B[49m\u001B[38;5;124;43m\"\u001B[39;49m\u001B[38;5;124;43mage\u001B[39;49m\u001B[38;5;124;43m\"\u001B[39;49m\u001B[43m]\u001B[49m)\n",
      "\u001B[0;31mKeyError\u001B[0m: 'age'"
     ]
    }
   ],
   "execution_count": 5
  },
  {
   "metadata": {
    "ExecuteTime": {
     "end_time": "2025-10-07T13:40:28.525066Z",
     "start_time": "2025-10-07T13:40:28.519295Z"
    }
   },
   "cell_type": "code",
   "source": [
    "try:\n",
    "    my_dict = {\"name\": \"Alice\"}\n",
    "    print(my_dict[\"age\"])\n",
    "except KeyError:\n",
    "    print(\"Key 'age' not found\")"
   ],
   "id": "a4be268045d5aa74",
   "outputs": [
    {
     "name": "stdout",
     "output_type": "stream",
     "text": [
      "Key 'age' not found\n"
     ]
    }
   ],
   "execution_count": 9
  },
  {
   "metadata": {},
   "cell_type": "markdown",
   "source": [
    "\n",
    "## 2. Try/Except Blocks\n",
    "\n",
    "The `try` block lets you test code for errors, while `except` lets you handle them gracefully.\n",
    "\n",
    "### Basic Syntax\n",
    "```\n",
    "try:\n",
    "    # Code that may cause an error\n",
    "except SomeError:\n",
    "    # Handle the error\n",
    "```"
   ],
   "id": "f32a649a8a19646e"
  },
  {
   "metadata": {
    "ExecuteTime": {
     "end_time": "2025-10-07T13:39:41.960203Z",
     "start_time": "2025-10-07T13:39:39.647621Z"
    }
   },
   "cell_type": "code",
   "source": [
    "try:\n",
    "    number = int(input(\"Enter a number: \"))\n",
    "    print(\"You entered:\", number)\n",
    "except ValueError:\n",
    "    print(\"Oops! That was not a valid number.\")"
   ],
   "id": "9ddece9064943453",
   "outputs": [
    {
     "name": "stdout",
     "output_type": "stream",
     "text": [
      "Oops! That was not a valid number.\n"
     ]
    }
   ],
   "execution_count": 7
  },
  {
   "metadata": {
    "ExecuteTime": {
     "end_time": "2025-10-07T13:41:22.628861Z",
     "start_time": "2025-10-07T13:41:22.619614Z"
    }
   },
   "cell_type": "code",
   "source": [
    "try:\n",
    "    num_list = [1, 2, 3]\n",
    "    print(num_list[5])  # This will cause IndexError\n",
    "except ValueError:\n",
    "    print(\"Caught a ValueError.\")\n",
    "except IndexError:\n",
    "    print(\"Caught an IndexError! Out of range.\")"
   ],
   "id": "e6a917cfeadf592",
   "outputs": [
    {
     "name": "stdout",
     "output_type": "stream",
     "text": [
      "Caught an IndexError! Out of range.\n"
     ]
    }
   ],
   "execution_count": 10
  },
  {
   "metadata": {
    "ExecuteTime": {
     "end_time": "2025-10-07T13:42:03.132173Z",
     "start_time": "2025-10-07T13:42:03.126669Z"
    }
   },
   "cell_type": "code",
   "source": [
    "# Nested try-except\n",
    "try:\n",
    "    # x = int(\"abc\")  # ValueError\n",
    "    x = int(\"10\")\n",
    "    try:\n",
    "        result = x / 0  # ZeroDivisionError\n",
    "    except ZeroDivisionError:\n",
    "        print(\"Cannot divide by zero!\")\n",
    "except ValueError:\n",
    "    print(\"Invalid conversion to int.\")"
   ],
   "id": "8b80108475ca3188",
   "outputs": [
    {
     "name": "stdout",
     "output_type": "stream",
     "text": [
      "Cannot divide by zero!\n"
     ]
    }
   ],
   "execution_count": 13
  },
  {
   "metadata": {},
   "cell_type": "markdown",
   "source": [
    "## 3. Finally & Else Clauses\n",
    "\n",
    "- `else`: Runs if no exception occurs.\n",
    "- `finally`: Always runs, regardless of error (used for cleanup)."
   ],
   "id": "2d7faccfe1ff93e7"
  },
  {
   "metadata": {
    "ExecuteTime": {
     "end_time": "2025-10-07T13:44:56.698329Z",
     "start_time": "2025-10-07T13:44:54.382169Z"
    }
   },
   "cell_type": "code",
   "source": [
    "try:\n",
    "    num = int(input(\"Enter a number: \"))\n",
    "except ValueError:\n",
    "    print(\"That was not a number!\")\n",
    "else:\n",
    "    print(\"Great! You entered:\", num)\n",
    "finally:\n",
    "    print(\"Execution finished (cleanup can go here).\")"
   ],
   "id": "63c1b192488aba3f",
   "outputs": [
    {
     "name": "stdout",
     "output_type": "stream",
     "text": [
      "That was not a number!\n",
      "Execution finished (cleanup can go here).\n"
     ]
    }
   ],
   "execution_count": 17
  },
  {
   "metadata": {},
   "cell_type": "markdown",
   "source": [
    "## 4. Raising Exceptions\n",
    "\n",
    "We can raise exceptions intentionally with `raise`."
   ],
   "id": "f03196845cceb4c8"
  },
  {
   "metadata": {
    "ExecuteTime": {
     "end_time": "2025-10-07T13:45:56.783227Z",
     "start_time": "2025-10-07T13:45:56.778620Z"
    }
   },
   "cell_type": "code",
   "source": [
    "def divide(a, b):\n",
    "    if b == 0:\n",
    "        raise ZeroDivisionError(\"You cannot divide by zero!\")\n",
    "    return a / b"
   ],
   "id": "fad810e7bcfcbb80",
   "outputs": [],
   "execution_count": 18
  },
  {
   "metadata": {
    "ExecuteTime": {
     "end_time": "2025-10-07T13:46:41.479710Z",
     "start_time": "2025-10-07T13:46:41.427081Z"
    }
   },
   "cell_type": "code",
   "source": "3/0",
   "id": "ef375dbfe55e438",
   "outputs": [
    {
     "ename": "ZeroDivisionError",
     "evalue": "division by zero",
     "output_type": "error",
     "traceback": [
      "\u001B[0;31m---------------------------------------------------------------------------\u001B[0m",
      "\u001B[0;31mZeroDivisionError\u001B[0m                         Traceback (most recent call last)",
      "Cell \u001B[0;32mIn[21], line 1\u001B[0m\n\u001B[0;32m----> 1\u001B[0m \u001B[38;5;241;43m3\u001B[39;49m\u001B[38;5;241;43m/\u001B[39;49m\u001B[38;5;241;43m0\u001B[39;49m\n",
      "\u001B[0;31mZeroDivisionError\u001B[0m: division by zero"
     ]
    }
   ],
   "execution_count": 21
  },
  {
   "metadata": {
    "ExecuteTime": {
     "end_time": "2025-10-07T13:46:10.670495Z",
     "start_time": "2025-10-07T13:46:10.613962Z"
    }
   },
   "cell_type": "code",
   "source": [
    "# print(divide(10, 2))\n",
    "print(divide(5, 0))  # Uncomment to see custom error"
   ],
   "id": "22f542f7e2302912",
   "outputs": [
    {
     "ename": "ZeroDivisionError",
     "evalue": "You cannot divide by zero!",
     "output_type": "error",
     "traceback": [
      "\u001B[0;31m---------------------------------------------------------------------------\u001B[0m",
      "\u001B[0;31mZeroDivisionError\u001B[0m                         Traceback (most recent call last)",
      "Cell \u001B[0;32mIn[20], line 2\u001B[0m\n\u001B[1;32m      1\u001B[0m \u001B[38;5;66;03m# print(divide(10, 2))\u001B[39;00m\n\u001B[0;32m----> 2\u001B[0m \u001B[38;5;28mprint\u001B[39m(\u001B[43mdivide\u001B[49m\u001B[43m(\u001B[49m\u001B[38;5;241;43m5\u001B[39;49m\u001B[43m,\u001B[49m\u001B[43m \u001B[49m\u001B[38;5;241;43m0\u001B[39;49m\u001B[43m)\u001B[49m)  \u001B[38;5;66;03m# Uncomment to see custom error\u001B[39;00m\n",
      "Cell \u001B[0;32mIn[18], line 3\u001B[0m, in \u001B[0;36mdivide\u001B[0;34m(a, b)\u001B[0m\n\u001B[1;32m      1\u001B[0m \u001B[38;5;28;01mdef\u001B[39;00m\u001B[38;5;250m \u001B[39m\u001B[38;5;21mdivide\u001B[39m(a, b):\n\u001B[1;32m      2\u001B[0m     \u001B[38;5;28;01mif\u001B[39;00m b \u001B[38;5;241m==\u001B[39m \u001B[38;5;241m0\u001B[39m:\n\u001B[0;32m----> 3\u001B[0m         \u001B[38;5;28;01mraise\u001B[39;00m \u001B[38;5;167;01mZeroDivisionError\u001B[39;00m(\u001B[38;5;124m\"\u001B[39m\u001B[38;5;124mYou cannot divide by zero!\u001B[39m\u001B[38;5;124m\"\u001B[39m)\n\u001B[1;32m      4\u001B[0m     \u001B[38;5;28;01mreturn\u001B[39;00m a \u001B[38;5;241m/\u001B[39m b\n",
      "\u001B[0;31mZeroDivisionError\u001B[0m: You cannot divide by zero!"
     ]
    }
   ],
   "execution_count": 20
  },
  {
   "metadata": {},
   "cell_type": "markdown",
   "source": [
    "## 5. Custom Exceptions\n",
    "\n",
    "You can define your own exception classes to make errors more descriptive."
   ],
   "id": "b69c11bf9f8006a8"
  },
  {
   "metadata": {
    "ExecuteTime": {
     "end_time": "2025-10-07T13:47:32.011069Z",
     "start_time": "2025-10-07T13:47:32.005598Z"
    }
   },
   "cell_type": "code",
   "source": [
    "class NegativeNumberError(Exception):\n",
    "    # Custom exception for negative numbers\n",
    "    pass\n",
    "\n",
    "def square_root(n):\n",
    "    if n < 0:\n",
    "        raise NegativeNumberError(\"Cannot calculate square root of a negative number!\")\n",
    "    return n ** 0.5"
   ],
   "id": "6218a6147910bc45",
   "outputs": [],
   "execution_count": 23
  },
  {
   "metadata": {
    "ExecuteTime": {
     "end_time": "2025-10-07T13:47:37.305220Z",
     "start_time": "2025-10-07T13:47:37.258773Z"
    }
   },
   "cell_type": "code",
   "source": [
    "print(square_root(16))\n",
    "print(square_root(-5))  # Uncomment to see custom error"
   ],
   "id": "87ad8930823ae5e7",
   "outputs": [
    {
     "name": "stdout",
     "output_type": "stream",
     "text": [
      "4.0\n"
     ]
    },
    {
     "ename": "NegativeNumberError",
     "evalue": "Cannot calculate square root of a negative number!",
     "output_type": "error",
     "traceback": [
      "\u001B[0;31m---------------------------------------------------------------------------\u001B[0m",
      "\u001B[0;31mNegativeNumberError\u001B[0m                       Traceback (most recent call last)",
      "Cell \u001B[0;32mIn[25], line 2\u001B[0m\n\u001B[1;32m      1\u001B[0m \u001B[38;5;28mprint\u001B[39m(square_root(\u001B[38;5;241m16\u001B[39m))\n\u001B[0;32m----> 2\u001B[0m \u001B[38;5;28mprint\u001B[39m(\u001B[43msquare_root\u001B[49m\u001B[43m(\u001B[49m\u001B[38;5;241;43m-\u001B[39;49m\u001B[38;5;241;43m5\u001B[39;49m\u001B[43m)\u001B[49m)  \u001B[38;5;66;03m# Uncomment to see custom error\u001B[39;00m\n",
      "Cell \u001B[0;32mIn[23], line 7\u001B[0m, in \u001B[0;36msquare_root\u001B[0;34m(n)\u001B[0m\n\u001B[1;32m      5\u001B[0m \u001B[38;5;28;01mdef\u001B[39;00m\u001B[38;5;250m \u001B[39m\u001B[38;5;21msquare_root\u001B[39m(n):\n\u001B[1;32m      6\u001B[0m     \u001B[38;5;28;01mif\u001B[39;00m n \u001B[38;5;241m<\u001B[39m \u001B[38;5;241m0\u001B[39m:\n\u001B[0;32m----> 7\u001B[0m         \u001B[38;5;28;01mraise\u001B[39;00m NegativeNumberError(\u001B[38;5;124m\"\u001B[39m\u001B[38;5;124mCannot calculate square root of a negative number!\u001B[39m\u001B[38;5;124m\"\u001B[39m)\n\u001B[1;32m      8\u001B[0m     \u001B[38;5;28;01mreturn\u001B[39;00m n \u001B[38;5;241m*\u001B[39m\u001B[38;5;241m*\u001B[39m \u001B[38;5;241m0.5\u001B[39m\n",
      "\u001B[0;31mNegativeNumberError\u001B[0m: Cannot calculate square root of a negative number!"
     ]
    }
   ],
   "execution_count": 25
  },
  {
   "metadata": {
    "ExecuteTime": {
     "end_time": "2025-10-07T13:49:45.829924Z",
     "start_time": "2025-10-07T13:49:45.821365Z"
    }
   },
   "cell_type": "code",
   "source": [
    "class PhoneNumberError(Exception):\n",
    "    pass\n",
    "\n",
    "def checkPhoneNumber(n):\n",
    "    if len(n)!=10:\n",
    "        raise PhoneNumberError(\"Phone number must be entered in 10 digits.\")\n",
    "    else:\n",
    "        print(int(n))"
   ],
   "id": "362525e19189bdc4",
   "outputs": [],
   "execution_count": 26
  },
  {
   "metadata": {
    "ExecuteTime": {
     "end_time": "2025-10-07T13:49:50.918674Z",
     "start_time": "2025-10-07T13:49:50.736618Z"
    }
   },
   "cell_type": "code",
   "source": "checkPhoneNumber(\"123456890\")",
   "id": "8d0b261e8e72c1ef",
   "outputs": [
    {
     "ename": "PhoneNumberError",
     "evalue": "Phone number must be entered in 10 digits.",
     "output_type": "error",
     "traceback": [
      "\u001B[0;31m---------------------------------------------------------------------------\u001B[0m",
      "\u001B[0;31mPhoneNumberError\u001B[0m                          Traceback (most recent call last)",
      "Cell \u001B[0;32mIn[28], line 1\u001B[0m\n\u001B[0;32m----> 1\u001B[0m \u001B[43mcheckPhoneNumber\u001B[49m\u001B[43m(\u001B[49m\u001B[38;5;124;43m\"\u001B[39;49m\u001B[38;5;124;43m123456890\u001B[39;49m\u001B[38;5;124;43m\"\u001B[39;49m\u001B[43m)\u001B[49m\n",
      "Cell \u001B[0;32mIn[26], line 6\u001B[0m, in \u001B[0;36mcheckPhoneNumber\u001B[0;34m(n)\u001B[0m\n\u001B[1;32m      4\u001B[0m \u001B[38;5;28;01mdef\u001B[39;00m\u001B[38;5;250m \u001B[39m\u001B[38;5;21mcheckPhoneNumber\u001B[39m(n):\n\u001B[1;32m      5\u001B[0m     \u001B[38;5;28;01mif\u001B[39;00m \u001B[38;5;28mlen\u001B[39m(n)\u001B[38;5;241m!=\u001B[39m\u001B[38;5;241m10\u001B[39m:\n\u001B[0;32m----> 6\u001B[0m         \u001B[38;5;28;01mraise\u001B[39;00m PhoneNumberError(\u001B[38;5;124m\"\u001B[39m\u001B[38;5;124mPhone number must be entered in 10 digits.\u001B[39m\u001B[38;5;124m\"\u001B[39m)\n\u001B[1;32m      7\u001B[0m     \u001B[38;5;28;01melse\u001B[39;00m:\n\u001B[1;32m      8\u001B[0m         \u001B[38;5;28mprint\u001B[39m(\u001B[38;5;28mint\u001B[39m(n))\n",
      "\u001B[0;31mPhoneNumberError\u001B[0m: Phone number must be entered in 10 digits."
     ]
    }
   ],
   "execution_count": 28
  },
  {
   "metadata": {},
   "cell_type": "markdown",
   "source": [
    "## 6. Debugging Basics\n",
    "\n",
    "### Reading Tracebacks\n",
    "- Tracebacks show where and why an error happened.\n",
    "- Reading them helps pinpoint the bug.\n",
    "\n",
    "### Using `pdb` (Python Debugger)\n",
    "- Insert a breakpoint with `import pdb; pdb.set_trace()`\n",
    "- Step through code to inspect variables interactively."
   ],
   "id": "79c327883726fc8"
  },
  {
   "metadata": {
    "ExecuteTime": {
     "end_time": "2025-10-07T13:53:03.799718Z",
     "start_time": "2025-10-07T13:52:00.888880Z"
    }
   },
   "cell_type": "code",
   "source": [
    "def buggy_function(x, y):\n",
    "    import pdb; pdb.set_trace()  # Debugger starts here\n",
    "    result = x + y\n",
    "    result = result / y\n",
    "    return result\n",
    "\n",
    "# Run this and interact in debugger (type 'c' to continue)\n",
    "buggy_function(5, 0)"
   ],
   "id": "ef130753bac897f5",
   "outputs": [
    {
     "name": "stdout",
     "output_type": "stream",
     "text": [
      "> \u001B[0;32m/var/folders/zy/pfyfyt6s6hs_xjqcpdbcnr5h0000gn/T/ipykernel_72538/162151361.py\u001B[0m(3)\u001B[0;36mbuggy_function\u001B[0;34m()\u001B[0m\n",
      "\u001B[0;32m      1 \u001B[0;31m\u001B[0;32mdef\u001B[0m \u001B[0mbuggy_function\u001B[0m\u001B[0;34m(\u001B[0m\u001B[0mx\u001B[0m\u001B[0;34m,\u001B[0m \u001B[0my\u001B[0m\u001B[0;34m)\u001B[0m\u001B[0;34m:\u001B[0m\u001B[0;34m\u001B[0m\u001B[0;34m\u001B[0m\u001B[0m\n",
      "\u001B[0m\u001B[0;32m      2 \u001B[0;31m    \u001B[0;32mimport\u001B[0m \u001B[0mpdb\u001B[0m\u001B[0;34m;\u001B[0m \u001B[0mpdb\u001B[0m\u001B[0;34m.\u001B[0m\u001B[0mset_trace\u001B[0m\u001B[0;34m(\u001B[0m\u001B[0;34m)\u001B[0m  \u001B[0;31m# Debugger starts here\u001B[0m\u001B[0;34m\u001B[0m\u001B[0;34m\u001B[0m\u001B[0m\n",
      "\u001B[0m\u001B[0;32m----> 3 \u001B[0;31m    \u001B[0mresult\u001B[0m \u001B[0;34m=\u001B[0m \u001B[0mx\u001B[0m \u001B[0;34m+\u001B[0m \u001B[0my\u001B[0m\u001B[0;34m\u001B[0m\u001B[0;34m\u001B[0m\u001B[0m\n",
      "\u001B[0m\u001B[0;32m      4 \u001B[0;31m    \u001B[0mresult\u001B[0m \u001B[0;34m=\u001B[0m \u001B[0mresult\u001B[0m \u001B[0;34m/\u001B[0m \u001B[0my\u001B[0m\u001B[0;34m\u001B[0m\u001B[0;34m\u001B[0m\u001B[0m\n",
      "\u001B[0m\u001B[0;32m      5 \u001B[0;31m    \u001B[0;32mreturn\u001B[0m \u001B[0mresult\u001B[0m\u001B[0;34m\u001B[0m\u001B[0;34m\u001B[0m\u001B[0m\n",
      "\u001B[0m\n",
      "5\n",
      "0\n",
      "> \u001B[0;32m/var/folders/zy/pfyfyt6s6hs_xjqcpdbcnr5h0000gn/T/ipykernel_72538/162151361.py\u001B[0m(4)\u001B[0;36mbuggy_function\u001B[0;34m()\u001B[0m\n",
      "\u001B[0;32m      2 \u001B[0;31m    \u001B[0;32mimport\u001B[0m \u001B[0mpdb\u001B[0m\u001B[0;34m;\u001B[0m \u001B[0mpdb\u001B[0m\u001B[0;34m.\u001B[0m\u001B[0mset_trace\u001B[0m\u001B[0;34m(\u001B[0m\u001B[0;34m)\u001B[0m  \u001B[0;31m# Debugger starts here\u001B[0m\u001B[0;34m\u001B[0m\u001B[0;34m\u001B[0m\u001B[0m\n",
      "\u001B[0m\u001B[0;32m      3 \u001B[0;31m    \u001B[0mresult\u001B[0m \u001B[0;34m=\u001B[0m \u001B[0mx\u001B[0m \u001B[0;34m+\u001B[0m \u001B[0my\u001B[0m\u001B[0;34m\u001B[0m\u001B[0;34m\u001B[0m\u001B[0m\n",
      "\u001B[0m\u001B[0;32m----> 4 \u001B[0;31m    \u001B[0mresult\u001B[0m \u001B[0;34m=\u001B[0m \u001B[0mresult\u001B[0m \u001B[0;34m/\u001B[0m \u001B[0my\u001B[0m\u001B[0;34m\u001B[0m\u001B[0;34m\u001B[0m\u001B[0m\n",
      "\u001B[0m\u001B[0;32m      5 \u001B[0;31m    \u001B[0;32mreturn\u001B[0m \u001B[0mresult\u001B[0m\u001B[0;34m\u001B[0m\u001B[0;34m\u001B[0m\u001B[0m\n",
      "\u001B[0m\u001B[0;32m      6 \u001B[0;31m\u001B[0;34m\u001B[0m\u001B[0m\n",
      "\u001B[0m\n",
      "5\n",
      "ZeroDivisionError: division by zero\n",
      "> \u001B[0;32m/var/folders/zy/pfyfyt6s6hs_xjqcpdbcnr5h0000gn/T/ipykernel_72538/162151361.py\u001B[0m(4)\u001B[0;36mbuggy_function\u001B[0;34m()\u001B[0m\n",
      "\u001B[0;32m      2 \u001B[0;31m    \u001B[0;32mimport\u001B[0m \u001B[0mpdb\u001B[0m\u001B[0;34m;\u001B[0m \u001B[0mpdb\u001B[0m\u001B[0;34m.\u001B[0m\u001B[0mset_trace\u001B[0m\u001B[0;34m(\u001B[0m\u001B[0;34m)\u001B[0m  \u001B[0;31m# Debugger starts here\u001B[0m\u001B[0;34m\u001B[0m\u001B[0;34m\u001B[0m\u001B[0m\n",
      "\u001B[0m\u001B[0;32m      3 \u001B[0;31m    \u001B[0mresult\u001B[0m \u001B[0;34m=\u001B[0m \u001B[0mx\u001B[0m \u001B[0;34m+\u001B[0m \u001B[0my\u001B[0m\u001B[0;34m\u001B[0m\u001B[0;34m\u001B[0m\u001B[0m\n",
      "\u001B[0m\u001B[0;32m----> 4 \u001B[0;31m    \u001B[0mresult\u001B[0m \u001B[0;34m=\u001B[0m \u001B[0mresult\u001B[0m \u001B[0;34m/\u001B[0m \u001B[0my\u001B[0m\u001B[0;34m\u001B[0m\u001B[0;34m\u001B[0m\u001B[0m\n",
      "\u001B[0m\u001B[0;32m      5 \u001B[0;31m    \u001B[0;32mreturn\u001B[0m \u001B[0mresult\u001B[0m\u001B[0;34m\u001B[0m\u001B[0;34m\u001B[0m\u001B[0m\n",
      "\u001B[0m\u001B[0;32m      6 \u001B[0;31m\u001B[0;34m\u001B[0m\u001B[0m\n",
      "\u001B[0m\n",
      "--Return--\n",
      "None\n",
      "> \u001B[0;32m/var/folders/zy/pfyfyt6s6hs_xjqcpdbcnr5h0000gn/T/ipykernel_72538/162151361.py\u001B[0m(4)\u001B[0;36mbuggy_function\u001B[0;34m()\u001B[0m\n",
      "\u001B[0;32m      2 \u001B[0;31m    \u001B[0;32mimport\u001B[0m \u001B[0mpdb\u001B[0m\u001B[0;34m;\u001B[0m \u001B[0mpdb\u001B[0m\u001B[0;34m.\u001B[0m\u001B[0mset_trace\u001B[0m\u001B[0;34m(\u001B[0m\u001B[0;34m)\u001B[0m  \u001B[0;31m# Debugger starts here\u001B[0m\u001B[0;34m\u001B[0m\u001B[0;34m\u001B[0m\u001B[0m\n",
      "\u001B[0m\u001B[0;32m      3 \u001B[0;31m    \u001B[0mresult\u001B[0m \u001B[0;34m=\u001B[0m \u001B[0mx\u001B[0m \u001B[0;34m+\u001B[0m \u001B[0my\u001B[0m\u001B[0;34m\u001B[0m\u001B[0;34m\u001B[0m\u001B[0m\n",
      "\u001B[0m\u001B[0;32m----> 4 \u001B[0;31m    \u001B[0mresult\u001B[0m \u001B[0;34m=\u001B[0m \u001B[0mresult\u001B[0m \u001B[0;34m/\u001B[0m \u001B[0my\u001B[0m\u001B[0;34m\u001B[0m\u001B[0;34m\u001B[0m\u001B[0m\n",
      "\u001B[0m\u001B[0;32m      5 \u001B[0;31m    \u001B[0;32mreturn\u001B[0m \u001B[0mresult\u001B[0m\u001B[0;34m\u001B[0m\u001B[0;34m\u001B[0m\u001B[0m\n",
      "\u001B[0m\u001B[0;32m      6 \u001B[0;31m\u001B[0;34m\u001B[0m\u001B[0m\n",
      "\u001B[0m\n",
      "5\n",
      "ZeroDivisionError: division by zero\n",
      "> \u001B[0;32m/var/folders/zy/pfyfyt6s6hs_xjqcpdbcnr5h0000gn/T/ipykernel_72538/162151361.py\u001B[0m(8)\u001B[0;36m<module>\u001B[0;34m()\u001B[0m\n",
      "\u001B[0;32m      4 \u001B[0;31m    \u001B[0mresult\u001B[0m \u001B[0;34m=\u001B[0m \u001B[0mresult\u001B[0m \u001B[0;34m/\u001B[0m \u001B[0my\u001B[0m\u001B[0;34m\u001B[0m\u001B[0;34m\u001B[0m\u001B[0m\n",
      "\u001B[0m\u001B[0;32m      5 \u001B[0;31m    \u001B[0;32mreturn\u001B[0m \u001B[0mresult\u001B[0m\u001B[0;34m\u001B[0m\u001B[0;34m\u001B[0m\u001B[0m\n",
      "\u001B[0m\u001B[0;32m      6 \u001B[0;31m\u001B[0;34m\u001B[0m\u001B[0m\n",
      "\u001B[0m\u001B[0;32m      7 \u001B[0;31m\u001B[0;31m# Run this and interact in debugger (type 'c' to continue)\u001B[0m\u001B[0;34m\u001B[0m\u001B[0;34m\u001B[0m\u001B[0m\n",
      "\u001B[0m\u001B[0;32m----> 8 \u001B[0;31m\u001B[0mbuggy_function\u001B[0m\u001B[0;34m(\u001B[0m\u001B[0;36m5\u001B[0m\u001B[0;34m,\u001B[0m \u001B[0;36m0\u001B[0m\u001B[0;34m)\u001B[0m\u001B[0;34m\u001B[0m\u001B[0;34m\u001B[0m\u001B[0m\n",
      "\u001B[0m\n",
      "--Return--\n",
      "None\n",
      "> \u001B[0;32m/var/folders/zy/pfyfyt6s6hs_xjqcpdbcnr5h0000gn/T/ipykernel_72538/162151361.py\u001B[0m(8)\u001B[0;36m<module>\u001B[0;34m()\u001B[0m\n",
      "\u001B[0;32m      4 \u001B[0;31m    \u001B[0mresult\u001B[0m \u001B[0;34m=\u001B[0m \u001B[0mresult\u001B[0m \u001B[0;34m/\u001B[0m \u001B[0my\u001B[0m\u001B[0;34m\u001B[0m\u001B[0;34m\u001B[0m\u001B[0m\n",
      "\u001B[0m\u001B[0;32m      5 \u001B[0;31m    \u001B[0;32mreturn\u001B[0m \u001B[0mresult\u001B[0m\u001B[0;34m\u001B[0m\u001B[0;34m\u001B[0m\u001B[0m\n",
      "\u001B[0m\u001B[0;32m      6 \u001B[0;31m\u001B[0;34m\u001B[0m\u001B[0m\n",
      "\u001B[0m\u001B[0;32m      7 \u001B[0;31m\u001B[0;31m# Run this and interact in debugger (type 'c' to continue)\u001B[0m\u001B[0;34m\u001B[0m\u001B[0;34m\u001B[0m\u001B[0m\n",
      "\u001B[0m\u001B[0;32m----> 8 \u001B[0;31m\u001B[0mbuggy_function\u001B[0m\u001B[0;34m(\u001B[0m\u001B[0;36m5\u001B[0m\u001B[0;34m,\u001B[0m \u001B[0;36m0\u001B[0m\u001B[0;34m)\u001B[0m\u001B[0;34m\u001B[0m\u001B[0;34m\u001B[0m\u001B[0m\n",
      "\u001B[0m\n",
      "--KeyboardInterrupt--\n",
      "\n",
      "KeyboardInterrupt: Interrupted by user\n"
     ]
    },
    {
     "ename": "ZeroDivisionError",
     "evalue": "division by zero",
     "output_type": "error",
     "traceback": [
      "\u001B[0;31m---------------------------------------------------------------------------\u001B[0m",
      "\u001B[0;31mZeroDivisionError\u001B[0m                         Traceback (most recent call last)",
      "Cell \u001B[0;32mIn[31], line 8\u001B[0m\n\u001B[1;32m      5\u001B[0m     \u001B[38;5;28;01mreturn\u001B[39;00m result\n\u001B[1;32m      7\u001B[0m \u001B[38;5;66;03m# Run this and interact in debugger (type 'c' to continue)\u001B[39;00m\n\u001B[0;32m----> 8\u001B[0m \u001B[43mbuggy_function\u001B[49m\u001B[43m(\u001B[49m\u001B[38;5;241;43m5\u001B[39;49m\u001B[43m,\u001B[49m\u001B[43m \u001B[49m\u001B[38;5;241;43m0\u001B[39;49m\u001B[43m)\u001B[49m\n",
      "Cell \u001B[0;32mIn[31], line 4\u001B[0m, in \u001B[0;36mbuggy_function\u001B[0;34m(x, y)\u001B[0m\n\u001B[1;32m      2\u001B[0m \u001B[38;5;28;01mimport\u001B[39;00m\u001B[38;5;250m \u001B[39m\u001B[38;5;21;01mpdb\u001B[39;00m; pdb\u001B[38;5;241m.\u001B[39mset_trace()  \u001B[38;5;66;03m# Debugger starts here\u001B[39;00m\n\u001B[1;32m      3\u001B[0m result \u001B[38;5;241m=\u001B[39m x \u001B[38;5;241m+\u001B[39m y\n\u001B[0;32m----> 4\u001B[0m result \u001B[38;5;241m=\u001B[39m \u001B[43mresult\u001B[49m\u001B[43m \u001B[49m\u001B[38;5;241;43m/\u001B[39;49m\u001B[43m \u001B[49m\u001B[43my\u001B[49m\n\u001B[1;32m      5\u001B[0m \u001B[38;5;28;01mreturn\u001B[39;00m result\n",
      "\u001B[0;31mZeroDivisionError\u001B[0m: division by zero"
     ]
    }
   ],
   "execution_count": 31
  },
  {
   "metadata": {},
   "cell_type": "code",
   "source": "%debug",
   "id": "888d7f5b13eb5e46",
   "outputs": [],
   "execution_count": null
  },
  {
   "metadata": {},
   "cell_type": "code",
   "source": "",
   "id": "808eea30da31769",
   "outputs": [],
   "execution_count": null
  }
 ],
 "metadata": {
  "kernelspec": {
   "display_name": "Python 3",
   "language": "python",
   "name": "python3"
  },
  "language_info": {
   "codemirror_mode": {
    "name": "ipython",
    "version": 2
   },
   "file_extension": ".py",
   "mimetype": "text/x-python",
   "name": "python",
   "nbconvert_exporter": "python",
   "pygments_lexer": "ipython2",
   "version": "2.7.6"
  }
 },
 "nbformat": 4,
 "nbformat_minor": 5
}
