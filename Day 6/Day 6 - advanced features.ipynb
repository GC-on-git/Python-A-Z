{
 "cells": [
  {
   "metadata": {
    "ExecuteTime": {
     "end_time": "2025-09-29T07:28:35.646678Z",
     "start_time": "2025-09-29T07:28:35.644351Z"
    }
   },
   "cell_type": "markdown",
   "source": [
    "# Advanced Python Features\n",
    "\n",
    "## Objectives\n",
    "- Take advantage of advanced Python features for concise and powerful code.\n"
   ],
   "id": "113ae9dcd24d40b"
  },
  {
   "metadata": {
    "ExecuteTime": {
     "end_time": "2025-09-29T07:32:32.953896Z",
     "start_time": "2025-09-29T07:32:32.949835Z"
    }
   },
   "cell_type": "markdown",
   "source": [
    "## 1. Comprehensions\n",
    "\n",
    "Python provides concise syntax for creating collections using **comprehensions**.\n",
    "\n",
    "- **List comprehensions**\n",
    "- **Set comprehensions**\n",
    "- **Dictionary comprehensions**\n",
    "- Support for **conditionals** and **nesting**."
   ],
   "id": "1ae6f2ff91f223a7"
  },
  {
   "metadata": {
    "ExecuteTime": {
     "end_time": "2025-09-29T07:32:39.995377Z",
     "start_time": "2025-09-29T07:32:39.990776Z"
    }
   },
   "cell_type": "code",
   "source": [
    "# List comprehension\n",
    "squares = [x**2 for x in range(10)]\n",
    "print(squares)\n",
    "\n",
    "# Set comprehension (removes duplicates automatically)\n",
    "unique_squares = {x**2 for x in [1,2,2,3,3,4]}\n",
    "print(unique_squares)\n",
    "\n",
    "# Dict comprehension\n",
    "squares_dict = {x: x**2 for x in range(5)}\n",
    "print(squares_dict)\n",
    "\n",
    "# With conditionals\n",
    "even_squares = [x**2 for x in range(10) if x % 2 == 0]\n",
    "print(even_squares)\n",
    "\n",
    "# Nested comprehension\n",
    "matrix = [[i*j for j in range(3)] for i in range(3)]\n",
    "print(matrix)"
   ],
   "id": "6c2bf462d78645d9",
   "outputs": [
    {
     "name": "stdout",
     "output_type": "stream",
     "text": [
      "[0, 1, 4, 9, 16, 25, 36, 49, 64, 81]\n",
      "{16, 1, 4, 9}\n",
      "{0: 0, 1: 1, 2: 4, 3: 9, 4: 16}\n",
      "[0, 4, 16, 36, 64]\n",
      "[[0, 0, 0], [0, 1, 2], [0, 2, 4]]\n"
     ]
    }
   ],
   "execution_count": 3
  },
  {
   "metadata": {},
   "cell_type": "markdown",
   "source": [
    "## 2. Lambda Functions\n",
    "\n",
    "- **Lambda** = anonymous function (inline, one-liner).\n",
    "- Often used with `map`, `filter`, `sorted`, etc."
   ],
   "id": "2df51b3e29615b04"
  },
  {
   "metadata": {
    "ExecuteTime": {
     "end_time": "2025-09-29T07:32:49.814664Z",
     "start_time": "2025-09-29T07:32:49.811290Z"
    }
   },
   "cell_type": "code",
   "source": [
    "# Normal function\n",
    "def add(x, y):\n",
    "    return x + y\n",
    "\n",
    "print(add(2, 3))\n",
    "\n",
    "# Lambda function\n",
    "add_lambda = lambda x, y: x + y\n",
    "print(add_lambda(2, 3))\n",
    "\n",
    "# With sorted\n",
    "words = [\"banana\", \"apple\", \"cherry\"]\n",
    "print(sorted(words, key=lambda w: len(w)))"
   ],
   "id": "98bbc67525c032ac",
   "outputs": [
    {
     "name": "stdout",
     "output_type": "stream",
     "text": [
      "5\n",
      "5\n",
      "['apple', 'banana', 'cherry']\n"
     ]
    }
   ],
   "execution_count": 4
  },
  {
   "metadata": {},
   "cell_type": "markdown",
   "source": [
    "## 3. Functional Programming Tools\n",
    "\n",
    "- `map` → apply a function to each element.\n",
    "- `filter` → keep elements matching a condition.\n",
    "- `reduce` → reduce sequence to single value.\n",
    "- `zip` → combine iterables.\n",
    "- `enumerate` → iterate with index."
   ],
   "id": "5424f0ff9879589d"
  },
  {
   "metadata": {
    "ExecuteTime": {
     "end_time": "2025-09-29T07:34:27.833779Z",
     "start_time": "2025-09-29T07:34:27.830513Z"
    }
   },
   "cell_type": "code",
   "source": [
    "from functools import reduce\n",
    "\n",
    "# map\n",
    "numbers = [1, 2, 3, 4]\n",
    "squared = list(map(lambda x: x**2, numbers))\n",
    "print(squared)\n",
    "\n",
    "# filter\n",
    "evens = list(filter(lambda x: x % 2 == 0, numbers))\n",
    "print(evens)\n",
    "\n",
    "# reduce\n",
    "product = reduce(lambda x, y: x * y, numbers)\n",
    "print(product)\n",
    "\n",
    "# zip\n",
    "names = [\"Alice\", \"Bob\", \"Charlie\"]\n",
    "scores = [85, 90, 78]\n",
    "combined = list(zip(names, scores))\n",
    "print(combined)\n",
    "\n",
    "# enumerate\n",
    "for idx, name in enumerate(names, start=1):\n",
    "    print(idx, name)"
   ],
   "id": "2aa1d712e211f6c2",
   "outputs": [
    {
     "name": "stdout",
     "output_type": "stream",
     "text": [
      "[1, 4, 9, 16]\n",
      "[2, 4]\n",
      "24\n",
      "[('Alice', 85), ('Bob', 90), ('Charlie', 78)]\n",
      "1 Alice\n",
      "2 Bob\n",
      "3 Charlie\n"
     ]
    }
   ],
   "execution_count": 6
  },
  {
   "metadata": {},
   "cell_type": "markdown",
   "source": [
    "## 4. Decorators\n",
    "\n",
    "- Functions that **wrap other functions** to add behavior.\n",
    "- Python provides built-in decorators: `@staticmethod`, `@classmethod`."
   ],
   "id": "f51762e288f3c553"
  },
  {
   "metadata": {
    "ExecuteTime": {
     "end_time": "2025-09-29T07:34:36.659033Z",
     "start_time": "2025-09-29T07:34:36.653762Z"
    }
   },
   "cell_type": "code",
   "source": [
    "# Simple decorator\n",
    "def logger(func):\n",
    "    def wrapper(*args, **kwargs):\n",
    "        print(f\"Calling {func.__name__} with {args}, {kwargs}\")\n",
    "        result = func(*args, **kwargs)\n",
    "        print(f\"{func.__name__} returned {result}\")\n",
    "        return result\n",
    "    return wrapper\n",
    "\n",
    "@logger\n",
    "def multiply(a, b):\n",
    "    return a * b\n",
    "\n",
    "multiply(3, 4)"
   ],
   "id": "be85c0816940f759",
   "outputs": [
    {
     "name": "stdout",
     "output_type": "stream",
     "text": [
      "Calling multiply with (3, 4), {}\n",
      "multiply returned 12\n"
     ]
    },
    {
     "data": {
      "text/plain": [
       "12"
      ]
     },
     "execution_count": 7,
     "metadata": {},
     "output_type": "execute_result"
    }
   ],
   "execution_count": 7
  },
  {
   "metadata": {},
   "cell_type": "markdown",
   "source": [
    "#### staticmethod vs classmethod\n",
    "@staticmethod:\n",
    "* Doesn’t take self or cls as the first argument.\n",
    "* Behaves like a regular function inside a class, just namespaced within it.\n",
    "* Used when the method doesn’t need access to the instance or class.\n",
    "\n",
    "@classmethod:\n",
    "\n",
    "* Takes cls as the first argument (refers to the class, not the instance).\n",
    "* Can access and modify class-level state.\n",
    "* Often used for alternative constructors.\n",
    "\n",
    "In short:\n",
    "\n",
    "Use staticmethod when the method is independent.\n",
    "\n",
    "Use classmethod when you need the class itself."
   ],
   "id": "4531d7fdc98caaf8"
  },
  {
   "metadata": {
    "ExecuteTime": {
     "end_time": "2025-09-29T07:37:32.001903Z",
     "start_time": "2025-09-29T07:37:31.998804Z"
    }
   },
   "cell_type": "code",
   "source": [
    "# staticmethod vs classmethod\n",
    "class Example:\n",
    "    def __init__(self, value):\n",
    "        self.value = value\n",
    "\n",
    "    @staticmethod\n",
    "    def greet():\n",
    "        print(\"Hello from static method!\")\n",
    "\n",
    "    @classmethod\n",
    "    def create_with_double(cls, value):\n",
    "        return cls(value * 2)\n",
    "\n",
    "# staticmethod\n",
    "Example.greet()\n",
    "\n",
    "# classmethod\n",
    "obj = Example.create_with_double(5)\n",
    "print(obj.value)"
   ],
   "id": "1268a049b8125fa",
   "outputs": [
    {
     "name": "stdout",
     "output_type": "stream",
     "text": [
      "Hello from static method!\n",
      "10\n"
     ]
    }
   ],
   "execution_count": 9
  },
  {
   "metadata": {},
   "cell_type": "markdown",
   "source": [
    "## 5. File and OS Operations\n",
    "Modules:\n",
    "- `os` → interact with the file system.\n",
    "- `shutil` → high-level file operations."
   ],
   "id": "f9669cb317a9f4d7"
  },
  {
   "metadata": {
    "ExecuteTime": {
     "end_time": "2025-09-29T07:37:41.817626Z",
     "start_time": "2025-09-29T07:37:41.812294Z"
    }
   },
   "cell_type": "code",
   "source": [
    "import os, shutil\n",
    "\n",
    "# Current directory\n",
    "print(\"Current directory:\", os.getcwd())\n",
    "\n",
    "# List files\n",
    "print(\"Files:\", os.listdir(\".\"))\n",
    "\n",
    "# Make a new folder (if not exists)\n",
    "if not os.path.exists(\"demo_folder\"):\n",
    "    os.mkdir(\"demo_folder\")\n",
    "\n",
    "# Create a file\n",
    "with open(\"demo_folder/sample.txt\", \"w\") as f:\n",
    "    f.write(\"Hello, world!\")\n",
    "\n",
    "# Copy file\n",
    "shutil.copy(\"demo_folder/sample.txt\", \"demo_folder/copy.txt\")\n",
    "\n",
    "# Cleanup\n",
    "shutil.rmtree(\"demo_folder\")"
   ],
   "id": "4690b58610be3689",
   "outputs": [
    {
     "name": "stdout",
     "output_type": "stream",
     "text": [
      "Current directory: /Users/anuganch/Desktop/test\n",
      "Files: ['advanced features.ipynb', '.venv', 'error.ipynb', '.idea']\n"
     ]
    }
   ],
   "execution_count": 10
  },
  {
   "metadata": {},
   "cell_type": "markdown",
   "source": [
    "## 6. Regular Expressions\n",
    "\n",
    "The `re` module allows powerful pattern matching.\n",
    "\n",
    "- `re.match` → from beginning.\n",
    "- `re.search` → anywhere in string.\n",
    "- `re.findall` → all matches.\n",
    "- `re.sub` → replace."
   ],
   "id": "c076d3b3c4947d5d"
  },
  {
   "metadata": {
    "ExecuteTime": {
     "end_time": "2025-09-29T07:39:14.720422Z",
     "start_time": "2025-09-29T07:39:14.717493Z"
    }
   },
   "cell_type": "code",
   "source": [
    "import re\n",
    "\n",
    "text = \"Contact us at support@example.com or sales@example.org\"\n",
    "\n",
    "# Find email addresses\n",
    "emails = re.findall(r\"[\\w._%+-]+@[\\w.-]+\\.[a-zA-Z]{2,}\", text)\n",
    "print(emails)"
   ],
   "id": "b959093ca48ec0ef",
   "outputs": [
    {
     "name": "stdout",
     "output_type": "stream",
     "text": [
      "['support@example.com', 'sales@example.org']\n"
     ]
    }
   ],
   "execution_count": 14
  },
  {
   "metadata": {},
   "cell_type": "code",
   "source": [
    "\n",
    "# Search\n",
    "match = re.search(r\"support\", text)\n",
    "print(\"Found at index:\", match.start())"
   ],
   "id": "d1d72ad6a8085961",
   "execution_count": null,
   "outputs": []
  },
  {
   "metadata": {
    "ExecuteTime": {
     "end_time": "2025-09-29T07:39:27.246990Z",
     "start_time": "2025-09-29T07:39:27.244453Z"
    }
   },
   "cell_type": "code",
   "source": [
    "# Replace\n",
    "masked = re.sub(r\"@example\\.(com|org)\", \"@hidden.com\", text)\n",
    "print(masked)"
   ],
   "id": "70950268bd01da36",
   "outputs": [
    {
     "name": "stdout",
     "output_type": "stream",
     "text": [
      "Contact us at support@hidden.com or sales@hidden.com\n"
     ]
    }
   ],
   "execution_count": 16
  },
  {
   "metadata": {},
   "cell_type": "code",
   "outputs": [],
   "execution_count": null,
   "source": "",
   "id": "fdf1d6108090faf4"
  }
 ],
 "metadata": {
  "kernelspec": {
   "display_name": "Python 3",
   "language": "python",
   "name": "python3"
  },
  "language_info": {
   "codemirror_mode": {
    "name": "ipython",
    "version": 2
   },
   "file_extension": ".py",
   "mimetype": "text/x-python",
   "name": "python",
   "nbconvert_exporter": "python",
   "pygments_lexer": "ipython2",
   "version": "2.7.6"
  }
 },
 "nbformat": 4,
 "nbformat_minor": 5
}
