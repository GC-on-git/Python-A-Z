{
 "cells": [
  {
   "metadata": {
    "ExecuteTime": {
     "end_time": "2025-09-29T07:28:35.646678Z",
     "start_time": "2025-09-29T07:28:35.644351Z"
    }
   },
   "cell_type": "markdown",
   "source": [
    "# Advanced Python Features\n",
    "\n",
    "## Objectives\n",
    "- Take advantage of advanced Python features for concise and powerful code.\n"
   ],
   "id": "113ae9dcd24d40b"
  },
  {
   "metadata": {
    "ExecuteTime": {
     "end_time": "2025-09-29T07:32:32.953896Z",
     "start_time": "2025-09-29T07:32:32.949835Z"
    }
   },
   "cell_type": "markdown",
   "source": [
    "## 1. Comprehensions\n",
    "\n",
    "Python provides concise syntax for creating collections using **comprehensions**.\n",
    "\n",
    "- **List comprehensions**\n",
    "- **Set comprehensions**\n",
    "- **Dictionary comprehensions**\n",
    "- Support for **conditionals** and **nesting**."
   ],
   "id": "1ae6f2ff91f223a7"
  },
  {
   "metadata": {
    "ExecuteTime": {
     "end_time": "2025-10-07T14:04:34.925917Z",
     "start_time": "2025-10-07T14:04:34.919316Z"
    }
   },
   "cell_type": "code",
   "source": [
    "# List comprehension\n",
    "squares = [x ** 2 for x in range(8)]\n",
    "print(squares)"
   ],
   "id": "703cf606be2cd070",
   "outputs": [
    {
     "name": "stdout",
     "output_type": "stream",
     "text": [
      "[0, 1, 4, 9, 16, 25, 36, 49]\n"
     ]
    }
   ],
   "execution_count": 2
  },
  {
   "metadata": {
    "ExecuteTime": {
     "end_time": "2025-10-07T14:04:55.891440Z",
     "start_time": "2025-10-07T14:04:55.885545Z"
    }
   },
   "cell_type": "code",
   "source": [
    "# Set comprehension (removes duplicates automatically)\n",
    "unique_squares = {x ** 2 for x in [1, 2, 2, 3, 3, 4]}\n",
    "print(unique_squares)"
   ],
   "id": "b0bd55202973bf56",
   "outputs": [
    {
     "name": "stdout",
     "output_type": "stream",
     "text": [
      "{16, 1, 4, 9}\n"
     ]
    }
   ],
   "execution_count": 3
  },
  {
   "metadata": {
    "ExecuteTime": {
     "end_time": "2025-10-07T14:05:17.699656Z",
     "start_time": "2025-10-07T14:05:17.696065Z"
    }
   },
   "cell_type": "code",
   "source": [
    "# Dict comprehension\n",
    "squares_dict = {x: x ** 2 for x in range(5)}\n",
    "print(squares_dict)"
   ],
   "id": "63d3b68239eb99fd",
   "outputs": [
    {
     "name": "stdout",
     "output_type": "stream",
     "text": [
      "{0: 0, 1: 1, 2: 4, 3: 9, 4: 16}\n"
     ]
    }
   ],
   "execution_count": 4
  },
  {
   "metadata": {
    "ExecuteTime": {
     "end_time": "2025-10-07T14:05:40.159684Z",
     "start_time": "2025-10-07T14:05:40.156305Z"
    }
   },
   "cell_type": "code",
   "source": [
    "# With conditionals\n",
    "even_squares = [x ** 2 for x in range(10) if x % 2 == 0]\n",
    "print(even_squares)"
   ],
   "id": "987ff962a69a937c",
   "outputs": [
    {
     "name": "stdout",
     "output_type": "stream",
     "text": [
      "[0, 4, 16, 36, 64]\n"
     ]
    }
   ],
   "execution_count": 5
  },
  {
   "metadata": {
    "ExecuteTime": {
     "end_time": "2025-10-07T14:06:06.300079Z",
     "start_time": "2025-10-07T14:06:06.297287Z"
    }
   },
   "cell_type": "code",
   "source": [
    "# Nested comprehension\n",
    "matrix = [[i * j for j in range(3)] for i in range(3)]\n",
    "print(matrix)"
   ],
   "id": "6c2bf462d78645d9",
   "outputs": [
    {
     "name": "stdout",
     "output_type": "stream",
     "text": [
      "[[0, 0, 0], [0, 1, 2], [0, 2, 4]]\n"
     ]
    }
   ],
   "execution_count": 6
  },
  {
   "metadata": {},
   "cell_type": "markdown",
   "source": [
    "## 2. Lambda Functions\n",
    "\n",
    "- **Lambda** = anonymous function (inline, one-liner).\n",
    "- Often used with `map`, `filter`, `sorted`, etc."
   ],
   "id": "2df51b3e29615b04"
  },
  {
   "metadata": {
    "ExecuteTime": {
     "end_time": "2025-10-07T14:06:49.127553Z",
     "start_time": "2025-10-07T14:06:49.121251Z"
    }
   },
   "cell_type": "code",
   "source": [
    "# Normal function\n",
    "def add(x, y):\n",
    "    return x + y\n",
    "\n",
    "\n",
    "print(add(2, 3))"
   ],
   "id": "7059b828f7fb963b",
   "outputs": [
    {
     "name": "stdout",
     "output_type": "stream",
     "text": [
      "5\n"
     ]
    }
   ],
   "execution_count": 7
  },
  {
   "metadata": {
    "ExecuteTime": {
     "end_time": "2025-10-07T14:07:03.023874Z",
     "start_time": "2025-10-07T14:07:03.018938Z"
    }
   },
   "cell_type": "code",
   "source": [
    "# Lambda function\n",
    "add_lambda = lambda x, y: x + y\n",
    "print(add_lambda(2, 3))"
   ],
   "id": "de5c49261c69c226",
   "outputs": [
    {
     "name": "stdout",
     "output_type": "stream",
     "text": [
      "5\n"
     ]
    }
   ],
   "execution_count": 8
  },
  {
   "metadata": {
    "ExecuteTime": {
     "end_time": "2025-10-07T14:07:32.927692Z",
     "start_time": "2025-10-07T14:07:32.925152Z"
    }
   },
   "cell_type": "code",
   "source": [
    "# With sorted\n",
    "words = [\"banana\", \"apple\", \"cherry\"]\n",
    "print(sorted(words, key=lambda w: len(w)))"
   ],
   "id": "98bbc67525c032ac",
   "outputs": [
    {
     "name": "stdout",
     "output_type": "stream",
     "text": [
      "['apple', 'banana', 'cherry']\n"
     ]
    }
   ],
   "execution_count": 9
  },
  {
   "metadata": {},
   "cell_type": "markdown",
   "source": [
    "## 3. Functional Programming Tools\n",
    "\n",
    "- `map` → apply a function to each element.\n",
    "- `filter` → keep elements matching a condition.\n",
    "- `reduce` → reduce sequence to single value.\n",
    "- `zip` → combine iterables.\n",
    "- `enumerate` → iterate with index."
   ],
   "id": "5424f0ff9879589d"
  },
  {
   "metadata": {
    "ExecuteTime": {
     "end_time": "2025-10-07T14:08:13.499145Z",
     "start_time": "2025-10-07T14:08:13.496252Z"
    }
   },
   "cell_type": "code",
   "source": "from functools import reduce",
   "id": "585f0d40abae9da1",
   "outputs": [],
   "execution_count": 10
  },
  {
   "metadata": {
    "ExecuteTime": {
     "end_time": "2025-10-07T14:08:45.289973Z",
     "start_time": "2025-10-07T14:08:45.283676Z"
    }
   },
   "cell_type": "code",
   "source": [
    "# map\n",
    "numbers = [1, 2, 5, 4]\n",
    "squared = list(map(lambda x: x ** 3, numbers))\n",
    "print(squared)"
   ],
   "id": "8beac727f9bd983d",
   "outputs": [
    {
     "name": "stdout",
     "output_type": "stream",
     "text": [
      "[1, 8, 125, 64]\n"
     ]
    }
   ],
   "execution_count": 13
  },
  {
   "metadata": {
    "ExecuteTime": {
     "end_time": "2025-10-07T14:09:12.860270Z",
     "start_time": "2025-10-07T14:09:12.850507Z"
    }
   },
   "cell_type": "code",
   "source": [
    "# filter\n",
    "evens = list(filter(lambda x: x % 2 != 0, numbers))\n",
    "print(evens)"
   ],
   "id": "8536d0bdb7e7bd13",
   "outputs": [
    {
     "name": "stdout",
     "output_type": "stream",
     "text": [
      "[1, 5]\n"
     ]
    }
   ],
   "execution_count": 15
  },
  {
   "metadata": {
    "ExecuteTime": {
     "end_time": "2025-10-07T14:10:33.614007Z",
     "start_time": "2025-10-07T14:10:33.611317Z"
    }
   },
   "cell_type": "code",
   "source": [
    "# reduce\n",
    "numbers = [2, 3, 4, 5]\n",
    "product = reduce(lambda x, y: x * y, numbers)\n",
    "print(product)"
   ],
   "id": "d53ac8e37b54f829",
   "outputs": [
    {
     "name": "stdout",
     "output_type": "stream",
     "text": [
      "120\n"
     ]
    }
   ],
   "execution_count": 17
  },
  {
   "metadata": {},
   "cell_type": "markdown",
   "source": [
    "2,3,4,5\n",
    "\n",
    "6,4,5\n",
    "\n",
    "24,5\n",
    "\n",
    "120"
   ],
   "id": "c8788eea77e7d991"
  },
  {
   "metadata": {
    "ExecuteTime": {
     "end_time": "2025-10-07T14:11:59.943067Z",
     "start_time": "2025-10-07T14:11:59.926880Z"
    }
   },
   "cell_type": "code",
   "source": [
    "# zip\n",
    "names = [\"Alice\", \"Bob\", \"Charlie\", \"Dean\"]\n",
    "scores = [85, 90, 78, 50]\n",
    "age = [10, 20, 30, 40]\n",
    "combined = list(zip(names, scores, age))\n",
    "print(combined)"
   ],
   "id": "e2fbb1cd6dd64ffa",
   "outputs": [
    {
     "name": "stdout",
     "output_type": "stream",
     "text": [
      "[('Alice', 85, 10), ('Bob', 90, 20), ('Charlie', 78, 30), ('Dean', 50, 40)]\n"
     ]
    }
   ],
   "execution_count": 21
  },
  {
   "metadata": {
    "ExecuteTime": {
     "end_time": "2025-10-07T14:12:16.954372Z",
     "start_time": "2025-10-07T14:12:16.948019Z"
    }
   },
   "cell_type": "code",
   "source": [
    "# enumerate\n",
    "for idx, name in enumerate(names, start=1):\n",
    "    print(idx, name)"
   ],
   "id": "2aa1d712e211f6c2",
   "outputs": [
    {
     "name": "stdout",
     "output_type": "stream",
     "text": [
      "1 Alice\n",
      "2 Bob\n",
      "3 Charlie\n",
      "4 Dean\n"
     ]
    }
   ],
   "execution_count": 22
  },
  {
   "metadata": {},
   "cell_type": "markdown",
   "source": [
    "## 4. Decorators\n",
    "\n",
    "- Functions that **wrap other functions** to add behavior.\n",
    "- Python provides built-in decorators: `@staticmethod`, `@classmethod`."
   ],
   "id": "f51762e288f3c553"
  },
  {
   "metadata": {
    "ExecuteTime": {
     "end_time": "2025-10-07T14:12:55.010071Z",
     "start_time": "2025-10-07T14:12:54.988964Z"
    }
   },
   "cell_type": "code",
   "source": [
    "# Simple decorator\n",
    "def logger(func):\n",
    "    def wrapper(*args, **kwargs):\n",
    "        print(f\"Calling {func.__name__} with {args}, {kwargs}\")\n",
    "        result = func(*args, **kwargs)\n",
    "        print(f\"{func.__name__} returned {result}\")\n",
    "        return result\n",
    "\n",
    "    return wrapper\n",
    "\n",
    "\n",
    "@logger\n",
    "def multiply(a, b):\n",
    "    return a * b\n",
    "\n",
    "\n",
    "multiply(3, 4)"
   ],
   "id": "be85c0816940f759",
   "outputs": [
    {
     "name": "stdout",
     "output_type": "stream",
     "text": [
      "Calling multiply with (3, 4), {}\n",
      "multiply returned 12\n"
     ]
    },
    {
     "data": {
      "text/plain": [
       "12"
      ]
     },
     "execution_count": 23,
     "metadata": {},
     "output_type": "execute_result"
    }
   ],
   "execution_count": 23
  },
  {
   "metadata": {},
   "cell_type": "markdown",
   "source": [
    "#### staticmethod vs classmethod\n",
    "@staticmethod:\n",
    "* Doesn’t take self or cls as the first argument.\n",
    "* Behaves like a regular function inside a class, just namespaced within it.\n",
    "* Used when the method doesn’t need access to the instance or class.\n",
    "\n",
    "@classmethod:\n",
    "\n",
    "* Takes cls as the first argument (refers to the class, not the instance).\n",
    "* Can access and modify class-level state.\n",
    "* Often used for alternative constructors.\n",
    "\n",
    "In short:\n",
    "\n",
    "Use staticmethod when the method is independent.\n",
    "\n",
    "Use classmethod when you need the class itself."
   ],
   "id": "4531d7fdc98caaf8"
  },
  {
   "metadata": {
    "ExecuteTime": {
     "end_time": "2025-10-07T14:13:54.571250Z",
     "start_time": "2025-10-07T14:13:54.566160Z"
    }
   },
   "cell_type": "code",
   "source": [
    "# staticmethod vs classmethod\n",
    "class Example:\n",
    "    def __init__(self, value):\n",
    "        self.value = value\n",
    "\n",
    "    @staticmethod\n",
    "    def greet():\n",
    "        print(\"Hello from static method!\")\n",
    "\n",
    "    @classmethod\n",
    "    def create_with_double(cls, value):\n",
    "        return cls(value * 2)\n",
    "\n",
    "\n",
    "# staticmethod\n",
    "Example.greet()\n",
    "\n",
    "# classmethod\n",
    "obj = Example.create_with_double(5)\n",
    "print(obj.value)"
   ],
   "id": "1268a049b8125fa",
   "outputs": [
    {
     "name": "stdout",
     "output_type": "stream",
     "text": [
      "Hello from static method!\n",
      "10\n"
     ]
    }
   ],
   "execution_count": 24
  },
  {
   "metadata": {},
   "cell_type": "markdown",
   "source": [
    "## 5. File and OS Operations\n",
    "Modules:\n",
    "- `os` → interact with the file system.\n",
    "- `shutil` → high-level file operations."
   ],
   "id": "f9669cb317a9f4d7"
  },
  {
   "metadata": {
    "ExecuteTime": {
     "end_time": "2025-10-07T14:16:45.370672Z",
     "start_time": "2025-10-07T14:16:45.344494Z"
    }
   },
   "cell_type": "code",
   "source": [
    "import os, shutil\n",
    "\n",
    "# Current directory\n",
    "print(\"Current directory:\", os.getcwd())"
   ],
   "id": "dd09a1fae52a916c",
   "outputs": [
    {
     "name": "stdout",
     "output_type": "stream",
     "text": [
      "Current directory: /Users/anuraggc/PycharmProjects/PythonProject/PythonFromScratch/Day 6\n"
     ]
    }
   ],
   "execution_count": 29
  },
  {
   "metadata": {
    "ExecuteTime": {
     "end_time": "2025-10-07T14:17:31.150172Z",
     "start_time": "2025-10-07T14:17:31.142609Z"
    }
   },
   "cell_type": "code",
   "source": [
    "# List files\n",
    "print(\"Files:\", os.listdir(\".\"))"
   ],
   "id": "39e27b7192ec9004",
   "outputs": [
    {
     "name": "stdout",
     "output_type": "stream",
     "text": [
      "Files: ['copy.txt', 'sample.txt']\n"
     ]
    }
   ],
   "execution_count": 32
  },
  {
   "metadata": {
    "ExecuteTime": {
     "end_time": "2025-10-07T14:16:12.129897Z",
     "start_time": "2025-10-07T14:16:12.119002Z"
    }
   },
   "cell_type": "code",
   "source": [
    "# Make a new folder (if not exists)\n",
    "if not os.path.exists(\"demo_folder\"):\n",
    "    os.mkdir(\"demo_folder\")"
   ],
   "id": "95c5428e382083ea",
   "outputs": [],
   "execution_count": 27
  },
  {
   "metadata": {
    "ExecuteTime": {
     "end_time": "2025-10-07T14:16:37.015434Z",
     "start_time": "2025-10-07T14:16:37.004620Z"
    }
   },
   "cell_type": "code",
   "source": [
    "# Create a file\n",
    "with open(\"demo_folder/sample.txt\", \"w\") as f:\n",
    "    f.write(\"Hello, world!\")"
   ],
   "id": "1321c46eb97c1aa2",
   "outputs": [],
   "execution_count": 28
  },
  {
   "metadata": {
    "ExecuteTime": {
     "end_time": "2025-10-07T14:16:56.114229Z",
     "start_time": "2025-10-07T14:16:56.105076Z"
    }
   },
   "cell_type": "code",
   "source": [
    "# Copy file\n",
    "shutil.copy(\"demo_folder/sample.txt\", \"demo_folder/copy.txt\")"
   ],
   "id": "cd8dc41ce9d06454",
   "outputs": [
    {
     "data": {
      "text/plain": [
       "'demo_folder/copy.txt'"
      ]
     },
     "execution_count": 30,
     "metadata": {},
     "output_type": "execute_result"
    }
   ],
   "execution_count": 30
  },
  {
   "metadata": {},
   "cell_type": "code",
   "source": [
    "# Cleanup\n",
    "shutil.rmtree(\"demo_folder\")"
   ],
   "id": "4690b58610be3689",
   "outputs": [],
   "execution_count": null
  },
  {
   "metadata": {},
   "cell_type": "markdown",
   "source": [
    "## 6. Regular Expressions\n",
    "\n",
    "The `re` module allows powerful pattern matching.\n",
    "\n",
    "- `re.match` → from beginning.\n",
    "- `re.search` → anywhere in string.\n",
    "- `re.findall` → all matches.\n",
    "- `re.sub` → replace."
   ],
   "id": "c076d3b3c4947d5d"
  },
  {
   "metadata": {
    "ExecuteTime": {
     "end_time": "2025-10-07T14:18:43.083485Z",
     "start_time": "2025-10-07T14:18:43.080160Z"
    }
   },
   "cell_type": "code",
   "source": [
    "import re\n",
    "\n",
    "text = \"Contact us at support@example.com or sales@example.org\"\n"
   ],
   "id": "d1fb5d83dac7edde",
   "outputs": [],
   "execution_count": 34
  },
  {
   "metadata": {
    "ExecuteTime": {
     "end_time": "2025-10-07T14:18:43.743972Z",
     "start_time": "2025-10-07T14:18:43.740235Z"
    }
   },
   "cell_type": "code",
   "source": [
    "# Find email addresses\n",
    "emails = re.findall(r\"[\\w._%+-]+@[\\w.-]+\\.[a-zA-Z]{2,}\", text)\n",
    "print(emails)"
   ],
   "id": "b959093ca48ec0ef",
   "outputs": [
    {
     "name": "stdout",
     "output_type": "stream",
     "text": [
      "['support@example.com', 'sales@example.org']\n"
     ]
    }
   ],
   "execution_count": 35
  },
  {
   "metadata": {
    "ExecuteTime": {
     "end_time": "2025-10-07T14:18:58.740213Z",
     "start_time": "2025-10-07T14:18:58.736947Z"
    }
   },
   "cell_type": "code",
   "source": [
    "# Search\n",
    "match = re.search(r\"support\", text)\n",
    "print(\"Found at index:\", match.start())"
   ],
   "id": "d1d72ad6a8085961",
   "outputs": [
    {
     "name": "stdout",
     "output_type": "stream",
     "text": [
      "Found at index: 14\n"
     ]
    }
   ],
   "execution_count": 36
  },
  {
   "metadata": {
    "ExecuteTime": {
     "end_time": "2025-10-07T14:19:25.491979Z",
     "start_time": "2025-10-07T14:19:25.484877Z"
    }
   },
   "cell_type": "code",
   "source": [
    "# Replace\n",
    "masked = re.sub(r\"@example\\.(com|org)\", \"@hidden.com\", text)\n",
    "print(masked)"
   ],
   "id": "70950268bd01da36",
   "outputs": [
    {
     "name": "stdout",
     "output_type": "stream",
     "text": [
      "Contact us at support@hidden.com or sales@hidden.com\n"
     ]
    }
   ],
   "execution_count": 37
  },
  {
   "metadata": {},
   "cell_type": "code",
   "source": "",
   "id": "fdf1d6108090faf4",
   "outputs": [],
   "execution_count": null
  }
 ],
 "metadata": {
  "kernelspec": {
   "display_name": "Python 3",
   "language": "python",
   "name": "python3"
  },
  "language_info": {
   "codemirror_mode": {
    "name": "ipython",
    "version": 2
   },
   "file_extension": ".py",
   "mimetype": "text/x-python",
   "name": "python",
   "nbconvert_exporter": "python",
   "pygments_lexer": "ipython2",
   "version": "2.7.6"
  }
 },
 "nbformat": 4,
 "nbformat_minor": 5
}
