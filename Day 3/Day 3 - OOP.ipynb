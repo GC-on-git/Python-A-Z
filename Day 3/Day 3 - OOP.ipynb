{
 "cells": [
  {
   "metadata": {},
   "cell_type": "markdown",
   "source": "# Object Oriented Programming",
   "id": "a8b6c4f8cbf32fb1"
  },
  {
   "metadata": {},
   "cell_type": "markdown",
   "source": "OOP offers a better way for us to write large pieces of functional code and work with them better. Two initial things to know in OOPs are - Classes and Objects.",
   "id": "cfcd35ba6cbd68a2"
  },
  {
   "metadata": {},
   "cell_type": "markdown",
   "source": [
    "An object is something that has some values and some methods. Class is basically something that has the blueprint of an object.\n",
    "\n",
    "We create a class when we want to have a user defined object, which has not previously been defined anywhere, or in any module."
   ],
   "id": "c801197584fa53b6"
  },
  {
   "metadata": {
    "ExecuteTime": {
     "end_time": "2025-08-28T14:30:22.205926Z",
     "start_time": "2025-08-28T14:30:22.202923Z"
    }
   },
   "cell_type": "code",
   "source": [
    "import random\n",
    "\n",
    "class Person:\n",
    "    def __init__(self, name, age):\n",
    "        self.name = name\n",
    "        self._age = age"
   ],
   "id": "f9a13546885844f0",
   "outputs": [],
   "execution_count": 63
  },
  {
   "metadata": {},
   "cell_type": "markdown",
   "source": [
    "```__init__``` initialises a clas, and when an object is generated for that particular class, the code inside init runs by default. parameters in init are compulsory parameters. It is a special python function.\n",
    "\n",
    "```self``` refers to the current instance of the class, and it is used to access the variables and methods available in the class."
   ],
   "id": "d148d24330009b52"
  },
  {
   "metadata": {},
   "cell_type": "markdown",
   "source": [
    "## Class member access\n",
    "* public member : access anywhere, both inside and outside the class\n",
    "* protected member : access only inside a child class (This is not very much enforced in python)\n",
    "* private member : access only inside that particular class"
   ],
   "id": "8a46461c5955cd9c"
  },
  {
   "metadata": {
    "ExecuteTime": {
     "end_time": "2025-08-28T14:30:41.921567Z",
     "start_time": "2025-08-28T14:30:41.917792Z"
    }
   },
   "cell_type": "code",
   "source": [
    "class PersonTax(Person):\n",
    "    def __init__(self, name, age, amount, time, rate):\n",
    "        super().__init__(name, age)\n",
    "        self.amount = amount\n",
    "        self.time = time\n",
    "        self.__rate = rate\n",
    "    def tax(self):\n",
    "        return self.__rate * self.amount * self.time / 100"
   ],
   "id": "9cf2f1dd97531726",
   "outputs": [],
   "execution_count": 66
  },
  {
   "metadata": {
    "ExecuteTime": {
     "end_time": "2025-08-28T14:30:58.019099Z",
     "start_time": "2025-08-28T14:30:58.013806Z"
    }
   },
   "cell_type": "code",
   "source": [
    "per_tax1 = PersonTax(\"GC\",22, 1000, 4 , 4)\n",
    "per_tax1.rate = 4\n",
    "\n",
    "per_tax1._age"
   ],
   "id": "9384725e2ece7418",
   "outputs": [
    {
     "data": {
      "text/plain": [
       "22"
      ]
     },
     "execution_count": 68,
     "metadata": {},
     "output_type": "execute_result"
    }
   ],
   "execution_count": 68
  },
  {
   "cell_type": "code",
   "id": "initial_id",
   "metadata": {
    "collapsed": true,
    "ExecuteTime": {
     "end_time": "2025-08-28T14:30:33.513730Z",
     "start_time": "2025-08-28T14:30:33.510346Z"
    }
   },
   "source": [
    "Person1 = Person(\"Anurag\", 22)\n",
    "print(type(Person1))"
   ],
   "outputs": [
    {
     "name": "stdout",
     "output_type": "stream",
     "text": [
      "<class '__main__.Person'>\n"
     ]
    }
   ],
   "execution_count": 64
  },
  {
   "metadata": {
    "ExecuteTime": {
     "end_time": "2025-08-28T14:31:08.187116Z",
     "start_time": "2025-08-28T14:31:08.183045Z"
    }
   },
   "cell_type": "code",
   "source": "Person1.name, Person1._age",
   "id": "f7668dc9560cd77c",
   "outputs": [
    {
     "data": {
      "text/plain": [
       "('Anurag', 22)"
      ]
     },
     "execution_count": 69,
     "metadata": {},
     "output_type": "execute_result"
    }
   ],
   "execution_count": 69
  },
  {
   "metadata": {
    "ExecuteTime": {
     "end_time": "2025-08-28T14:00:44.627558Z",
     "start_time": "2025-08-28T14:00:44.623607Z"
    }
   },
   "cell_type": "code",
   "source": [
    "Person2 = Person(\"Bhanurag\", 12)\n",
    "print(type(Person2))"
   ],
   "id": "c8d60314a9a1304c",
   "outputs": [
    {
     "name": "stdout",
     "output_type": "stream",
     "text": [
      "<class '__main__.Person'>\n"
     ]
    }
   ],
   "execution_count": 12
  },
  {
   "metadata": {
    "ExecuteTime": {
     "end_time": "2025-08-28T14:00:54.815293Z",
     "start_time": "2025-08-28T14:00:54.811216Z"
    }
   },
   "cell_type": "code",
   "source": "Person2, Person1",
   "id": "85c1bb8f863d6a8a",
   "outputs": [
    {
     "data": {
      "text/plain": [
       "(<__main__.Person at 0x10709b850>, <__main__.Person at 0x1070f6a70>)"
      ]
     },
     "execution_count": 14,
     "metadata": {},
     "output_type": "execute_result"
    }
   ],
   "execution_count": 14
  },
  {
   "metadata": {},
   "cell_type": "markdown",
   "source": [
    "# Pillars of OOPs\n",
    "* Inheritance\n",
    "* Polymorphism\n",
    "* Abstraction\n",
    "* Encapsulation"
   ],
   "id": "f04cfc32419360fe"
  },
  {
   "metadata": {},
   "cell_type": "markdown",
   "source": [
    "## Inheritance\n",
    "Something that allows a class to inherit attributes (values) and methods (functions) from another class"
   ],
   "id": "b643cf6f5fd744f8"
  },
  {
   "metadata": {
    "ExecuteTime": {
     "end_time": "2025-08-28T14:13:09.262806Z",
     "start_time": "2025-08-28T14:13:09.258752Z"
    }
   },
   "cell_type": "code",
   "source": [
    "class Car:\n",
    "    def car_ack(self):\n",
    "        return \"I am just a car\"\n",
    "\n",
    "class Suzuki(Car):\n",
    "    def car_ack(self):\n",
    "        return \"I am a Suzuki car\"\n",
    "\n",
    "\n",
    "class Maruti(Car):\n",
    "    pass"
   ],
   "id": "1ab557f2ffc964c8",
   "outputs": [],
   "execution_count": 35
  },
  {
   "metadata": {
    "ExecuteTime": {
     "end_time": "2025-08-28T14:10:20.582545Z",
     "start_time": "2025-08-28T14:10:20.578142Z"
    }
   },
   "cell_type": "code",
   "source": [
    "car1 = Car()\n",
    "\n",
    "suz1 =Suzuki()\n",
    "mar1=Maruti()\n",
    "car1.car_ack(), suz1.car_ack(), mar1.car_ack()\n"
   ],
   "id": "acbc42ec127ef325",
   "outputs": [
    {
     "data": {
      "text/plain": [
       "('I am just a car', 'I am a Suzuki car', 'I am just a car')"
      ]
     },
     "execution_count": 27,
     "metadata": {},
     "output_type": "execute_result"
    }
   ],
   "execution_count": 27
  },
  {
   "metadata": {},
   "cell_type": "markdown",
   "source": [
    "### Types\n",
    "* Single : One parent and one child class\n",
    "* Multilevel : A parent and a child 1, but a child 2 inherits from the child 1\n",
    "* Multiple : 1 parent and multiple child classes"
   ],
   "id": "1f159c199d6ddbea"
  },
  {
   "metadata": {},
   "cell_type": "markdown",
   "source": [
    "## Encapsulation\n",
    "In a class, data and functions come bundled together. This property of bundling together data and functions is called encapsulation."
   ],
   "id": "eda5df79a568ddc4"
  },
  {
   "metadata": {
    "ExecuteTime": {
     "end_time": "2025-08-28T14:19:55.360003Z",
     "start_time": "2025-08-28T14:19:55.356329Z"
    }
   },
   "cell_type": "code",
   "source": "import random",
   "id": "23fccc0e85271138",
   "outputs": [],
   "execution_count": 40
  },
  {
   "metadata": {
    "ExecuteTime": {
     "end_time": "2025-08-28T14:19:55.719327Z",
     "start_time": "2025-08-28T14:19:55.716286Z"
    }
   },
   "cell_type": "code",
   "source": [
    "class Student(Person):\n",
    "    def __init__(self, name, age):\n",
    "        super().__init__(name, age)\n",
    "    def marks(self):\n",
    "        return random.randint(1,101)\n"
   ],
   "id": "db3ea3bac5a0f974",
   "outputs": [],
   "execution_count": 41
  },
  {
   "metadata": {
    "ExecuteTime": {
     "end_time": "2025-08-28T14:20:21.205397Z",
     "start_time": "2025-08-28T14:20:21.202200Z"
    }
   },
   "cell_type": "code",
   "source": [
    "stu = Student(\"Anurag\", 22)\n",
    "print(stu.marks(),stu.name)"
   ],
   "id": "40ac7dacffde2e9",
   "outputs": [
    {
     "name": "stdout",
     "output_type": "stream",
     "text": [
      "5 Anurag\n"
     ]
    }
   ],
   "execution_count": 48
  },
  {
   "metadata": {},
   "cell_type": "markdown",
   "source": [
    "## Abstraction\n",
    "End user, or someone who is only interested in the object's data and the functions it provides, not how the data or the functions are being executed or implemented use this concept."
   ],
   "id": "3122e93dc39c7ee6"
  },
  {
   "metadata": {},
   "cell_type": "markdown",
   "source": [
    "## Polymorphism\n",
    "Methods in child class that are same as the methods in parent class can have a different form."
   ],
   "id": "805e27fa720b4f9a"
  },
  {
   "metadata": {},
   "cell_type": "code",
   "outputs": [],
   "execution_count": null,
   "source": "",
   "id": "39423566448c461b"
  }
 ],
 "metadata": {
  "kernelspec": {
   "display_name": "Python 3",
   "language": "python",
   "name": "python3"
  },
  "language_info": {
   "codemirror_mode": {
    "name": "ipython",
    "version": 2
   },
   "file_extension": ".py",
   "mimetype": "text/x-python",
   "name": "python",
   "nbconvert_exporter": "python",
   "pygments_lexer": "ipython2",
   "version": "2.7.6"
  }
 },
 "nbformat": 4,
 "nbformat_minor": 5
}
