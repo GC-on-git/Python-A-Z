{
 "cells": [
  {
   "metadata": {
    "ExecuteTime": {
     "end_time": "2025-08-30T14:19:10.789062Z",
     "start_time": "2025-08-30T14:19:10.785667Z"
    }
   },
   "cell_type": "code",
   "source": [
    "import random\n",
    "from abc import ABC, abstractmethod"
   ],
   "id": "9897760f13f27e04",
   "outputs": [],
   "execution_count": 71
  },
  {
   "metadata": {},
   "cell_type": "markdown",
   "source": "# Object Oriented Programming",
   "id": "a8b6c4f8cbf32fb1"
  },
  {
   "metadata": {},
   "cell_type": "markdown",
   "source": "OOP offers a better way for us to write large pieces of functional code and work with them better. Two initial things to know in OOPs are - Classes and Objects.",
   "id": "cfcd35ba6cbd68a2"
  },
  {
   "metadata": {},
   "cell_type": "markdown",
   "source": [
    "An object is something that has some values and some methods. Class is basically something that has the blueprint of an object.\n",
    "\n",
    "We create a class when we want to have a user defined object, which has not previously been defined anywhere, or in any module."
   ],
   "id": "c801197584fa53b6"
  },
  {
   "metadata": {},
   "cell_type": "markdown",
   "source": [
    "```__init__``` initialises a clas, and when an object is generated for that particular class, the code inside init runs by default. parameters in init are compulsory parameters. It is a special python function.\n",
    "\n",
    "```self``` refers to the current instance of the class, and it is used to access the variables and methods available in the class."
   ],
   "id": "d148d24330009b52"
  },
  {
   "metadata": {},
   "cell_type": "markdown",
   "source": [
    "## Class member access\n",
    "* public member : access anywhere, both inside and outside the class\n",
    "* protected member : access only inside a child class (This is not very much enforced in python)\n",
    "* private member : access only inside that particular class"
   ],
   "id": "8a46461c5955cd9c"
  },
  {
   "metadata": {},
   "cell_type": "markdown",
   "source": [
    "## getters and setters\n",
    "In programming, objects hold data in variables (fields). Instead of exposing these fields directly, we use getters and setters.\n",
    "\n",
    "* A getter is a method to read a value.\n",
    "\n",
    "* A setter is a method to update a value, often with checks.\n",
    "\n",
    "This prevents invalid data and hides the internal details. It helps to interact with protected or private members."
   ],
   "id": "5e2a9d59d5dc3ced"
  },
  {
   "metadata": {},
   "cell_type": "markdown",
   "source": [
    "## @classmethod vs @staticmethod\n",
    "\n",
    "@classmethod: A method that receives the class itself as the first argument (cls). Useful when working with class-level data or creating alternative constructors.\n",
    "\n",
    "@staticmethod: A method that does not receive class (cls) or instance (self). It behaves like a normal function but is grouped inside the class for organization."
   ],
   "id": "d07501690534773f"
  },
  {
   "metadata": {
    "ExecuteTime": {
     "end_time": "2025-08-30T14:19:10.805577Z",
     "start_time": "2025-08-30T14:19:10.801271Z"
    }
   },
   "cell_type": "code",
   "source": [
    "class Person:\n",
    "    species = \"Homo Sapiens\"   # class variable\n",
    "\n",
    "    def __init__(self, name, age):\n",
    "        self.name = name              # public\n",
    "        self._age = age               # protected\n",
    "        self.__ssn = random.randint(1000, 9999)  # private\n",
    "\n",
    "    def greet(self):\n",
    "        return f\"Hello, my name is {self.name}.\"\n",
    "\n",
    "    def get_age(self):\n",
    "        return self._age\n",
    "\n",
    "    def set_age(self, new_age):\n",
    "        self._age = new_age\n",
    "\n",
    "    def get_ssn(self):\n",
    "        return self.__ssn\n",
    "\n",
    "    # class method\n",
    "    @classmethod\n",
    "    def get_species(cls):\n",
    "        return cls.species\n",
    "\n",
    "    # static method\n",
    "    @staticmethod\n",
    "    def is_adult(age):\n",
    "        return age >= 18\n",
    "\n",
    "    # property decorator\n",
    "    @property\n",
    "    def age(self):\n",
    "        return self._age  # interaction with protected variable via getter and setter\n",
    "\n",
    "    @age.setter\n",
    "    def age(self, value):\n",
    "        if value < 0:\n",
    "            raise ValueError(\"Age cannot be negative\")\n",
    "        self._age = value"
   ],
   "id": "f9a13546885844f0",
   "outputs": [],
   "execution_count": 72
  },
  {
   "metadata": {},
   "cell_type": "markdown",
   "source": [
    "### note:\n",
    "@property in Python is a built-in decorator that lets you define a method and use it like an attribute."
   ],
   "id": "ee6b5ff96aee8c6d"
  },
  {
   "metadata": {
    "ExecuteTime": {
     "end_time": "2025-08-30T14:19:10.814737Z",
     "start_time": "2025-08-30T14:19:10.811969Z"
    }
   },
   "cell_type": "code",
   "source": [
    "person1 = Person(\"Alice\", 30)\n",
    "person2 = Person(\"Bob\", 25)\n",
    "\n",
    "print(person1.greet())\n",
    "print(\"Age:\", person1.age, \"SSN:\", person1.get_ssn())\n",
    "print(person2.greet())\n",
    "print(\"Age:\", person2.age, \"SSN:\", person2.get_ssn())\n",
    "print(\"Species:\", Person.get_species())\n",
    "print(\"Is 20 an adult?\", Person.is_adult(20))"
   ],
   "id": "aabce78350ba8b21",
   "outputs": [
    {
     "name": "stdout",
     "output_type": "stream",
     "text": [
      "Hello, my name is Alice.\n",
      "Age: 30 SSN: 5242\n",
      "Hello, my name is Bob.\n",
      "Age: 25 SSN: 2529\n",
      "Species: Homo Sapiens\n",
      "Is 20 an adult? True\n"
     ]
    }
   ],
   "execution_count": 73
  },
  {
   "metadata": {},
   "cell_type": "markdown",
   "source": [
    "# Pillars of OOPs\n",
    "* Inheritance\n",
    "* Polymorphism\n",
    "* Abstraction\n",
    "* Encapsulation"
   ],
   "id": "f04cfc32419360fe"
  },
  {
   "metadata": {},
   "cell_type": "markdown",
   "source": [
    "## Inheritance\n",
    "Something that allows a class to inherit attributes (values) and methods (functions) from another class"
   ],
   "id": "b643cf6f5fd744f8"
  },
  {
   "metadata": {
    "ExecuteTime": {
     "end_time": "2025-08-30T14:19:10.821490Z",
     "start_time": "2025-08-30T14:19:10.818509Z"
    }
   },
   "cell_type": "code",
   "source": [
    "class Employee(Person):\n",
    "    def __init__(self, name, age, emp_id, salary):\n",
    "        super().__init__(name, age)\n",
    "        self.emp_id = emp_id\n",
    "        self.salary = salary\n",
    "\n",
    "    def details(self):\n",
    "        return f\"Employee {self.name}, ID {self.emp_id}, Salary {self.salary}\"\n",
    "\n",
    "emp1 = Employee(\"Charlie\", 28, \"E101\", 50000)\n",
    "print(emp1.details())"
   ],
   "id": "1ab557f2ffc964c8",
   "outputs": [
    {
     "name": "stdout",
     "output_type": "stream",
     "text": [
      "Employee Charlie, ID E101, Salary 50000\n"
     ]
    }
   ],
   "execution_count": 74
  },
  {
   "metadata": {},
   "cell_type": "markdown",
   "source": [
    "### Types\n",
    "* Single : One parent and one child class\n",
    "* Multilevel : A parent and a child 1, but a child 2 inherits from the child 1\n",
    "* Multiple : 1 parent and multiple child classes"
   ],
   "id": "1f159c199d6ddbea"
  },
  {
   "metadata": {
    "ExecuteTime": {
     "end_time": "2025-08-30T14:19:10.830112Z",
     "start_time": "2025-08-30T14:19:10.826749Z"
    }
   },
   "cell_type": "code",
   "source": [
    "# Multilevel Inheritance\n",
    "class Manager(Employee):\n",
    "    def __init__(self, name, age, emp_id, salary, team_size):\n",
    "        super().__init__(name, age, emp_id, salary)\n",
    "        self.team_size = team_size\n",
    "\n",
    "    def details(self):\n",
    "        return super().details() + f\", manages {self.team_size} people\"\n",
    "\n",
    "mgr = Manager(\"Diana\", 35, \"M201\", 80000, 10)\n",
    "print(mgr.details())\n",
    "\n",
    "\n",
    "# Multiple Inheritance\n",
    "class Sportsperson:\n",
    "    def sport(self):\n",
    "        return \"I play football\"\n",
    "\n",
    "class StudentAthlete(Person, Sportsperson):\n",
    "    def __init__(self, name, age, grade):\n",
    "        Person.__init__(self, name, age)\n",
    "        self.grade = grade\n",
    "\n",
    "    def details(self):\n",
    "        return f\"Student {self.name}, Grade {self.grade}, Sport: {self.sport()}\"\n",
    "\n",
    "athlete = StudentAthlete(\"Eve\", 20, \"A\")\n",
    "print(athlete.details())"
   ],
   "id": "f812af64df7b73c7",
   "outputs": [
    {
     "name": "stdout",
     "output_type": "stream",
     "text": [
      "Employee Diana, ID M201, Salary 80000, manages 10 people\n",
      "Student Eve, Grade A, Sport: I play football\n"
     ]
    }
   ],
   "execution_count": 75
  },
  {
   "metadata": {},
   "cell_type": "markdown",
   "source": [
    "## Encapsulation\n",
    "In a class, data and functions come bundled together. This property of bundling together data and functions is called encapsulation."
   ],
   "id": "eda5df79a568ddc4"
  },
  {
   "metadata": {
    "ExecuteTime": {
     "end_time": "2025-08-30T14:19:10.839561Z",
     "start_time": "2025-08-30T14:19:10.836966Z"
    }
   },
   "cell_type": "code",
   "source": [
    "class BankAccount:\n",
    "    def __init__(self, owner, balance):\n",
    "        self.owner = owner\n",
    "        self.__balance = balance  # private\n",
    "\n",
    "    def deposit(self, amount):\n",
    "        self.__balance += amount\n",
    "        return self.__balance\n",
    "\n",
    "    def withdraw(self, amount):\n",
    "        if amount <= self.__balance:\n",
    "            self.__balance -= amount\n",
    "            return self.__balance\n",
    "        else:\n",
    "            return \"Insufficient funds\"\n",
    "\n",
    "    def get_balance(self):\n",
    "        return self.__balance\n",
    "\n",
    "acc = BankAccount(\"Frank\", 1000)\n",
    "print(\"Initial balance:\", acc.get_balance())\n",
    "print(\"After deposit:\", acc.deposit(500))\n",
    "print(\"After withdraw:\", acc.withdraw(300))"
   ],
   "id": "d36073fe5a876e7",
   "outputs": [
    {
     "name": "stdout",
     "output_type": "stream",
     "text": [
      "Initial balance: 1000\n",
      "After deposit: 1500\n",
      "After withdraw: 1200\n"
     ]
    }
   ],
   "execution_count": 76
  },
  {
   "metadata": {},
   "cell_type": "markdown",
   "source": [
    "## Abstraction\n",
    "End user, or someone who is only interested in the object's data and the functions it provides, not how the data or the functions are being executed or implemented use this concept."
   ],
   "id": "3122e93dc39c7ee6"
  },
  {
   "metadata": {
    "ExecuteTime": {
     "end_time": "2025-08-30T14:19:10.845902Z",
     "start_time": "2025-08-30T14:19:10.843334Z"
    }
   },
   "cell_type": "code",
   "source": [
    "class Shape(ABC):\n",
    "    @abstractmethod\n",
    "    def area(self): pass\n",
    "\n",
    "    @abstractmethod\n",
    "    def perimeter(self): pass\n",
    "\n",
    "class Triangle(Shape):\n",
    "    def __init__(self, a, b, c):\n",
    "        self.a, self.b, self.c = a, b, c\n",
    "\n",
    "    def area(self):\n",
    "        s = (self.a + self.b + self.c) / 2\n",
    "        return (s*(s-self.a)*(s-self.b)*(s-self.c))**0.5\n",
    "\n",
    "    def perimeter(self):\n",
    "        return self.a + self.b + self.c\n",
    "\n",
    "triangle = Triangle(3, 4, 5)\n",
    "print(\"Triangle Area:\", triangle.area(), \"Perimeter:\", triangle.perimeter())"
   ],
   "id": "f794941dcf9d6b89",
   "outputs": [
    {
     "name": "stdout",
     "output_type": "stream",
     "text": [
      "Triangle Area: 6.0 Perimeter: 12\n"
     ]
    }
   ],
   "execution_count": 77
  },
  {
   "metadata": {},
   "cell_type": "markdown",
   "source": [
    "## Polymorphism\n",
    "Methods in child class that are same as the methods in parent class can have a different form."
   ],
   "id": "805e27fa720b4f9a"
  },
  {
   "metadata": {
    "ExecuteTime": {
     "end_time": "2025-08-30T14:19:10.854633Z",
     "start_time": "2025-08-30T14:19:10.852808Z"
    }
   },
   "cell_type": "code",
   "source": [
    "def add(x, y, z=0):\n",
    "    return x + y + z\n",
    "\n",
    "print(\"Add two:\", add(5, 10))\n",
    "print(\"Add three:\", add(5, 10, 15))"
   ],
   "id": "a3d36bd3a30a66cd",
   "outputs": [
    {
     "name": "stdout",
     "output_type": "stream",
     "text": [
      "Add two: 15\n",
      "Add three: 30\n"
     ]
    }
   ],
   "execution_count": 78
  },
  {
   "metadata": {},
   "cell_type": "markdown",
   "source": "### Some forms of polymorphism",
   "id": "9396b2e9c960fd19"
  },
  {
   "metadata": {
    "ExecuteTime": {
     "end_time": "2025-08-30T14:19:10.862254Z",
     "start_time": "2025-08-30T14:19:10.859283Z"
    }
   },
   "cell_type": "code",
   "source": [
    "# Method overriding\n",
    "class Bird:\n",
    "    def sound(self):\n",
    "        return \"Some bird sound\"\n",
    "\n",
    "class Parrot(Bird):\n",
    "    def sound(self):\n",
    "        return \"Squawk!\"\n",
    "\n",
    "class Sparrow(Bird):\n",
    "    def sound(self):\n",
    "        return \"Chirp!\"\n",
    "\n",
    "birds = [Bird(), Parrot(), Sparrow()]\n",
    "for b in birds:\n",
    "    print(b.sound())\n",
    "\n",
    "# Operator overloading\n",
    "class Complex:\n",
    "    def __init__(self, real, imag):\n",
    "        self.real = real\n",
    "        self.imag = imag\n",
    "\n",
    "    # changes how the add operator generally works\n",
    "    def __add__(self, other):\n",
    "        return Complex(self.real + other.real, self.imag + other.imag)\n",
    "\n",
    "    def __str__(self):\n",
    "        return f\"{self.real} + {self.imag}i\"\n",
    "\n",
    "c1 = Complex(2, 3)\n",
    "c2 = Complex(1, 4)\n",
    "print(\"Complex sum:\", c1 + c2)"
   ],
   "id": "b4323bbc7d0e6327",
   "outputs": [
    {
     "name": "stdout",
     "output_type": "stream",
     "text": [
      "Some bird sound\n",
      "Squawk!\n",
      "Chirp!\n",
      "Complex sum: 3 + 7i\n"
     ]
    }
   ],
   "execution_count": 79
  },
  {
   "metadata": {
    "ExecuteTime": {
     "end_time": "2025-08-30T14:19:10.869156Z",
     "start_time": "2025-08-30T14:19:10.866674Z"
    }
   },
   "cell_type": "code",
   "source": [
    "### Another example\n",
    "class Payment(ABC):\n",
    "    @abstractmethod\n",
    "    def pay(self, amount): pass\n",
    "\n",
    "class CreditCardPayment(Payment):\n",
    "    def pay(self, amount):\n",
    "        return f\"Paid {amount} using Credit Card\"\n",
    "\n",
    "class PayPalPayment(Payment):\n",
    "    def pay(self, amount):\n",
    "        return f\"Paid {amount} using PayPal\"\n",
    "\n",
    "class UpiPayment(Payment):\n",
    "    def pay(self, amount):\n",
    "        return f\"Paid {amount} using UPI\"\n",
    "\n",
    "payments = [CreditCardPayment(), PayPalPayment(), UpiPayment()]\n",
    "for method in payments:\n",
    "    print(method.pay(100))"
   ],
   "id": "55d406521cf42c48",
   "outputs": [
    {
     "name": "stdout",
     "output_type": "stream",
     "text": [
      "Paid 100 using Credit Card\n",
      "Paid 100 using PayPal\n",
      "Paid 100 using UPI\n"
     ]
    }
   ],
   "execution_count": 80
  },
  {
   "metadata": {
    "ExecuteTime": {
     "end_time": "2025-08-30T14:19:10.878457Z",
     "start_time": "2025-08-30T14:19:10.875512Z"
    }
   },
   "cell_type": "code",
   "source": [
    "# Class Method, Static Method, Property in another context\n",
    "\n",
    "class Temperature:\n",
    "    def __init__(self, celsius):\n",
    "        self._celsius = celsius\n",
    "\n",
    "    # property getter\n",
    "    @property\n",
    "    def celsius(self):\n",
    "        return self._celsius\n",
    "\n",
    "    # property setter\n",
    "    @celsius.setter\n",
    "    def celsius(self, value):\n",
    "        if value < -273.15:\n",
    "            raise ValueError(\"Temperature cannot be below absolute zero\")\n",
    "        self._celsius = value\n",
    "\n",
    "    # derived property\n",
    "    @property\n",
    "    def fahrenheit(self):\n",
    "        return (self._celsius * 9/5) + 32\n",
    "\n",
    "    # class method\n",
    "    @classmethod\n",
    "    def from_fahrenheit(cls, f):\n",
    "        return cls((f - 32) * 5/9)\n",
    "\n",
    "    # static method\n",
    "    @staticmethod\n",
    "    def kelvin_to_celsius(k):\n",
    "        return k - 273.15\n",
    "\n",
    "temp = Temperature(25)\n",
    "print(\"Celsius:\", temp.celsius, \"Fahrenheit:\", temp.fahrenheit)\n",
    "temp.celsius = 100\n",
    "print(\"Updated Celsius:\", temp.celsius, \"Fahrenheit:\", temp.fahrenheit)\n",
    "t2 = Temperature.from_fahrenheit(212)\n",
    "print(\"From Fahrenheit 212:\", t2.celsius, \"C\")\n",
    "print(\"Kelvin 300 to Celsius:\", Temperature.kelvin_to_celsius(300))\n"
   ],
   "id": "39423566448c461b",
   "outputs": [
    {
     "name": "stdout",
     "output_type": "stream",
     "text": [
      "Celsius: 25 Fahrenheit: 77.0\n",
      "Updated Celsius: 100 Fahrenheit: 212.0\n",
      "From Fahrenheit 212: 100.0 C\n",
      "Kelvin 300 to Celsius: 26.850000000000023\n"
     ]
    }
   ],
   "execution_count": 81
  }
 ],
 "metadata": {
  "kernelspec": {
   "display_name": "Python 3",
   "language": "python",
   "name": "python3"
  },
  "language_info": {
   "codemirror_mode": {
    "name": "ipython",
    "version": 2
   },
   "file_extension": ".py",
   "mimetype": "text/x-python",
   "name": "python",
   "nbconvert_exporter": "python",
   "pygments_lexer": "ipython2",
   "version": "2.7.6"
  }
 },
 "nbformat": 4,
 "nbformat_minor": 5
}
