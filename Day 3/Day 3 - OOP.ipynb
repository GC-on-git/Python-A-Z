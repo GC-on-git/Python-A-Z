{
 "cells": [
  {
   "metadata": {},
   "cell_type": "markdown",
   "source": "# Object Oriented Programming",
   "id": "a8b6c4f8cbf32fb1"
  },
  {
   "metadata": {},
   "cell_type": "markdown",
   "source": "OOP offers a better way for us to write large pieces of functional code and work with them better. Two initial things to know in OOPs are - Classes and Objects.",
   "id": "cfcd35ba6cbd68a2"
  },
  {
   "metadata": {},
   "cell_type": "markdown",
   "source": [
    "An object is something that has some values and some methods. Class is basically something that has the blueprint of an object.\n",
    "\n",
    "We create a class when we want to have a user defined object, which has not previously been defined anywhere, or in any module."
   ],
   "id": "c801197584fa53b6"
  },
  {
   "metadata": {
    "ExecuteTime": {
     "end_time": "2025-08-28T14:30:22.205926Z",
     "start_time": "2025-08-28T14:30:22.202923Z"
    }
   },
   "cell_type": "code",
   "source": [
    "import random\n",
    "\n",
    "class Person:\n",
    "    def __init__(self, name, age):\n",
    "        self.name = name\n",
    "        self._age = age"
   ],
   "id": "f9a13546885844f0",
   "outputs": [],
   "execution_count": 63
  },
  {
   "metadata": {},
   "cell_type": "markdown",
   "source": [
    "```__init__``` initialises a clas, and when an object is generated for that particular class, the code inside init runs by default. parameters in init are compulsory parameters. It is a special python function.\n",
    "\n",
    "```self``` refers to the current instance of the class, and it is used to access the variables and methods available in the class."
   ],
   "id": "d148d24330009b52"
  },
  {
   "metadata": {},
   "cell_type": "markdown",
   "source": [
    "## Class member access\n",
    "* public member : access anywhere, both inside and outside the class\n",
    "* protected member : access only inside a child class (This is not very much enforced in python)\n",
    "* private member : access only inside that particular class"
   ],
   "id": "8a46461c5955cd9c"
  },
  {
   "metadata": {
    "ExecuteTime": {
     "end_time": "2025-08-28T14:30:41.921567Z",
     "start_time": "2025-08-28T14:30:41.917792Z"
    }
   },
   "cell_type": "code",
   "source": [
    "class PersonTax(Person):\n",
    "    def __init__(self, name, age, amount, time, rate):\n",
    "        super().__init__(name, age)\n",
    "        self.amount = amount\n",
    "        self.time = time\n",
    "        self.__rate = rate\n",
    "    def tax(self):\n",
    "        return self.__rate * self.amount * self.time / 100"
   ],
   "id": "9cf2f1dd97531726",
   "outputs": [],
   "execution_count": 66
  },
  {
   "metadata": {
    "ExecuteTime": {
     "end_time": "2025-08-28T14:30:58.019099Z",
     "start_time": "2025-08-28T14:30:58.013806Z"
    }
   },
   "cell_type": "code",
   "source": [
    "per_tax1 = PersonTax(\"GC\",22, 1000, 4 , 4)\n",
    "per_tax1.rate = 4\n",
    "\n",
    "per_tax1._age"
   ],
   "id": "9384725e2ece7418",
   "outputs": [
    {
     "data": {
      "text/plain": [
       "22"
      ]
     },
     "execution_count": 68,
     "metadata": {},
     "output_type": "execute_result"
    }
   ],
   "execution_count": 68
  },
  {
   "cell_type": "code",
   "id": "initial_id",
   "metadata": {
    "collapsed": true,
    "ExecuteTime": {
     "end_time": "2025-08-28T14:30:33.513730Z",
     "start_time": "2025-08-28T14:30:33.510346Z"
    }
   },
   "source": [
    "Person1 = Person(\"Anurag\", 22)\n",
    "print(type(Person1))"
   ],
   "outputs": [
    {
     "name": "stdout",
     "output_type": "stream",
     "text": [
      "<class '__main__.Person'>\n"
     ]
    }
   ],
   "execution_count": 64
  },
  {
   "metadata": {
    "ExecuteTime": {
     "end_time": "2025-08-28T14:31:08.187116Z",
     "start_time": "2025-08-28T14:31:08.183045Z"
    }
   },
   "cell_type": "code",
   "source": "Person1.name, Person1._age",
   "id": "f7668dc9560cd77c",
   "outputs": [
    {
     "data": {
      "text/plain": [
       "('Anurag', 22)"
      ]
     },
     "execution_count": 69,
     "metadata": {},
     "output_type": "execute_result"
    }
   ],
   "execution_count": 69
  },
  {
   "metadata": {
    "ExecuteTime": {
     "end_time": "2025-08-28T14:00:44.627558Z",
     "start_time": "2025-08-28T14:00:44.623607Z"
    }
   },
   "cell_type": "code",
   "source": [
    "Person2 = Person(\"Bhanurag\", 12)\n",
    "print(type(Person2))"
   ],
   "id": "c8d60314a9a1304c",
   "outputs": [
    {
     "name": "stdout",
     "output_type": "stream",
     "text": [
      "<class '__main__.Person'>\n"
     ]
    }
   ],
   "execution_count": 12
  },
  {
   "metadata": {
    "ExecuteTime": {
     "end_time": "2025-08-28T14:00:54.815293Z",
     "start_time": "2025-08-28T14:00:54.811216Z"
    }
   },
   "cell_type": "code",
   "source": "Person2, Person1",
   "id": "85c1bb8f863d6a8a",
   "outputs": [
    {
     "data": {
      "text/plain": [
       "(<__main__.Person at 0x10709b850>, <__main__.Person at 0x1070f6a70>)"
      ]
     },
     "execution_count": 14,
     "metadata": {},
     "output_type": "execute_result"
    }
   ],
   "execution_count": 14
  },
  {
   "metadata": {},
   "cell_type": "markdown",
   "source": [
    "# Pillars of OOPs\n",
    "* Inheritance\n",
    "* Polymorphism\n",
    "* Abstraction\n",
    "* Encapsulation"
   ],
   "id": "f04cfc32419360fe"
  },
  {
   "metadata": {},
   "cell_type": "markdown",
   "source": [
    "## Inheritance\n",
    "Something that allows a class to inherit attributes (values) and methods (functions) from another class"
   ],
   "id": "b643cf6f5fd744f8"
  },
  {
   "metadata": {
    "ExecuteTime": {
     "end_time": "2025-08-28T14:13:09.262806Z",
     "start_time": "2025-08-28T14:13:09.258752Z"
    }
   },
   "cell_type": "code",
   "source": [
    "class Car:\n",
    "    def car_ack(self):\n",
    "        return \"I am just a car\"\n",
    "\n",
    "class Suzuki(Car):\n",
    "    def car_ack(self):\n",
    "        return \"I am a Suzuki car\"\n",
    "\n",
    "\n",
    "class Maruti(Car):\n",
    "    pass"
   ],
   "id": "1ab557f2ffc964c8",
   "outputs": [],
   "execution_count": 35
  },
  {
   "metadata": {
    "ExecuteTime": {
     "end_time": "2025-08-28T14:10:20.582545Z",
     "start_time": "2025-08-28T14:10:20.578142Z"
    }
   },
   "cell_type": "code",
   "source": [
    "car1 = Car()\n",
    "\n",
    "suz1 =Suzuki()\n",
    "mar1=Maruti()\n",
    "car1.car_ack(), suz1.car_ack(), mar1.car_ack()\n"
   ],
   "id": "acbc42ec127ef325",
   "outputs": [
    {
     "data": {
      "text/plain": [
       "('I am just a car', 'I am a Suzuki car', 'I am just a car')"
      ]
     },
     "execution_count": 27,
     "metadata": {},
     "output_type": "execute_result"
    }
   ],
   "execution_count": 27
  },
  {
   "metadata": {},
   "cell_type": "markdown",
   "source": [
    "### Types\n",
    "* Single : One parent and one child class\n",
    "* Multilevel : A parent and a child 1, but a child 2 inherits from the child 1\n",
    "* Multiple : 1 parent and multiple child classes"
   ],
   "id": "1f159c199d6ddbea"
  },
  {
   "metadata": {},
   "cell_type": "markdown",
   "source": [
    "## Encapsulation\n",
    "In a class, data and functions come bundled together. This property of bundling together data and functions is called encapsulation."
   ],
   "id": "eda5df79a568ddc4"
  },
  {
   "metadata": {
    "ExecuteTime": {
     "end_time": "2025-08-28T14:19:55.360003Z",
     "start_time": "2025-08-28T14:19:55.356329Z"
    }
   },
   "cell_type": "code",
   "source": "import random",
   "id": "23fccc0e85271138",
   "outputs": [],
   "execution_count": 40
  },
  {
   "metadata": {
    "ExecuteTime": {
     "end_time": "2025-08-28T14:19:55.719327Z",
     "start_time": "2025-08-28T14:19:55.716286Z"
    }
   },
   "cell_type": "code",
   "source": [
    "class Student(Person):\n",
    "    def __init__(self, name, age):\n",
    "        super().__init__(name, age)\n",
    "    def marks(self):\n",
    "        return random.randint(1,101)\n"
   ],
   "id": "db3ea3bac5a0f974",
   "outputs": [],
   "execution_count": 41
  },
  {
   "metadata": {
    "ExecuteTime": {
     "end_time": "2025-08-28T14:20:21.205397Z",
     "start_time": "2025-08-28T14:20:21.202200Z"
    }
   },
   "cell_type": "code",
   "source": [
    "stu = Student(\"Anurag\", 22)\n",
    "print(stu.marks(),stu.name)"
   ],
   "id": "40ac7dacffde2e9",
   "outputs": [
    {
     "name": "stdout",
     "output_type": "stream",
     "text": [
      "5 Anurag\n"
     ]
    }
   ],
   "execution_count": 48
  },
  {
   "metadata": {},
   "cell_type": "markdown",
   "source": [
    "## Abstraction\n",
    "End user, or someone who is only interested in the object's data and the functions it provides, not how the data or the functions are being executed or implemented use this concept."
   ],
   "id": "3122e93dc39c7ee6"
  },
  {
   "metadata": {},
   "cell_type": "markdown",
   "source": [
    "## Polymorphism\n",
    "Methods in child class that are same as the methods in parent class can have a different form."
   ],
   "id": "805e27fa720b4f9a"
  },
  {
   "metadata": {},
   "cell_type": "code",
   "outputs": [],
   "execution_count": null,
   "source": [
    "import random\n",
    "from abc import ABC, abstractmethod\n",
    "\n",
    "# ----------------------------------------\n",
    "# Basic Class and Object\n",
    "# ----------------------------------------\n",
    "class Person:\n",
    "    species = \"Homo Sapiens\"   # class variable\n",
    "\n",
    "    def __init__(self, name, age):\n",
    "        self.name = name              # public\n",
    "        self._age = age               # protected\n",
    "        self.__ssn = random.randint(1000, 9999)  # private\n",
    "\n",
    "    def greet(self):\n",
    "        return f\"Hello, my name is {self.name}.\"\n",
    "\n",
    "    def get_age(self):\n",
    "        return self._age\n",
    "\n",
    "    def set_age(self, new_age):\n",
    "        self._age = new_age\n",
    "\n",
    "    def get_ssn(self):\n",
    "        return self.__ssn\n",
    "\n",
    "    # class method\n",
    "    @classmethod\n",
    "    def get_species(cls):\n",
    "        return cls.species\n",
    "\n",
    "    # static method\n",
    "    @staticmethod\n",
    "    def is_adult(age):\n",
    "        return age >= 18\n",
    "\n",
    "    # property decorator\n",
    "    @property\n",
    "    def age(self):\n",
    "        return self._age\n",
    "\n",
    "    @age.setter\n",
    "    def age(self, value):\n",
    "        if value < 0:\n",
    "            raise ValueError(\"Age cannot be negative\")\n",
    "        self._age = value\n",
    "\n",
    "\n",
    "person1 = Person(\"Alice\", 30)\n",
    "person2 = Person(\"Bob\", 25)\n",
    "\n",
    "print(person1.greet())\n",
    "print(\"Age:\", person1.age, \"SSN:\", person1.get_ssn())\n",
    "print(person2.greet())\n",
    "print(\"Age:\", person2.age, \"SSN:\", person2.get_ssn())\n",
    "print(\"Species:\", Person.get_species())\n",
    "print(\"Is 20 an adult?\", Person.is_adult(20))\n",
    "\n",
    "\n",
    "# ----------------------------------------\n",
    "# Inheritance\n",
    "# ----------------------------------------\n",
    "class Employee(Person):\n",
    "    def __init__(self, name, age, emp_id, salary):\n",
    "        super().__init__(name, age)\n",
    "        self.emp_id = emp_id\n",
    "        self.salary = salary\n",
    "\n",
    "    def details(self):\n",
    "        return f\"Employee {self.name}, ID {self.emp_id}, Salary {self.salary}\"\n",
    "\n",
    "emp1 = Employee(\"Charlie\", 28, \"E101\", 50000)\n",
    "print(emp1.details())\n",
    "\n",
    "\n",
    "# Multilevel Inheritance\n",
    "class Manager(Employee):\n",
    "    def __init__(self, name, age, emp_id, salary, team_size):\n",
    "        super().__init__(name, age, emp_id, salary)\n",
    "        self.team_size = team_size\n",
    "\n",
    "    def details(self):\n",
    "        return super().details() + f\", manages {self.team_size} people\"\n",
    "\n",
    "mgr = Manager(\"Diana\", 35, \"M201\", 80000, 10)\n",
    "print(mgr.details())\n",
    "\n",
    "\n",
    "# Multiple Inheritance\n",
    "class Sportsperson:\n",
    "    def sport(self):\n",
    "        return \"I play football\"\n",
    "\n",
    "class StudentAthlete(Person, Sportsperson):\n",
    "    def __init__(self, name, age, grade):\n",
    "        Person.__init__(self, name, age)\n",
    "        self.grade = grade\n",
    "\n",
    "    def details(self):\n",
    "        return f\"Student {self.name}, Grade {self.grade}, Sport: {self.sport()}\"\n",
    "\n",
    "athlete = StudentAthlete(\"Eve\", 20, \"A\")\n",
    "print(athlete.details())\n",
    "\n",
    "\n",
    "# ----------------------------------------\n",
    "# Encapsulation\n",
    "# ----------------------------------------\n",
    "class BankAccount:\n",
    "    def __init__(self, owner, balance):\n",
    "        self.owner = owner\n",
    "        self.__balance = balance  # private\n",
    "\n",
    "    def deposit(self, amount):\n",
    "        self.__balance += amount\n",
    "        return self.__balance\n",
    "\n",
    "    def withdraw(self, amount):\n",
    "        if amount <= self.__balance:\n",
    "            self.__balance -= amount\n",
    "            return self.__balance\n",
    "        else:\n",
    "            return \"Insufficient funds\"\n",
    "\n",
    "    def get_balance(self):\n",
    "        return self.__balance\n",
    "\n",
    "acc = BankAccount(\"Frank\", 1000)\n",
    "print(\"Initial balance:\", acc.get_balance())\n",
    "print(\"After deposit:\", acc.deposit(500))\n",
    "print(\"After withdraw:\", acc.withdraw(300))\n",
    "\n",
    "\n",
    "# ----------------------------------------\n",
    "# Abstraction\n",
    "# ----------------------------------------\n",
    "class Shape(ABC):\n",
    "    @abstractmethod\n",
    "    def area(self): pass\n",
    "\n",
    "    @abstractmethod\n",
    "    def perimeter(self): pass\n",
    "\n",
    "class Triangle(Shape):\n",
    "    def __init__(self, a, b, c):\n",
    "        self.a, self.b, self.c = a, b, c\n",
    "\n",
    "    def area(self):\n",
    "        s = (self.a + self.b + self.c) / 2\n",
    "        return (s*(s-self.a)*(s-self.b)*(s-self.c))**0.5\n",
    "\n",
    "    def perimeter(self):\n",
    "        return self.a + self.b + self.c\n",
    "\n",
    "triangle = Triangle(3, 4, 5)\n",
    "print(\"Triangle Area:\", triangle.area(), \"Perimeter:\", triangle.perimeter())\n",
    "\n",
    "\n",
    "# ----------------------------------------\n",
    "# Polymorphism\n",
    "# ----------------------------------------\n",
    "\n",
    "# Function polymorphism\n",
    "def add(x, y, z=0):\n",
    "    return x + y + z\n",
    "\n",
    "print(\"Add two:\", add(5, 10))\n",
    "print(\"Add three:\", add(5, 10, 15))\n",
    "\n",
    "# Method overriding\n",
    "class Bird:\n",
    "    def sound(self):\n",
    "        return \"Some bird sound\"\n",
    "\n",
    "class Parrot(Bird):\n",
    "    def sound(self):\n",
    "        return \"Squawk!\"\n",
    "\n",
    "class Sparrow(Bird):\n",
    "    def sound(self):\n",
    "        return \"Chirp!\"\n",
    "\n",
    "birds = [Bird(), Parrot(), Sparrow()]\n",
    "for b in birds:\n",
    "    print(b.sound())\n",
    "\n",
    "# Operator overloading\n",
    "class Complex:\n",
    "    def __init__(self, real, imag):\n",
    "        self.real = real\n",
    "        self.imag = imag\n",
    "\n",
    "    def __add__(self, other):\n",
    "        return Complex(self.real + other.real, self.imag + other.imag)\n",
    "\n",
    "    def __str__(self):\n",
    "        return f\"{self.real} + {self.imag}i\"\n",
    "\n",
    "c1 = Complex(2, 3)\n",
    "c2 = Complex(1, 4)\n",
    "print(\"Complex sum:\", c1 + c2)\n",
    "\n",
    "\n",
    "# ----------------------------------------\n",
    "# Realistic Polymorphism with Inheritance\n",
    "# ----------------------------------------\n",
    "class Payment(ABC):\n",
    "    @abstractmethod\n",
    "    def pay(self, amount): pass\n",
    "\n",
    "class CreditCardPayment(Payment):\n",
    "    def pay(self, amount):\n",
    "        return f\"Paid {amount} using Credit Card\"\n",
    "\n",
    "class PayPalPayment(Payment):\n",
    "    def pay(self, amount):\n",
    "        return f\"Paid {amount} using PayPal\"\n",
    "\n",
    "class UpiPayment(Payment):\n",
    "    def pay(self, amount):\n",
    "        return f\"Paid {amount} using UPI\"\n",
    "\n",
    "payments = [CreditCardPayment(), PayPalPayment(), UpiPayment()]\n",
    "for method in payments:\n",
    "    print(method.pay(100))\n",
    "\n",
    "\n",
    "# ----------------------------------------\n",
    "# Class Method, Static Method, Property in another context\n",
    "# ----------------------------------------\n",
    "class Temperature:\n",
    "    def __init__(self, celsius):\n",
    "        self._celsius = celsius\n",
    "\n",
    "    # property getter\n",
    "    @property\n",
    "    def celsius(self):\n",
    "        return self._celsius\n",
    "\n",
    "    # property setter\n",
    "    @celsius.setter\n",
    "    def celsius(self, value):\n",
    "        if value < -273.15:\n",
    "            raise ValueError(\"Temperature cannot be below absolute zero\")\n",
    "        self._celsius = value\n",
    "\n",
    "    # derived property\n",
    "    @property\n",
    "    def fahrenheit(self):\n",
    "        return (self._celsius * 9/5) + 32\n",
    "\n",
    "    # class method\n",
    "    @classmethod\n",
    "    def from_fahrenheit(cls, f):\n",
    "        return cls((f - 32) * 5/9)\n",
    "\n",
    "    # static method\n",
    "    @staticmethod\n",
    "    def kelvin_to_celsius(k):\n",
    "        return k - 273.15\n",
    "\n",
    "temp = Temperature(25)\n",
    "print(\"Celsius:\", temp.celsius, \"Fahrenheit:\", temp.fahrenheit)\n",
    "temp.celsius = 100\n",
    "print(\"Updated Celsius:\", temp.celsius, \"Fahrenheit:\", temp.fahrenheit)\n",
    "t2 = Temperature.from_fahrenheit(212)\n",
    "print(\"From Fahrenheit 212:\", t2.celsius, \"C\")\n",
    "print(\"Kelvin 300 to Celsius:\", Temperature.kelvin_to_celsius(300))\n"
   ],
   "id": "39423566448c461b"
  }
 ],
 "metadata": {
  "kernelspec": {
   "display_name": "Python 3",
   "language": "python",
   "name": "python3"
  },
  "language_info": {
   "codemirror_mode": {
    "name": "ipython",
    "version": 2
   },
   "file_extension": ".py",
   "mimetype": "text/x-python",
   "name": "python",
   "nbconvert_exporter": "python",
   "pygments_lexer": "ipython2",
   "version": "2.7.6"
  }
 },
 "nbformat": 4,
 "nbformat_minor": 5
}
