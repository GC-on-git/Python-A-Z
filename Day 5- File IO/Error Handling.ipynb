{
 "cells": [
  {
   "cell_type": "code",
   "id": "initial_id",
   "metadata": {
    "collapsed": true,
    "ExecuteTime": {
     "end_time": "2025-09-27T15:23:32.201830Z",
     "start_time": "2025-09-27T15:23:32.090172Z"
    }
   },
   "source": [
    "with open(\"missing_file.txt\", \"r\") as file:\n",
    "    file_contents = file.read()\n",
    "\n"
   ],
   "outputs": [
    {
     "ename": "FileNotFoundError",
     "evalue": "[Errno 2] No such file or directory: 'missing_file.txt'",
     "output_type": "error",
     "traceback": [
      "\u001B[0;31m---------------------------------------------------------------------------\u001B[0m",
      "\u001B[0;31mFileNotFoundError\u001B[0m                         Traceback (most recent call last)",
      "Cell \u001B[0;32mIn[1], line 1\u001B[0m\n\u001B[0;32m----> 1\u001B[0m \u001B[38;5;28;01mwith\u001B[39;00m \u001B[38;5;28;43mopen\u001B[39;49m\u001B[43m(\u001B[49m\u001B[38;5;124;43m\"\u001B[39;49m\u001B[38;5;124;43mmissing_file.txt\u001B[39;49m\u001B[38;5;124;43m\"\u001B[39;49m\u001B[43m,\u001B[49m\u001B[43m \u001B[49m\u001B[38;5;124;43m\"\u001B[39;49m\u001B[38;5;124;43mr\u001B[39;49m\u001B[38;5;124;43m\"\u001B[39;49m\u001B[43m)\u001B[49m \u001B[38;5;28;01mas\u001B[39;00m file:\n\u001B[1;32m      2\u001B[0m     file_contents \u001B[38;5;241m=\u001B[39m file\u001B[38;5;241m.\u001B[39mread()\n",
      "File \u001B[0;32m~/PycharmProjects/PythonProject/PythonFromScratch/.venv/lib/python3.10/site-packages/IPython/core/interactiveshell.py:324\u001B[0m, in \u001B[0;36m_modified_open\u001B[0;34m(file, *args, **kwargs)\u001B[0m\n\u001B[1;32m    317\u001B[0m \u001B[38;5;28;01mif\u001B[39;00m file \u001B[38;5;129;01min\u001B[39;00m {\u001B[38;5;241m0\u001B[39m, \u001B[38;5;241m1\u001B[39m, \u001B[38;5;241m2\u001B[39m}:\n\u001B[1;32m    318\u001B[0m     \u001B[38;5;28;01mraise\u001B[39;00m \u001B[38;5;167;01mValueError\u001B[39;00m(\n\u001B[1;32m    319\u001B[0m         \u001B[38;5;124mf\u001B[39m\u001B[38;5;124m\"\u001B[39m\u001B[38;5;124mIPython won\u001B[39m\u001B[38;5;124m'\u001B[39m\u001B[38;5;124mt let you open fd=\u001B[39m\u001B[38;5;132;01m{\u001B[39;00mfile\u001B[38;5;132;01m}\u001B[39;00m\u001B[38;5;124m by default \u001B[39m\u001B[38;5;124m\"\u001B[39m\n\u001B[1;32m    320\u001B[0m         \u001B[38;5;124m\"\u001B[39m\u001B[38;5;124mas it is likely to crash IPython. If you know what you are doing, \u001B[39m\u001B[38;5;124m\"\u001B[39m\n\u001B[1;32m    321\u001B[0m         \u001B[38;5;124m\"\u001B[39m\u001B[38;5;124myou can use builtins\u001B[39m\u001B[38;5;124m'\u001B[39m\u001B[38;5;124m open.\u001B[39m\u001B[38;5;124m\"\u001B[39m\n\u001B[1;32m    322\u001B[0m     )\n\u001B[0;32m--> 324\u001B[0m \u001B[38;5;28;01mreturn\u001B[39;00m \u001B[43mio_open\u001B[49m\u001B[43m(\u001B[49m\u001B[43mfile\u001B[49m\u001B[43m,\u001B[49m\u001B[43m \u001B[49m\u001B[38;5;241;43m*\u001B[39;49m\u001B[43margs\u001B[49m\u001B[43m,\u001B[49m\u001B[43m \u001B[49m\u001B[38;5;241;43m*\u001B[39;49m\u001B[38;5;241;43m*\u001B[39;49m\u001B[43mkwargs\u001B[49m\u001B[43m)\u001B[49m\n",
      "\u001B[0;31mFileNotFoundError\u001B[0m: [Errno 2] No such file or directory: 'missing_file.txt'"
     ]
    }
   ],
   "execution_count": 1
  },
  {
   "metadata": {
    "ExecuteTime": {
     "end_time": "2025-09-27T15:26:11.183804Z",
     "start_time": "2025-09-27T15:26:11.179753Z"
    }
   },
   "cell_type": "code",
   "source": [
    "try:\n",
    "    with open(\"file.txt\", \"r\") as file:\n",
    "        file_contents = file.read()\n",
    "        print(file_contents)\n",
    "except FileNotFoundError:\n",
    "    print(\"Sorry there is no such file\")\n",
    "finally:\n",
    "    print(\"Exiting the program\")"
   ],
   "id": "410ef0d7c4274cfe",
   "outputs": [
    {
     "name": "stdout",
     "output_type": "stream",
     "text": [
      "Doctor,Doof\n",
      "agent,perry\n",
      "bro1,phineas\n",
      "bro2,ferb\n",
      "\n",
      "Exiting the program\n"
     ]
    }
   ],
   "execution_count": 4
  },
  {
   "metadata": {},
   "cell_type": "markdown",
   "source": "### Custom exception\n",
   "id": "748c8a0e9276bc12"
  },
  {
   "metadata": {
    "ExecuteTime": {
     "end_time": "2025-09-27T15:35:12.096385Z",
     "start_time": "2025-09-27T15:35:12.069107Z"
    }
   },
   "cell_type": "code",
   "source": [
    "class TooManyStudentsError(Exception):\n",
    "    pass\n",
    "\n",
    "students = [\"Alice\", \"Bob\", \"Charlie\", \"Dora\", \"Eve\"]\n",
    "\n",
    "if len(students) > 4:\n",
    "    raise TooManyStudentsError(\"We can only handle 4 students at a time!\")\n"
   ],
   "id": "8e134621e3de2d57",
   "outputs": [
    {
     "ename": "TooManyStudentsError",
     "evalue": "We can only handle 4 students at a time!",
     "output_type": "error",
     "traceback": [
      "\u001B[0;31m---------------------------------------------------------------------------\u001B[0m",
      "\u001B[0;31mTooManyStudentsError\u001B[0m                      Traceback (most recent call last)",
      "Cell \u001B[0;32mIn[15], line 7\u001B[0m\n\u001B[1;32m      4\u001B[0m students \u001B[38;5;241m=\u001B[39m [\u001B[38;5;124m\"\u001B[39m\u001B[38;5;124mAlice\u001B[39m\u001B[38;5;124m\"\u001B[39m, \u001B[38;5;124m\"\u001B[39m\u001B[38;5;124mBob\u001B[39m\u001B[38;5;124m\"\u001B[39m, \u001B[38;5;124m\"\u001B[39m\u001B[38;5;124mCharlie\u001B[39m\u001B[38;5;124m\"\u001B[39m, \u001B[38;5;124m\"\u001B[39m\u001B[38;5;124mDora\u001B[39m\u001B[38;5;124m\"\u001B[39m, \u001B[38;5;124m\"\u001B[39m\u001B[38;5;124mEve\u001B[39m\u001B[38;5;124m\"\u001B[39m]\n\u001B[1;32m      6\u001B[0m \u001B[38;5;28;01mif\u001B[39;00m \u001B[38;5;28mlen\u001B[39m(students) \u001B[38;5;241m>\u001B[39m \u001B[38;5;241m4\u001B[39m:\n\u001B[0;32m----> 7\u001B[0m     \u001B[38;5;28;01mraise\u001B[39;00m TooManyStudentsError(\u001B[38;5;124m\"\u001B[39m\u001B[38;5;124mWe can only handle 4 students at a time!\u001B[39m\u001B[38;5;124m\"\u001B[39m)\n",
      "\u001B[0;31mTooManyStudentsError\u001B[0m: We can only handle 4 students at a time!"
     ]
    }
   ],
   "execution_count": 15
  },
  {
   "metadata": {
    "ExecuteTime": {
     "end_time": "2025-09-27T15:35:26.040920Z",
     "start_time": "2025-09-27T15:35:26.033608Z"
    }
   },
   "cell_type": "code",
   "source": [
    "students = [\"Alice\", \"Dora\", \"Eve\"]\n",
    "try:\n",
    "    if len(students) >4:\n",
    "        raise TooManyStudentsError(\"We can only handle 4 students at a time!\")\n",
    "    else:\n",
    "        for student in students:\n",
    "            print(student)\n",
    "except TooManyStudentsError as e:\n",
    "    print(e)\n",
    "finally:\n",
    "    print(\"Thanks, visit again\")"
   ],
   "id": "2baffa0e820c86e5",
   "outputs": [
    {
     "name": "stdout",
     "output_type": "stream",
     "text": [
      "Alice\n",
      "Dora\n",
      "Eve\n",
      "Thanks, visit again\n"
     ]
    }
   ],
   "execution_count": 17
  },
  {
   "metadata": {},
   "cell_type": "code",
   "outputs": [],
   "execution_count": null,
   "source": "",
   "id": "3a50012460caad7c"
  },
  {
   "metadata": {},
   "cell_type": "code",
   "outputs": [],
   "execution_count": null,
   "source": "",
   "id": "cd14f63e27f70231"
  }
 ],
 "metadata": {
  "kernelspec": {
   "display_name": "Python 3",
   "language": "python",
   "name": "python3"
  },
  "language_info": {
   "codemirror_mode": {
    "name": "ipython",
    "version": 2
   },
   "file_extension": ".py",
   "mimetype": "text/x-python",
   "name": "python",
   "nbconvert_exporter": "python",
   "pygments_lexer": "ipython2",
   "version": "2.7.6"
  }
 },
 "nbformat": 4,
 "nbformat_minor": 5
}
