{
 "cells": [
  {
   "metadata": {},
   "cell_type": "markdown",
   "source": [
    "# 1. Hello world\n",
    "\n",
    "This is a jupyter notebook, to run the code simply go to each cell and click run"
   ],
   "id": "b532d36525e0dd46"
  },
  {
   "metadata": {
    "ExecuteTime": {
     "end_time": "2025-08-22T04:53:03.543577Z",
     "start_time": "2025-08-22T04:53:03.540669Z"
    }
   },
   "cell_type": "code",
   "source": "print(\"Hello World\")\n",
   "id": "d67c7af4a799a7fc",
   "outputs": [
    {
     "name": "stdout",
     "output_type": "stream",
     "text": [
      "Hello World\n"
     ]
    }
   ],
   "execution_count": 25
  },
  {
   "metadata": {},
   "cell_type": "markdown",
   "source": [
    "# 2. Variables\n",
    "\n",
    "* Container for data.\n",
    "* Created when value is assigned\n",
    "* Isn't fixed to a specific value\n",
    "* Can be type-casted\n",
    "* Variable type can be selected with the ```type()``` function\n",
    "* Variables are case sensitive"
   ],
   "id": "4bdf105bc64be07a"
  },
  {
   "metadata": {
    "ExecuteTime": {
     "end_time": "2025-08-22T04:53:03.557689Z",
     "start_time": "2025-08-22T04:53:03.555782Z"
    }
   },
   "cell_type": "code",
   "source": [
    "x = 5\n",
    "y = \"Hi\"\n",
    "print(\"x is: \", x)\n",
    "print(\"y is: \", y)"
   ],
   "id": "37cac3f836c6c165",
   "outputs": [
    {
     "name": "stdout",
     "output_type": "stream",
     "text": [
      "x is:  5\n",
      "y is:  Hi\n"
     ]
    }
   ],
   "execution_count": 26
  },
  {
   "metadata": {
    "ExecuteTime": {
     "end_time": "2025-08-22T04:53:03.575472Z",
     "start_time": "2025-08-22T04:53:03.573477Z"
    }
   },
   "cell_type": "code",
   "source": [
    "x = 4  # x is of type int\n",
    "print(\"initially x is: \", x)\n",
    "x = \"Mario\"  # x is now of type str\n",
    "print(\"finally x is: \", x)"
   ],
   "id": "43b782729d3550a",
   "outputs": [
    {
     "name": "stdout",
     "output_type": "stream",
     "text": [
      "initially x is:  4\n",
      "finally x is:  Mario\n"
     ]
    }
   ],
   "execution_count": 27
  },
  {
   "metadata": {
    "ExecuteTime": {
     "end_time": "2025-08-22T04:53:03.582250Z",
     "start_time": "2025-08-22T04:53:03.580138Z"
    }
   },
   "cell_type": "code",
   "source": [
    "x = str(3)  # x will be '3'\n",
    "y = int(3)  # y will be 3\n",
    "z = float(3)  # z will be 3.0\n",
    "\n",
    "print(\"x is: \", x, \", y is: \", y, \", z is: \", z)\n",
    "print(\"x is of type: \", type(x), \", y is of type: \", type(y), \", z is of type: \", type(z))"
   ],
   "id": "991cadb5efede553",
   "outputs": [
    {
     "name": "stdout",
     "output_type": "stream",
     "text": [
      "x is:  3 , y is:  3 , z is:  3.0\n",
      "x is of type:  <class 'str'> , y is of type:  <class 'int'> , z is of type:  <class 'float'>\n"
     ]
    }
   ],
   "execution_count": 28
  },
  {
   "metadata": {
    "ExecuteTime": {
     "end_time": "2025-08-22T04:53:03.592028Z",
     "start_time": "2025-08-22T04:53:03.590127Z"
    }
   },
   "cell_type": "code",
   "source": [
    "a = 4\n",
    "A = \"Sally\"\n",
    "#A will not overwrite a\n",
    "\n",
    "print(\"A is {}\".format(A))  ## another way of getting output\n",
    "print(\"a is {}\".format(a))  ## another way of getting output"
   ],
   "id": "f3c2ca3c3679b497",
   "outputs": [
    {
     "name": "stdout",
     "output_type": "stream",
     "text": [
      "A is Sally\n",
      "a is 4\n"
     ]
    }
   ],
   "execution_count": 29
  },
  {
   "metadata": {},
   "cell_type": "markdown",
   "source": [
    "### Variable naming\n",
    "\n",
    "* A variable name must start with a letter or the underscore character\n",
    "* A variable name cannot start with a number\n",
    "* A variable name can only contain alpha-numeric characters and underscores (A-z, 0-9, and _ )\n",
    "* Variable names are case-sensitive (age, Age and AGE are three different variables)\n",
    "* A variable name cannot be any of the Python keywords (like ```if```, ```print``` etc.)."
   ],
   "id": "e3b43cbdd48597ac"
  },
  {
   "metadata": {
    "ExecuteTime": {
     "end_time": "2025-08-22T04:53:03.603038Z",
     "start_time": "2025-08-22T04:53:03.601022Z"
    }
   },
   "cell_type": "code",
   "source": [
    "# Correct names\n",
    "\n",
    "myvar = \"John\"\n",
    "my_var = \"John\"\n",
    "_my_var = \"John\"\n",
    "myVar = \"John\"\n",
    "MYVAR = \"John\"\n",
    "myvar2 = \"John\"\n",
    "\n",
    "print(\n",
    "    f\"myvar is : {myvar} \\nmy_var is : {my_var} \\n_my_var is : {_my_var} \\nmyVar is : {myVar} \\nMYVAR is : {MYVAR}  \\nmyvar2 is : {myvar2}\")"
   ],
   "id": "e148db1bb72f5a7",
   "outputs": [
    {
     "name": "stdout",
     "output_type": "stream",
     "text": [
      "myvar is : John \n",
      "my_var is : John \n",
      "_my_var is : John \n",
      "myVar is : John \n",
      "MYVAR is : John  \n",
      "myvar2 is : John\n"
     ]
    }
   ],
   "execution_count": 30
  },
  {
   "metadata": {
    "ExecuteTime": {
     "end_time": "2025-08-22T04:53:03.610119Z",
     "start_time": "2025-08-22T04:53:03.607567Z"
    }
   },
   "cell_type": "code",
   "source": [
    "# Incorrect names\n",
    "2\n",
    "myvar = \"John\"\n",
    "my - var = \"John\"\n",
    "my\n",
    "var = \"John\"\n",
    "print = \"John\"\n",
    "\n",
    "# This cell will give error"
   ],
   "id": "271569a522d3bd0e",
   "outputs": [
    {
     "ename": "SyntaxError",
     "evalue": "cannot assign to expression here. Maybe you meant '==' instead of '='? (1196934746.py, line 4)",
     "output_type": "error",
     "traceback": [
      "\u001B[0;36m  Cell \u001B[0;32mIn[31], line 4\u001B[0;36m\u001B[0m\n\u001B[0;31m    my - var = \"John\"\u001B[0m\n\u001B[0m    ^\u001B[0m\n\u001B[0;31mSyntaxError\u001B[0m\u001B[0;31m:\u001B[0m cannot assign to expression here. Maybe you meant '==' instead of '='?\n"
     ]
    }
   ],
   "execution_count": 31
  },
  {
   "metadata": {},
   "cell_type": "markdown",
   "source": [
    "### Casing\n",
    "* Camel Case : Each word, except the first, starts with a capital letter\n",
    "* Pascal Case : Each word starts with a capital letter\n",
    "* Snake Case : Each word is separated by an underscore character"
   ],
   "id": "f6c5b81a0cb8b58"
  },
  {
   "metadata": {
    "ExecuteTime": {
     "end_time": "2025-08-22T04:54:25.438089Z",
     "start_time": "2025-08-22T04:54:25.434699Z"
    }
   },
   "cell_type": "code",
   "source": [
    "myVariableName = \"Luigi\"  # Camel case\n",
    "MyVariableName = \"Luigi\"  # Pascal case\n",
    "my_variable_name = \"Luigi\" # Snake case\n",
    "\n"
   ],
   "id": "eae093ef73c12007",
   "outputs": [],
   "execution_count": 32
  },
  {
   "metadata": {},
   "cell_type": "markdown",
   "source": [
    "### Some other styles\n",
    "Other than single variable - single value"
   ],
   "id": "c97e46439be0d6f1"
  },
  {
   "metadata": {
    "ExecuteTime": {
     "end_time": "2025-08-22T04:54:27.304429Z",
     "start_time": "2025-08-22T04:54:27.300357Z"
    }
   },
   "cell_type": "code",
   "source": [
    "# multiple variables - multiple values\n",
    "\n",
    "x, y, z = \"Alpha\", \"Beta\", \"Gamma\"\n",
    "print(f\"x is {x}\")\n",
    "print(f\"y is {y}\")\n",
    "print(f\"z is {z}\")"
   ],
   "id": "1387488ccc3baf69",
   "outputs": [
    {
     "name": "stdout",
     "output_type": "stream",
     "text": [
      "x is Alpha\n",
      "y is Beta\n",
      "z is Gamma\n"
     ]
    }
   ],
   "execution_count": 33
  },
  {
   "metadata": {
    "ExecuteTime": {
     "end_time": "2025-08-22T04:54:28.599129Z",
     "start_time": "2025-08-22T04:54:28.596269Z"
    }
   },
   "cell_type": "code",
   "source": [
    "# multiple variables - single value\n",
    "\n",
    "x = y = z = \"Delta\"\n",
    "\n",
    "print(f\"x is {x}\")\n",
    "print(f\"y is {y}\")\n",
    "print(f\"z is {z}\")"
   ],
   "id": "da2ffeb17dd1b4ce",
   "outputs": [
    {
     "name": "stdout",
     "output_type": "stream",
     "text": [
      "x is Delta\n",
      "y is Delta\n",
      "z is Delta\n"
     ]
    }
   ],
   "execution_count": 34
  },
  {
   "metadata": {
    "ExecuteTime": {
     "end_time": "2025-08-22T04:54:29.149135Z",
     "start_time": "2025-08-22T04:54:29.146365Z"
    }
   },
   "cell_type": "code",
   "source": [
    "# unpacking\n",
    "\n",
    "letters = [\"Alpha\", \"Beta\", \"Gamma\"]\n",
    "x, y, z = letters\n",
    "print(f\"x is {x}\")\n",
    "print(f\"y is {y}\")\n",
    "print(f\"z is {z}\")"
   ],
   "id": "860c181dfd183cf4",
   "outputs": [
    {
     "name": "stdout",
     "output_type": "stream",
     "text": [
      "x is Alpha\n",
      "y is Beta\n",
      "z is Gamma\n"
     ]
    }
   ],
   "execution_count": 35
  },
  {
   "metadata": {},
   "cell_type": "markdown",
   "source": [
    "# 3. Comments\n",
    "* Helps explain\n",
    "* Helps understand\n",
    "* Prevents execution"
   ],
   "id": "b9a67dca5dd0c20f"
  },
  {
   "metadata": {
    "ExecuteTime": {
     "end_time": "2025-08-22T04:54:30.609310Z",
     "start_time": "2025-08-22T04:54:30.605792Z"
    }
   },
   "cell_type": "code",
   "source": "# This is a single line comment",
   "id": "34bee925415227ac",
   "outputs": [],
   "execution_count": 36
  },
  {
   "metadata": {
    "ExecuteTime": {
     "end_time": "2025-08-22T04:54:31.104711Z",
     "start_time": "2025-08-22T04:54:31.101399Z"
    }
   },
   "cell_type": "code",
   "source": [
    "'''This is a comment\n",
    "    that spans\n",
    "    multiple lines''';"
   ],
   "id": "4b2473ba3a24f1c8",
   "outputs": [],
   "execution_count": 37
  },
  {
   "metadata": {},
   "cell_type": "markdown",
   "source": [
    "**NOTE**:\n",
    "```#``` is used for comments (ignored by Python).\n",
    "\n",
    "```''' ... '''``` or ```\"\"\" ... \"\"\"``` are not comments — they are multi-line strings.\n",
    "\n",
    "If not assigned to a variable, Python just creates the string and discards it.\n",
    "\n",
    "In Jupyter, the last line of a cell gets displayed, so it looks like it’s \"not working\" because it prints the string instead of being ignored.\n",
    "To make it work in jupyter, just add a ; at the end."
   ],
   "id": "e103a012a456d267"
  },
  {
   "metadata": {},
   "cell_type": "markdown",
   "source": [
    "# 4. I/O\n",
    "\n",
    "Inputs and outputs"
   ],
   "id": "c274860771158063"
  },
  {
   "metadata": {
    "ExecuteTime": {
     "end_time": "2025-08-22T04:54:41.433296Z",
     "start_time": "2025-08-22T04:54:32.751899Z"
    }
   },
   "cell_type": "code",
   "source": [
    "my_name=input(\"What is your name?\")\n",
    "my_age=int(input(\"How old are you?\"))\n",
    "\n",
    "print(f\"Hello {my_name}, you are {my_age} years old\")\n",
    "\n",
    "print(\"variable my_name is of type :\")\n",
    "print(type(my_name))\n",
    "\n",
    "print(\"variable my_age is of type :\")\n",
    "print(type(my_age))\n"
   ],
   "id": "53081931c42166a",
   "outputs": [
    {
     "name": "stdout",
     "output_type": "stream",
     "text": [
      "Hello anurag, you are 22 years old\n",
      "variable my_name is of type :\n",
      "<class 'str'>\n",
      "variable my_age is of type :\n",
      "<class 'int'>\n"
     ]
    }
   ],
   "execution_count": 38
  },
  {
   "metadata": {
    "ExecuteTime": {
     "end_time": "2025-08-22T04:54:43.419564Z",
     "start_time": "2025-08-22T04:54:43.415331Z"
    }
   },
   "cell_type": "code",
   "source": [
    "print(\"Format 1: \")\n",
    "print(my_name, \"is\", my_age, \"years old.\")\n",
    "print(\"Format 2: \")\n",
    "print(\"{} is {} years old.\".format(my_name,my_age))\n",
    "print(\"Format 3: \")\n",
    "print(f\"{my_name} is {my_age} years old.\")"
   ],
   "id": "1967de25ca2d1210",
   "outputs": [
    {
     "name": "stdout",
     "output_type": "stream",
     "text": [
      "Format 1: \n",
      "anurag is 22 years old.\n",
      "Format 2: \n",
      "anurag is 22 years old.\n",
      "Format 3: \n",
      "anurag is 22 years old.\n"
     ]
    }
   ],
   "execution_count": 39
  },
  {
   "metadata": {},
   "cell_type": "code",
   "outputs": [],
   "execution_count": null,
   "source": "",
   "id": "36158254522a6a9f"
  }
 ],
 "metadata": {},
 "nbformat": 4,
 "nbformat_minor": 5
}
