{
 "cells": [
  {
   "metadata": {
    "ExecuteTime": {
     "end_time": "2025-08-24T17:01:37.849170Z",
     "start_time": "2025-08-24T17:01:37.845437Z"
    }
   },
   "cell_type": "code",
   "source": [
    "def pretty_section(title):\n",
    "    print(f\"\\n{'='*50}\\n{title}\\n{'='*50}\")"
   ],
   "id": "c3cded780084dba0",
   "outputs": [],
   "execution_count": 1
  },
  {
   "metadata": {},
   "cell_type": "markdown",
   "source": "# Control Flow",
   "id": "67380ceebfa37057"
  },
  {
   "metadata": {},
   "cell_type": "markdown",
   "source": "## Basics",
   "id": "b895c5dddb1214b7"
  },
  {
   "cell_type": "code",
   "id": "2e622e04ddeaa6be",
   "metadata": {
    "ExecuteTime": {
     "end_time": "2025-08-24T17:01:37.855645Z",
     "start_time": "2025-08-24T17:01:37.853053Z"
    }
   },
   "source": [
    "pretty_section(\"Basics\")\n",
    "\n",
    "print(\"== Truthy and Falsy values ==\")\n",
    "print(bool(0), \"-> 0 is False\")\n",
    "print(bool(1), \"-> 1 is True\")\n",
    "print(bool(\"\"), \"-> Empty string is False\")\n",
    "print(bool(\"Python\"), \"-> Non-empty string is True\")\n",
    "print(bool([]), \"-> Empty list is False\")\n",
    "print(bool([1,2,3]), \"-> Non-empty list is True\")\n",
    "print()"
   ],
   "outputs": [
    {
     "name": "stdout",
     "output_type": "stream",
     "text": [
      "\n",
      "==================================================\n",
      "Basics\n",
      "==================================================\n",
      "== Truthy and Falsy values ==\n",
      "False -> 0 is False\n",
      "True -> 1 is True\n",
      "False -> Empty string is False\n",
      "True -> Non-empty string is True\n",
      "False -> Empty list is False\n",
      "True -> Non-empty list is True\n",
      "\n"
     ]
    }
   ],
   "execution_count": 2
  },
  {
   "metadata": {},
   "cell_type": "markdown",
   "source": "## if - else",
   "id": "cd735d0a47b0a09d"
  },
  {
   "metadata": {
    "ExecuteTime": {
     "end_time": "2025-08-24T17:14:47.888204Z",
     "start_time": "2025-08-24T17:14:47.886057Z"
    }
   },
   "cell_type": "code",
   "source": [
    "pretty_section(\"if - else\")\n",
    "\n",
    "x = 1\n",
    "if x > 15:\n",
    "    print(\"x is greater than 15\")\n",
    "elif x == 10:\n",
    "    print(\"x is equal to 10\")\n",
    "else:\n",
    "    print(\"x is less than 15 and not 10\")\n",
    "print()"
   ],
   "id": "b530dcbd0a6f5c4a",
   "outputs": [
    {
     "name": "stdout",
     "output_type": "stream",
     "text": [
      "\n",
      "==================================================\n",
      "if - else\n",
      "==================================================\n",
      "x is less than 15 and not 10\n",
      "\n"
     ]
    }
   ],
   "execution_count": 11
  },
  {
   "metadata": {},
   "cell_type": "markdown",
   "source": "## while",
   "id": "37792523b787605c"
  },
  {
   "metadata": {
    "ExecuteTime": {
     "end_time": "2025-08-24T17:19:38.321359Z",
     "start_time": "2025-08-24T17:19:38.316325Z"
    }
   },
   "cell_type": "code",
   "source": [
    "pretty_section(\"while\")\n",
    "\n",
    "count = 0\n",
    "while count < 3:\n",
    "    print(\"Count:\", count)\n",
    "    count += 1\n",
    "print()"
   ],
   "id": "52a5d362ad65fec1",
   "outputs": [
    {
     "name": "stdout",
     "output_type": "stream",
     "text": [
      "\n",
      "==================================================\n",
      "while\n",
      "==================================================\n",
      "Count: 0\n",
      "Count: 1\n",
      "Count: 2\n",
      "\n"
     ]
    }
   ],
   "execution_count": 14
  },
  {
   "metadata": {
    "ExecuteTime": {
     "end_time": "2025-08-24T17:19:43.458667Z",
     "start_time": "2025-08-24T17:19:43.455435Z"
    }
   },
   "cell_type": "code",
   "source": [
    "\n",
    "count = 0\n",
    "while count < 5:\n",
    "    if count == 3:\n",
    "        print(\"Breaking at\", count)\n",
    "        break\n",
    "    print(\"Count:\", count)\n",
    "    count += 1"
   ],
   "id": "4489d5ae51027c9d",
   "outputs": [
    {
     "name": "stdout",
     "output_type": "stream",
     "text": [
      "Count: 0\n",
      "Count: 1\n",
      "Count: 2\n",
      "Breaking at 3\n"
     ]
    }
   ],
   "execution_count": 15
  },
  {
   "metadata": {
    "ExecuteTime": {
     "end_time": "2025-08-24T17:19:46.844604Z",
     "start_time": "2025-08-24T17:19:46.841800Z"
    }
   },
   "cell_type": "code",
   "source": [
    "\n",
    "count = 0\n",
    "while count < 5:\n",
    "    count += 1\n",
    "    if count == 2:\n",
    "        print(\"Skipping 2\")\n",
    "        continue\n",
    "    print(\"Count:\", count)"
   ],
   "id": "22c16e27ca9dec3d",
   "outputs": [
    {
     "name": "stdout",
     "output_type": "stream",
     "text": [
      "Count: 1\n",
      "Skipping 2\n",
      "Count: 3\n",
      "Count: 4\n",
      "Count: 5\n"
     ]
    }
   ],
   "execution_count": 16
  },
  {
   "metadata": {
    "ExecuteTime": {
     "end_time": "2025-08-24T17:20:12.513063Z",
     "start_time": "2025-08-24T17:20:12.509732Z"
    }
   },
   "cell_type": "code",
   "source": [
    "\n",
    "count = 0\n",
    "while count < 3:\n",
    "    print(\"Count:\", count)\n",
    "    count += 1\n",
    "else:\n",
    "    print(\"Loop ended naturally (no break used)\")\n",
    "print()"
   ],
   "id": "8e999253e300a8b3",
   "outputs": [
    {
     "name": "stdout",
     "output_type": "stream",
     "text": [
      "Count: 0\n",
      "Count: 1\n",
      "Count: 2\n",
      "Loop ended naturally (no break used)\n",
      "\n"
     ]
    }
   ],
   "execution_count": 17
  },
  {
   "metadata": {},
   "cell_type": "markdown",
   "source": "## for",
   "id": "d1ee3eecee83f951"
  },
  {
   "metadata": {
    "ExecuteTime": {
     "end_time": "2025-08-24T17:21:08.131328Z",
     "start_time": "2025-08-24T17:21:08.129389Z"
    }
   },
   "cell_type": "code",
   "source": [
    "pretty_section(\"for\")\n",
    "\n",
    "print(\"== for loop ==\")\n",
    "for i in range(5,10):\n",
    "    print(\"Iteration:\", i)\n",
    "print()"
   ],
   "id": "e711c78569ec0e78",
   "outputs": [
    {
     "name": "stdout",
     "output_type": "stream",
     "text": [
      "\n",
      "==================================================\n",
      "for\n",
      "==================================================\n",
      "== for loop ==\n",
      "Iteration: 5\n",
      "Iteration: 6\n",
      "Iteration: 7\n",
      "Iteration: 8\n",
      "Iteration: 9\n",
      "\n"
     ]
    }
   ],
   "execution_count": 19
  },
  {
   "metadata": {
    "ExecuteTime": {
     "end_time": "2025-08-24T17:21:15.492319Z",
     "start_time": "2025-08-24T17:21:15.488044Z"
    }
   },
   "cell_type": "code",
   "source": [
    "for i in range(5):\n",
    "    if i == 2:\n",
    "        print(\"Breaking at\", i)\n",
    "        break\n",
    "    print(\"Iteration:\", i)"
   ],
   "id": "61091191f4f209a4",
   "outputs": [
    {
     "name": "stdout",
     "output_type": "stream",
     "text": [
      "Iteration: 0\n",
      "Iteration: 1\n",
      "Breaking at 2\n"
     ]
    }
   ],
   "execution_count": 20
  },
  {
   "metadata": {
    "ExecuteTime": {
     "end_time": "2025-08-24T17:21:27.609748Z",
     "start_time": "2025-08-24T17:21:27.606645Z"
    }
   },
   "cell_type": "code",
   "source": [
    "\n",
    "for i in range(5):\n",
    "    if i % 2 == 0:\n",
    "        print(\"Skipping even:\", i)\n",
    "        continue\n",
    "    print(\"Odd number:\", i)"
   ],
   "id": "4f73eb7d682c9d6c",
   "outputs": [
    {
     "name": "stdout",
     "output_type": "stream",
     "text": [
      "Skipping even: 0\n",
      "Odd number: 1\n",
      "Skipping even: 2\n",
      "Odd number: 3\n",
      "Skipping even: 4\n"
     ]
    }
   ],
   "execution_count": 21
  },
  {
   "metadata": {
    "ExecuteTime": {
     "end_time": "2025-08-24T17:21:48.941490Z",
     "start_time": "2025-08-24T17:21:48.937782Z"
    }
   },
   "cell_type": "code",
   "source": [
    "\n",
    "for i in range(3):\n",
    "    print(\"Iteration:\", i)\n",
    "else:\n",
    "    print(\"For loop ended without break\")\n",
    "print()"
   ],
   "id": "1ad984b35e7efbdf",
   "outputs": [
    {
     "name": "stdout",
     "output_type": "stream",
     "text": [
      "Iteration: 0\n",
      "Iteration: 1\n",
      "Iteration: 2\n",
      "For loop ended without break\n",
      "\n"
     ]
    }
   ],
   "execution_count": 22
  },
  {
   "metadata": {},
   "cell_type": "markdown",
   "source": "## Other styles",
   "id": "ad8b67938c3bd3ed"
  },
  {
   "metadata": {
    "ExecuteTime": {
     "end_time": "2025-08-24T17:23:15.343360Z",
     "start_time": "2025-08-24T17:23:15.339815Z"
    }
   },
   "cell_type": "code",
   "source": [
    "pretty_section(\"Iterating Multiple Sequences\")\n",
    "\n",
    "print(\"== Iterating multiple sequences with zip() ==\")\n",
    "names = [\"Alice\", \"Bob\", \"Charlie\",]\n",
    "scores = [85, 92, 78, 26]\n",
    "\n",
    "for name, score in zip(names, scores):\n",
    "    print(f\"{name} scored {score}\")\n",
    "print()"
   ],
   "id": "afcda4621c022ab5",
   "outputs": [
    {
     "name": "stdout",
     "output_type": "stream",
     "text": [
      "\n",
      "==================================================\n",
      "Iterating Multiple Sequences\n",
      "==================================================\n",
      "== Iterating multiple sequences with zip() ==\n",
      "Alice scored 85\n",
      "Bob scored 92\n",
      "Charlie scored 78\n",
      "\n"
     ]
    }
   ],
   "execution_count": 26
  },
  {
   "metadata": {
    "ExecuteTime": {
     "end_time": "2025-08-24T17:23:57.737341Z",
     "start_time": "2025-08-24T17:23:57.733573Z"
    }
   },
   "cell_type": "code",
   "source": [
    "fruits = [\"apple\", \"banana\", \"cherry\", \"orange\"]\n",
    "\n",
    "for index, fruit in enumerate(fruits):\n",
    "    print(f\"Index {index}: {fruit}\")\n",
    "print()"
   ],
   "id": "19e1a1e629651d96",
   "outputs": [
    {
     "name": "stdout",
     "output_type": "stream",
     "text": [
      "Index 0: apple\n",
      "Index 1: banana\n",
      "Index 2: cherry\n",
      "Index 3: orange\n",
      "\n"
     ]
    }
   ],
   "execution_count": 27
  },
  {
   "metadata": {
    "ExecuteTime": {
     "end_time": "2025-08-24T17:22:23.460693Z",
     "start_time": "2025-08-24T17:22:23.455891Z"
    }
   },
   "cell_type": "code",
   "source": [
    "pretty_section(\"Using range()\")\n",
    "\n",
    "print(\"Range 0–4:\", list(range(5)))\n",
    "print(\"Range from 2 to 10 step 2:\", list(range(2, 10, 2)))\n",
    "print()\n",
    "\n",
    "nums = [1, 2, 3, 4, 5]\n",
    "\n",
    "\n",
    "\n",
    "print(\"Squares with for loop:\")\n",
    "squares = []\n",
    "for n in nums:\n",
    "    squares.append(n**2)\n",
    "print(squares)\n",
    "\n",
    "\n",
    "\n",
    "print(\"Squares with list comprehension (pythonic):\")\n",
    "print([n**2 for n in nums])\n"
   ],
   "id": "initial_id",
   "outputs": [
    {
     "name": "stdout",
     "output_type": "stream",
     "text": [
      "\n",
      "==================================================\n",
      "Using range()\n",
      "==================================================\n",
      "Range 0–4: [0, 1, 2, 3, 4]\n",
      "Range from 2 to 10 step 2: [2, 4, 6, 8]\n",
      "\n",
      "Squares with for loop:\n",
      "[1, 4, 9, 16, 25]\n",
      "Index 0: apple\n",
      "Index 1: banana\n",
      "Index 2: cherry\n",
      "Index 3: orange\n",
      "\n",
      "Squares with list comprehension (pythonic):\n",
      "[1, 4, 9, 16, 25]\n"
     ]
    }
   ],
   "execution_count": 23
  },
  {
   "metadata": {},
   "cell_type": "code",
   "outputs": [],
   "execution_count": null,
   "source": [
    "# ==================================================\n",
    "# CONTROL FLOW IN PYTHON\n",
    "# ==================================================\n",
    "\n",
    "# ==================================================\n",
    "# 1. Conditionals\n",
    "# ==================================================\n",
    "\n",
    "# --- if, elif, else statements ---\n",
    "print(\"== if, elif, else ==\")\n",
    "x = 12\n",
    "if x > 15:\n",
    "    print(\"x is greater than 15\")\n",
    "elif x == 12:\n",
    "    print(\"x is exactly 12\")\n",
    "else:\n",
    "    print(\"x is smaller than 15\")\n",
    "print()\n",
    "\n",
    "# --- Indentation rules and best practices ---\n",
    "print(\"== Indentation Example ==\")\n",
    "# Always use 4 spaces (not tabs) for consistency.\n",
    "if True:\n",
    "    print(\"This is indented correctly\")\n",
    "    if False:\n",
    "        print(\"This will not run\")\n",
    "    else:\n",
    "        print(\"This else belongs to the inner if\")\n",
    "print()\n",
    "\n",
    "# --- Logical operators: and, or, not ---\n",
    "print(\"== Logical operators ==\")\n",
    "age = 20\n",
    "has_id = True\n",
    "\n",
    "if age >= 18 and has_id:\n",
    "    print(\"Allowed entry (age AND ID)\")\n",
    "if age < 18 or not has_id:\n",
    "    print(\"Denied entry (either underage OR no ID)\")\n",
    "if not (age < 18):\n",
    "    print(\"Age condition is NOT less than 18\")\n",
    "print()\n",
    "\n",
    "\n",
    "# ==================================================\n",
    "# 2. Comparisons\n",
    "# ==================================================\n",
    "\n",
    "print(\"== Comparison operators ==\")\n",
    "a, b = 10, 20\n",
    "print(\"a == b:\", a == b)\n",
    "print(\"a != b:\", a != b)\n",
    "print(\"a < b:\", a < b)\n",
    "print(\"a > b:\", a > b)\n",
    "print(\"a <= b:\", a <= b)\n",
    "print(\"a >= b:\", a >= b)\n",
    "print()\n",
    "\n",
    "# Chained comparisons (Pythonic way)\n",
    "print(\"== Chained comparisons ==\")\n",
    "n = 15\n",
    "print(\"10 < n < 20:\", 10 < n < 20)  # checks both sides\n",
    "print(\"n == 10 or n == 15:\", n == 10 or n == 15)\n",
    "print()\n",
    "\n",
    "\n",
    "# ==================================================\n",
    "# 3. Loops\n",
    "# ==================================================\n",
    "\n",
    "# --- while loops ---\n",
    "print(\"== while loop ==\")\n",
    "count = 0\n",
    "while count < 3:\n",
    "    print(\"Count:\", count)\n",
    "    count += 1\n",
    "print()\n",
    "\n",
    "# Common pitfall: infinite loop (DON’T RUN IN REAL PROGRAMS)\n",
    "# while True:\n",
    "#     print(\"This never ends unless break is used\")\n",
    "\n",
    "# --- for loops with ranges ---\n",
    "print(\"== for loop with range ==\")\n",
    "for i in range(5):\n",
    "    print(\"Number:\", i)\n",
    "print()\n",
    "\n",
    "# --- Iterating over lists ---\n",
    "print(\"== Iterating over lists ==\")\n",
    "fruits = [\"apple\", \"banana\", \"cherry\"]\n",
    "for fruit in fruits:\n",
    "    print(\"Fruit:\", fruit)\n",
    "print()\n",
    "\n",
    "# --- Iterating over dictionaries ---\n",
    "print(\"== Iterating over dictionaries ==\")\n",
    "student = {\"name\": \"Alice\", \"age\": 21, \"grade\": \"A\"}\n",
    "for key, value in student.items():\n",
    "    print(f\"{key} -> {value}\")\n",
    "print()\n",
    "\n",
    "# --- Loop control statements ---\n",
    "print(\"== break, continue, pass ==\")\n",
    "\n",
    "print(\"Break example:\")\n",
    "for i in range(5):\n",
    "    if i == 3:\n",
    "        print(\"Breaking at\", i)\n",
    "        break\n",
    "    print(i)\n",
    "\n",
    "print(\"\\nContinue example:\")\n",
    "for i in range(5):\n",
    "    if i == 2:\n",
    "        print(\"Skipping\", i)\n",
    "        continue\n",
    "    print(i)\n",
    "\n",
    "print(\"\\nPass example:\")\n",
    "for i in range(3):\n",
    "    if i == 1:\n",
    "        pass  # Placeholder (do nothing)\n",
    "    print(\"i =\", i)\n",
    "print()\n",
    "\n",
    "\n",
    "# ==================================================\n",
    "# 4. Nested Control Flows\n",
    "# ==================================================\n",
    "\n",
    "# --- Conditionals inside loops ---\n",
    "print(\"== Conditionals inside loops ==\")\n",
    "numbers = [5, 10, 15, 20, 25]\n",
    "for num in numbers:\n",
    "    if num % 2 == 0:\n",
    "        print(num, \"is even\")\n",
    "    else:\n",
    "        print(num, \"is odd\")\n",
    "print()\n",
    "\n",
    "# --- Loops inside conditionals ---\n",
    "print(\"== Loops inside conditionals ==\")\n",
    "check = True\n",
    "if check:\n",
    "    print(\"Running loop because check is True\")\n",
    "    for char in \"Python\":\n",
    "        print(char)\n",
    "else:\n",
    "    print(\"Check is False, loop skipped\")\n",
    "print()\n",
    "\n",
    "# --- Nested loops ---\n",
    "print(\"== Nested loops ==\")\n",
    "for i in range(1, 4):\n",
    "    for j in range(1, 4):\n",
    "        print(f\"i={i}, j={j}\")\n",
    "    print(\"--- end of inner loop ---\")\n",
    "print()\n"
   ],
   "id": "8d8b2ae55dddb0c1"
  },
  {
   "metadata": {},
   "cell_type": "code",
   "outputs": [],
   "execution_count": null,
   "source": [
    "# ==================================================\n",
    "# CONTROL FLOW IN PYTHON\n",
    "# ==================================================\n",
    "\n",
    "# ==================================================\n",
    "# 1. Conditionals\n",
    "# ==================================================\n",
    "\n",
    "# --- Example 1: if, elif, else ---\n",
    "print(\"== Example 1: if, elif, else ==\")\n",
    "temperature = 30\n",
    "if temperature > 35:\n",
    "    print(\"It's very hot outside.\")\n",
    "elif temperature >= 25:\n",
    "    print(\"The weather is pleasant.\")\n",
    "else:\n",
    "    print(\"It feels cool.\")\n",
    "print()\n",
    "\n",
    "# --- Example 2: Nested conditionals ---\n",
    "print(\"== Example 2: Nested conditionals ==\")\n",
    "age = 20\n",
    "if age >= 18:\n",
    "    if age < 21:\n",
    "        print(\"You are an adult but not allowed to drink (in some countries).\")\n",
    "    else:\n",
    "        print(\"You are fully an adult.\")\n",
    "else:\n",
    "    print(\"You are a minor.\")\n",
    "print()\n",
    "\n",
    "# --- Example 3: Logical operators ---\n",
    "print(\"== Example 3: Logical operators ==\")\n",
    "age = 19\n",
    "has_ticket = True\n",
    "if age >= 18 and has_ticket:\n",
    "    print(\"Entry allowed.\")\n",
    "else:\n",
    "    print(\"Entry denied.\")\n",
    "print()\n",
    "\n",
    "\n",
    "# ==================================================\n",
    "# 2. Comparisons\n",
    "# ==================================================\n",
    "\n",
    "# --- Example 1: Comparison operators ---\n",
    "print(\"== Example 1: Comparison operators ==\")\n",
    "a, b = 10, 20\n",
    "print(\"a == b:\", a == b)\n",
    "print(\"a != b:\", a != b)\n",
    "print(\"a < b:\", a < b)\n",
    "print(\"a > b:\", a > b)\n",
    "print(\"a <= b:\", a <= b)\n",
    "print(\"a >= b:\", a >= b)\n",
    "print()\n",
    "\n",
    "# --- Example 2: Chained comparisons ---\n",
    "print(\"== Example 2: Chained comparisons ==\")\n",
    "n = 15\n",
    "if 10 < n < 20:\n",
    "    print(\"n is between 10 and 20\")\n",
    "else:\n",
    "    print(\"n is outside the range\")\n",
    "print()\n",
    "\n",
    "# --- Example 3: Multiple conditions ---\n",
    "print(\"== Example 3: Multiple conditions ==\")\n",
    "score = 85\n",
    "if score >= 90:\n",
    "    grade = \"A\"\n",
    "elif score >= 75:\n",
    "    grade = \"B\"\n",
    "else:\n",
    "    grade = \"C\"\n",
    "print(\"Grade:\", grade)\n",
    "print()\n",
    "\n",
    "\n",
    "# ==================================================\n",
    "# 3. Loops\n",
    "# ==================================================\n",
    "\n",
    "# --- Example 1: while loop ---\n",
    "print(\"== Example 1: while loop ==\")\n",
    "count = 0\n",
    "while count < 3:\n",
    "    print(\"Count:\", count)\n",
    "    count += 1\n",
    "print()\n",
    "\n",
    "# --- Example 2: while with break ---\n",
    "print(\"== Example 2: while with break ==\")\n",
    "n = 5\n",
    "while True:\n",
    "    print(\"n =\", n)\n",
    "    n -= 1\n",
    "    if n == 0:\n",
    "        print(\"Loop ended with break\")\n",
    "        break\n",
    "print()\n",
    "\n",
    "# --- Example 3: for loop with range ---\n",
    "print(\"== Example 3: for loop with range ==\")\n",
    "for i in range(1, 6):\n",
    "    print(\"Square of\", i, \"is\", i * i)\n",
    "print()\n",
    "\n",
    "# --- Example 4: Iterating over list ---\n",
    "print(\"== Example 4: Iterating over list ==\")\n",
    "fruits = [\"apple\", \"banana\", \"cherry\"]\n",
    "for fruit in fruits:\n",
    "    print(\"Fruit:\", fruit)\n",
    "print()\n",
    "\n",
    "# --- Example 5: Iterating over dictionary ---\n",
    "print(\"== Example 5: Iterating over dictionary ==\")\n",
    "student = {\"name\": \"Alice\", \"age\": 21, \"grade\": \"A\"}\n",
    "for key, value in student.items():\n",
    "    print(f\"{key}: {value}\")\n",
    "print()\n",
    "\n",
    "# --- Example 6: Loop control statements ---\n",
    "print(\"== Example 6: break, continue, pass ==\")\n",
    "for i in range(5):\n",
    "    if i == 2:\n",
    "        print(\"Skipping 2\")\n",
    "        continue\n",
    "    if i == 4:\n",
    "        print(\"Breaking at 4\")\n",
    "        break\n",
    "    print(\"i =\", i)\n",
    "\n",
    "for j in range(3):\n",
    "    if j == 1:\n",
    "        pass  # placeholder\n",
    "    print(\"j =\", j)\n",
    "print()\n",
    "\n",
    "\n",
    "# ==================================================\n",
    "# 4. Nested Control Flows\n",
    "# ==================================================\n",
    "\n",
    "# --- Example 1: Conditionals inside loop ---\n",
    "print(\"== Example 1: Conditionals inside loop ==\")\n",
    "numbers = [5, 10, 15, 20]\n",
    "for num in numbers:\n",
    "    if num % 2 == 0:\n",
    "        print(num, \"is even\")\n",
    "    else:\n",
    "        print(num, \"is odd\")\n",
    "print()\n",
    "\n",
    "# --- Example 2: Loop inside conditional ---\n",
    "print(\"== Example 2: Loop inside conditional ==\")\n",
    "is_ready = True\n",
    "if is_ready:\n",
    "    for c in \"Hi\":\n",
    "        print(\"Character:\", c)\n",
    "else:\n",
    "    print(\"Not ready\")\n",
    "print()\n",
    "\n",
    "# --- Example 3: Nested loops (multiplication table) ---\n",
    "print(\"== Example 3: Nested loops ==\")\n",
    "for i in range(1, 4):\n",
    "    for j in range(1, 4):\n",
    "        print(f\"{i} * {j} = {i*j}\")\n",
    "    print(\"---\")\n"
   ],
   "id": "f5be45f0dea40e7c"
  }
 ],
 "metadata": {
  "kernelspec": {
   "display_name": "Python 3",
   "language": "python",
   "name": "python3"
  },
  "language_info": {
   "codemirror_mode": {
    "name": "ipython",
    "version": 2
   },
   "file_extension": ".py",
   "mimetype": "text/x-python",
   "name": "python",
   "nbconvert_exporter": "python",
   "pygments_lexer": "ipython2",
   "version": "2.7.6"
  }
 },
 "nbformat": 4,
 "nbformat_minor": 5
}
