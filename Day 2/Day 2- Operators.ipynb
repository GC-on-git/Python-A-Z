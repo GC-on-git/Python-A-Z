{
 "cells": [
  {
   "metadata": {
    "ExecuteTime": {
     "end_time": "2025-08-24T16:47:55.240080Z",
     "start_time": "2025-08-24T16:47:55.234998Z"
    }
   },
   "cell_type": "code",
   "source": [
    "def pretty_section(title):\n",
    "    print(f\"\\n{'='*50}\\n{title}\\n{'='*50}\")"
   ],
   "id": "d2d3d4c32b2dd38",
   "outputs": [],
   "execution_count": 1
  },
  {
   "metadata": {},
   "cell_type": "markdown",
   "source": "# Operators\n",
   "id": "688f107977a33fb5"
  },
  {
   "metadata": {},
   "cell_type": "markdown",
   "source": "## Arithmetic Operators",
   "id": "4ec5cca7b4c70933"
  },
  {
   "metadata": {
    "ExecuteTime": {
     "end_time": "2025-08-24T16:47:55.248932Z",
     "start_time": "2025-08-24T16:47:55.246310Z"
    }
   },
   "cell_type": "code",
   "source": [
    "x, y = 10, 3\n",
    "print(\"x =\", x, \", y =\", y)\n",
    "\n",
    "# Addition\n",
    "print(\"Addition (x + y):\", x + y)   # 10 + 3 = 13\n",
    "\n",
    "# Subtraction\n",
    "print(\"Subtraction (x - y):\", x - y)   # 10 - 3 = 7\n",
    "\n",
    "# Multiplication\n",
    "print(\"Multiplication (x * y):\", x * y)   # 10 * 3 = 30\n",
    "\n",
    "# Division\n",
    "print(\"Division (x / y):\", x / y)   # 10 / 3 = 3.333...\n",
    "\n",
    "# Modulus\n",
    "print(\"Modulus (x % y):\", x % y)   # remainder of 10/3 = 1\n",
    "\n",
    "# Exponentiation\n",
    "print(\"Exponentiation (x ** y):\", x ** y)   # 10^3 = 1000\n",
    "\n",
    "# Floor division\n",
    "print(\"Floor Division (x // y):\", x // y)   # 10 // 3 = 3\n",
    "print()"
   ],
   "id": "ee45b5fa6aaf0413",
   "outputs": [
    {
     "name": "stdout",
     "output_type": "stream",
     "text": [
      "x = 10 , y = 3\n",
      "Addition (x + y): 13\n",
      "Subtraction (x - y): 7\n",
      "Multiplication (x * y): 30\n",
      "Division (x / y): 3.3333333333333335\n",
      "Modulus (x % y): 1\n",
      "Exponentiation (x ** y): 1000\n",
      "Floor Division (x // y): 3\n",
      "\n"
     ]
    }
   ],
   "execution_count": 2
  },
  {
   "metadata": {},
   "cell_type": "markdown",
   "source": "## Assignment Operators",
   "id": "7591687d08e8922b"
  },
  {
   "metadata": {
    "ExecuteTime": {
     "end_time": "2025-08-24T16:51:43.845276Z",
     "start_time": "2025-08-24T16:51:43.841500Z"
    }
   },
   "cell_type": "code",
   "source": [
    "print(\"=== Assignment Operators ===\")\n",
    "a = 5\n",
    "print(\"Initial a:\", a)\n",
    "\n",
    "a += 3   # same as a = a + 3\n",
    "print(\"After a += 3:\", a)\n",
    "\n",
    "a -= 2   # same as a = a - 2\n",
    "print(\"After a -= 2:\", a)\n",
    "\n",
    "a *= 4   # same as a = a * 4\n",
    "print(\"After a *= 4:\", a)\n",
    "\n",
    "a //= 3  # same as a = a // 3\n",
    "print(\"After a //= 3:\", a)\n",
    "\n",
    "a **= 2  # same as a = a ** 2\n",
    "print(\"After a **= 2:\", a)\n",
    "\n",
    "# := (walrus operator)\n",
    "print(\"Walrus operator (x := 7):\", (x := 7))\n",
    "print()\n"
   ],
   "id": "126393dbd0c6b9b5",
   "outputs": [
    {
     "name": "stdout",
     "output_type": "stream",
     "text": [
      "=== Assignment Operators ===\n",
      "Initial a: 5\n",
      "After a += 3: 8\n",
      "After a -= 2: 6\n",
      "After a *= 4: 24\n",
      "After a //= 3: 8\n",
      "After a **= 2: 64\n",
      "Walrus operator (x := 7): 7\n",
      "\n"
     ]
    }
   ],
   "execution_count": 9
  },
  {
   "metadata": {},
   "cell_type": "markdown",
   "source": "## Comparison Operators",
   "id": "f5c1d8cedc7aa2ea"
  },
  {
   "metadata": {
    "ExecuteTime": {
     "end_time": "2025-08-24T16:54:38.402478Z",
     "start_time": "2025-08-24T16:54:38.398215Z"
    }
   },
   "cell_type": "code",
   "source": [
    "x, y = 20, 20\n",
    "print(\"=== Comparison Operators ===\")\n",
    "print(\"x =\", x, \", y =\", y)\n",
    "print(\"x == y:\", x == y)   # equal\n",
    "print(\"x != y:\", x != y)   # not equal\n",
    "print(\"x > y:\", x > y)     # greater\n",
    "print(\"x < y:\", x < y)     # less\n",
    "print(\"x >= y:\", x >= y)   # greater or equal\n",
    "print(\"x <= y:\", x <= y)   # less or equal\n",
    "print()\n"
   ],
   "id": "39053ccf3686415f",
   "outputs": [
    {
     "name": "stdout",
     "output_type": "stream",
     "text": [
      "=== Comparison Operators ===\n",
      "x = 20 , y = 20\n",
      "x == y: True\n",
      "x != y: False\n",
      "x > y: False\n",
      "x < y: False\n",
      "x >= y: True\n",
      "x <= y: True\n",
      "\n"
     ]
    }
   ],
   "execution_count": 11
  },
  {
   "metadata": {},
   "cell_type": "markdown",
   "source": "## Logical Operators",
   "id": "a6031ba7912a850e"
  },
  {
   "metadata": {
    "ExecuteTime": {
     "end_time": "2025-08-24T16:47:55.279509Z",
     "start_time": "2025-08-24T16:47:55.277294Z"
    }
   },
   "cell_type": "code",
   "source": [
    "x, y = True, False\n",
    "print(\"=== Logical Operators ===\")\n",
    "print(\"x =\", x, \", y =\", y)\n",
    "print(\"x and y:\", x and y)   # both must be True\n",
    "print(\"x or y:\", x or y)     # at least one True\n",
    "print(\"not x:\", not x)       # reverses True/False\n",
    "print()\n"
   ],
   "id": "b2692bef40605f9d",
   "outputs": [
    {
     "name": "stdout",
     "output_type": "stream",
     "text": [
      "=== Logical Operators ===\n",
      "x = True , y = False\n",
      "x and y: False\n",
      "x or y: True\n",
      "not x: False\n",
      "\n"
     ]
    }
   ],
   "execution_count": 5
  },
  {
   "metadata": {},
   "cell_type": "markdown",
   "source": "## Identity Operators",
   "id": "9dd6f3f640267c"
  },
  {
   "metadata": {
    "ExecuteTime": {
     "end_time": "2025-08-24T16:58:06.738899Z",
     "start_time": "2025-08-24T16:58:06.735137Z"
    }
   },
   "cell_type": "code",
   "source": [
    "a = [1, 2, 3]\n",
    "b = a\n",
    "c = [1, 2, 3]\n",
    "print(\"=== Identity Operators ===\")\n",
    "print(\"a is c:\", a is c)       # same object\n",
    "print(\"a is not c:\", a is not c) # different objects despite same values\n",
    "print()\n"
   ],
   "id": "479c62d00d61dce7",
   "outputs": [
    {
     "name": "stdout",
     "output_type": "stream",
     "text": [
      "=== Identity Operators ===\n",
      "a is c: False\n",
      "a is not c: True\n",
      "\n"
     ]
    }
   ],
   "execution_count": 14
  },
  {
   "metadata": {},
   "cell_type": "markdown",
   "source": "## Membership Operators",
   "id": "a2e28f5ab39056b0"
  },
  {
   "metadata": {
    "ExecuteTime": {
     "end_time": "2025-08-24T16:58:27.650803Z",
     "start_time": "2025-08-24T16:58:27.641900Z"
    }
   },
   "cell_type": "code",
   "source": [
    "fruits = [\"apple\", \"banana\", \"cherry\"]\n",
    "print(\"=== Membership Operators ===\")\n",
    "print(\"'apple' in fruits:\", \"apple\" in fruits)       # True\n",
    "print(\"'orange' not in fruits:\", \"apple\" not in fruits) # True\n",
    "print()\n"
   ],
   "id": "db32462f63a8caa4",
   "outputs": [
    {
     "name": "stdout",
     "output_type": "stream",
     "text": [
      "=== Membership Operators ===\n",
      "'apple' in fruits: True\n",
      "'orange' not in fruits: False\n",
      "\n"
     ]
    }
   ],
   "execution_count": 15
  },
  {
   "metadata": {},
   "cell_type": "markdown",
   "source": "## Bitwise Operators",
   "id": "16bf3f33f76d247"
  },
  {
   "metadata": {
    "ExecuteTime": {
     "end_time": "2025-08-24T16:47:55.313870Z",
     "start_time": "2025-08-24T16:47:55.311392Z"
    }
   },
   "cell_type": "code",
   "source": [
    "x, y = 6, 3   # 6 = 110, 3 = 011 in binary\n",
    "print(\"=== Bitwise Operators ===\")\n",
    "print(\"x =\", x, \", y =\", y)\n",
    "\n",
    "print(\"x & y (AND):\", x & y)   # 110 & 011 = 010 -> 2\n",
    "print(\"x | y (OR):\", x | y)    # 110 | 011 = 111 -> 7\n",
    "print(\"x ^ y (XOR):\", x ^ y)   # 110 ^ 011 = 101 -> 5\n",
    "print(\"~x (NOT):\", ~x)         # inverts bits -> -(x+1)\n",
    "print(\"x << 2 (Left shift):\", x << 2)   # 110 << 2 = 11000 -> 24\n",
    "print(\"x >> 1 (Right shift):\", x >> 1)  # 110 >> 1 = 011 -> 3\n"
   ],
   "id": "1b96d1ffa087d40d",
   "outputs": [
    {
     "name": "stdout",
     "output_type": "stream",
     "text": [
      "=== Bitwise Operators ===\n",
      "x = 6 , y = 3\n",
      "x & y (AND): 2\n",
      "x | y (OR): 7\n",
      "x ^ y (XOR): 5\n",
      "~x (NOT): -7\n",
      "x << 2 (Left shift): 24\n",
      "x >> 1 (Right shift): 3\n"
     ]
    }
   ],
   "execution_count": 8
  },
  {
   "metadata": {},
   "cell_type": "markdown",
   "source": "",
   "id": "30f2237f8099a815"
  }
 ],
 "metadata": {
  "kernelspec": {
   "display_name": "Python 3",
   "language": "python",
   "name": "python3"
  },
  "language_info": {
   "codemirror_mode": {
    "name": "ipython",
    "version": 2
   },
   "file_extension": ".py",
   "mimetype": "text/x-python",
   "name": "python",
   "nbconvert_exporter": "python",
   "pygments_lexer": "ipython2",
   "version": "2.7.6"
  }
 },
 "nbformat": 4,
 "nbformat_minor": 5
}
