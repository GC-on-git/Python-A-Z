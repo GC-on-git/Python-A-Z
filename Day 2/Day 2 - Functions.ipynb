{
 "cells": [
  {
   "metadata": {
    "ExecuteTime": {
     "end_time": "2025-08-24T17:25:22.237599Z",
     "start_time": "2025-08-24T17:25:22.234145Z"
    }
   },
   "cell_type": "code",
   "source": [
    "print(\"Hello sagar\")\n",
    "print(\"Hello shyam\")\n",
    "print(\"Hello ram\")"
   ],
   "id": "5da59ee1ec32f894",
   "outputs": [
    {
     "name": "stdout",
     "output_type": "stream",
     "text": [
      "Hello sagar\n",
      "Hello shyam\n",
      "Hello ram\n"
     ]
    }
   ],
   "execution_count": 2
  },
  {
   "metadata": {},
   "cell_type": "markdown",
   "source": "# PYTHON FUNCTIONS",
   "id": "eadfe06cf51db8d2"
  },
  {
   "metadata": {},
   "cell_type": "markdown",
   "source": "## Creating a Function",
   "id": "8d72021dfe1242e3"
  },
  {
   "metadata": {
    "ExecuteTime": {
     "end_time": "2025-08-24T17:30:29.369152Z",
     "start_time": "2025-08-24T17:30:29.365200Z"
    }
   },
   "cell_type": "code",
   "source": [
    "def my_function():\n",
    "    # This function prints a simple message\n",
    "    print(\"Hello from a function\")\n",
    "\n",
    "# Calling the function\n",
    "my_function()\n",
    "print(\"hello normally\")"
   ],
   "id": "f12f8d07ef687ab9",
   "outputs": [
    {
     "name": "stdout",
     "output_type": "stream",
     "text": [
      "Hello from a function\n",
      "hello normally\n"
     ]
    }
   ],
   "execution_count": 3
  },
  {
   "metadata": {},
   "cell_type": "markdown",
   "source": "## Function with Arguments",
   "id": "c0d323bc179d27c4"
  },
  {
   "metadata": {
    "ExecuteTime": {
     "end_time": "2025-08-23T18:21:25.187298Z",
     "start_time": "2025-08-23T18:21:25.185693Z"
    }
   },
   "cell_type": "code",
   "source": [
    "def greet(fname):\n",
    "    # fname is a parameter, which will be replaced by an argument\n",
    "    print(fname + \" hello\")\n",
    "\n",
    "greet(\"Emil\")\n",
    "greet(\"Tobias\")\n",
    "greet(\"Linus\")\n",
    "print()"
   ],
   "id": "4c66a6d84b7a9ebb",
   "outputs": [
    {
     "name": "stdout",
     "output_type": "stream",
     "text": [
      "Emil hello\n",
      "Tobias hello\n",
      "Linus hello\n",
      "\n"
     ]
    }
   ],
   "execution_count": 2
  },
  {
   "metadata": {},
   "cell_type": "markdown",
   "source": "##  Multiple Arguments",
   "id": "7ae9b0a3d69a8484"
  },
  {
   "metadata": {
    "ExecuteTime": {
     "end_time": "2025-08-24T17:31:41.159643Z",
     "start_time": "2025-08-24T17:31:41.061619Z"
    }
   },
   "cell_type": "code",
   "source": [
    "def full_name(fname, lname):\n",
    "    print(fname + \" \" + lname)\n",
    "\n",
    "full_name(\"Emil\", \"Refsnes\")\n",
    "full_name(\"Emil\")   # Uncomment to see error (missing argument)\n",
    "print()"
   ],
   "id": "387f17da99085c24",
   "outputs": [
    {
     "name": "stdout",
     "output_type": "stream",
     "text": [
      "Emil Refsnes\n"
     ]
    },
    {
     "ename": "TypeError",
     "evalue": "full_name() missing 1 required positional argument: 'lname'",
     "output_type": "error",
     "traceback": [
      "\u001B[0;31m---------------------------------------------------------------------------\u001B[0m",
      "\u001B[0;31mTypeError\u001B[0m                                 Traceback (most recent call last)",
      "Cell \u001B[0;32mIn[4], line 5\u001B[0m\n\u001B[1;32m      2\u001B[0m     \u001B[38;5;28mprint\u001B[39m(fname \u001B[38;5;241m+\u001B[39m \u001B[38;5;124m\"\u001B[39m\u001B[38;5;124m \u001B[39m\u001B[38;5;124m\"\u001B[39m \u001B[38;5;241m+\u001B[39m lname)\n\u001B[1;32m      4\u001B[0m full_name(\u001B[38;5;124m\"\u001B[39m\u001B[38;5;124mEmil\u001B[39m\u001B[38;5;124m\"\u001B[39m, \u001B[38;5;124m\"\u001B[39m\u001B[38;5;124mRefsnes\u001B[39m\u001B[38;5;124m\"\u001B[39m)\n\u001B[0;32m----> 5\u001B[0m \u001B[43mfull_name\u001B[49m\u001B[43m(\u001B[49m\u001B[38;5;124;43m\"\u001B[39;49m\u001B[38;5;124;43mEmil\u001B[39;49m\u001B[38;5;124;43m\"\u001B[39;49m\u001B[43m)\u001B[49m   \u001B[38;5;66;03m# Uncomment to see error (missing argument)\u001B[39;00m\n\u001B[1;32m      6\u001B[0m \u001B[38;5;28mprint\u001B[39m()\n",
      "\u001B[0;31mTypeError\u001B[0m: full_name() missing 1 required positional argument: 'lname'"
     ]
    }
   ],
   "execution_count": 4
  },
  {
   "metadata": {},
   "cell_type": "markdown",
   "source": "## Arbitrary Arguments (*args)",
   "id": "8f33bec379ae2f1b"
  },
  {
   "metadata": {
    "ExecuteTime": {
     "end_time": "2025-08-24T17:32:33.781173Z",
     "start_time": "2025-08-24T17:32:33.777862Z"
    }
   },
   "cell_type": "code",
   "source": [
    "def kids(*names):\n",
    "    print(names)\n",
    "    # *args collects arguments as a tuple\n",
    "    print(\"The youngest child is \" + names[-1])\n",
    "\n",
    "kids(\"Emil\", \"Tobias\", \"Linus\")\n",
    "print()"
   ],
   "id": "dd540dfa83bdffe",
   "outputs": [
    {
     "name": "stdout",
     "output_type": "stream",
     "text": [
      "('Emil', 'Tobias', 'Linus')\n",
      "The youngest child is Linus\n",
      "\n"
     ]
    }
   ],
   "execution_count": 6
  },
  {
   "metadata": {},
   "cell_type": "markdown",
   "source": "## Keyword Arguments",
   "id": "277d79be88a7b5a0"
  },
  {
   "metadata": {
    "ExecuteTime": {
     "end_time": "2025-08-24T17:33:14.941719Z",
     "start_time": "2025-08-24T17:33:14.937514Z"
    }
   },
   "cell_type": "code",
   "source": [
    "def children(child3, child2, child1):\n",
    "    print(\"The youngest child is \" + child3)\n",
    "\n",
    "children(\"Emil\", \"Tobias\", \"Linus\")\n",
    "children(child1=\"Emil\", child2=\"Tobias\", child3=\"Linus\")\n",
    "print()"
   ],
   "id": "86ac94890da8b97f",
   "outputs": [
    {
     "name": "stdout",
     "output_type": "stream",
     "text": [
      "The youngest child is Emil\n",
      "The youngest child is Linus\n",
      "\n"
     ]
    }
   ],
   "execution_count": 7
  },
  {
   "metadata": {},
   "cell_type": "markdown",
   "source": "## Arbitrary Keyword Arguments (**kwargs)",
   "id": "452e9f0366190c8f"
  },
  {
   "metadata": {
    "ExecuteTime": {
     "end_time": "2025-08-24T17:33:57.069263Z",
     "start_time": "2025-08-24T17:33:57.066678Z"
    }
   },
   "cell_type": "code",
   "source": [
    "def kid_info(**kid):\n",
    "    print(kid)\n",
    "    # **kwargs collects arguments as a dictionary\n",
    "    print(\"His last name is \" + kid[\"lname\"])\n",
    "\n",
    "kid_info(fname=\"Tobias\", lname=\"Refsnes\")\n",
    "print()"
   ],
   "id": "779eb5367c36d878",
   "outputs": [
    {
     "name": "stdout",
     "output_type": "stream",
     "text": [
      "{'fname': 'Tobias', 'lname': 'Refsnes'}\n",
      "His last name is Refsnes\n",
      "\n"
     ]
    }
   ],
   "execution_count": 8
  },
  {
   "metadata": {},
   "cell_type": "markdown",
   "source": "## Default Parameter Values",
   "id": "560635f19305e0"
  },
  {
   "metadata": {
    "ExecuteTime": {
     "end_time": "2025-08-23T18:21:25.230303Z",
     "start_time": "2025-08-23T18:21:25.228582Z"
    }
   },
   "cell_type": "code",
   "source": [
    "def my_country(country=\"Norway\"):\n",
    "    print(\"I am from \" + country)\n",
    "\n",
    "my_country(\"Sweden\")\n",
    "my_country(\"India\")\n",
    "my_country()\n",
    "my_country(\"Brazil\")\n",
    "print()"
   ],
   "id": "57605fe54d3bede6",
   "outputs": [
    {
     "name": "stdout",
     "output_type": "stream",
     "text": [
      "I am from Sweden\n",
      "I am from India\n",
      "I am from Norway\n",
      "I am from Brazil\n",
      "\n"
     ]
    }
   ],
   "execution_count": 7
  },
  {
   "metadata": {},
   "cell_type": "markdown",
   "source": "## Passing a List as an Argument",
   "id": "81585fbb0fbf6f97"
  },
  {
   "metadata": {
    "ExecuteTime": {
     "end_time": "2025-08-24T17:35:04.841303Z",
     "start_time": "2025-08-24T17:35:04.838641Z"
    }
   },
   "cell_type": "code",
   "source": [
    "def print_food(food):\n",
    "    print(food)\n",
    "    for x in food:\n",
    "        print(x)\n",
    "\n",
    "fruits = [\"apple\", \"banana\", \"cherry\"]\n",
    "print_food(fruits)\n",
    "print()\n"
   ],
   "id": "8b30f6655950ccfb",
   "outputs": [
    {
     "name": "stdout",
     "output_type": "stream",
     "text": [
      "['apple', 'banana', 'cherry']\n",
      "apple\n",
      "banana\n",
      "cherry\n",
      "\n"
     ]
    }
   ],
   "execution_count": 9
  },
  {
   "metadata": {},
   "cell_type": "markdown",
   "source": "## Return Values",
   "id": "97783164309bac89"
  },
  {
   "metadata": {
    "ExecuteTime": {
     "end_time": "2025-08-23T18:21:25.242361Z",
     "start_time": "2025-08-23T18:21:25.240757Z"
    }
   },
   "cell_type": "code",
   "source": [
    "def multiply_by_five(x):\n",
    "    return 5 * x\n",
    "\n",
    "print(\"3 * 5 =\", multiply_by_five(3))\n",
    "print(\"5 * 5 =\", multiply_by_five(5))\n",
    "print(\"9 * 5 =\", multiply_by_five(9))\n",
    "print()"
   ],
   "id": "fcc530b60fc18504",
   "outputs": [
    {
     "name": "stdout",
     "output_type": "stream",
     "text": [
      "3 * 5 = 15\n",
      "5 * 5 = 25\n",
      "9 * 5 = 45\n",
      "\n"
     ]
    }
   ],
   "execution_count": 9
  },
  {
   "metadata": {},
   "cell_type": "markdown",
   "source": "## The pass Statement",
   "id": "9303de12343ad0e9"
  },
  {
   "metadata": {
    "ExecuteTime": {
     "end_time": "2025-08-23T18:21:25.250170Z",
     "start_time": "2025-08-23T18:21:25.248111Z"
    }
   },
   "cell_type": "code",
   "source": [
    "def placeholder_function():\n",
    "    # Functions cannot be empty, so we use 'pass'\n",
    "    pass\n",
    "print(\"Empty function defined successfully (no error).\")\n",
    "print()"
   ],
   "id": "a6f0bfc8120fe2af",
   "outputs": [
    {
     "name": "stdout",
     "output_type": "stream",
     "text": [
      "Empty function defined successfully (no error).\n",
      "\n"
     ]
    }
   ],
   "execution_count": 10
  },
  {
   "metadata": {},
   "cell_type": "markdown",
   "source": "## Positional-Only Arguments",
   "id": "c682e21cba61a86d"
  },
  {
   "metadata": {
    "ExecuteTime": {
     "end_time": "2025-08-23T18:21:25.257757Z",
     "start_time": "2025-08-23T18:21:25.255611Z"
    }
   },
   "cell_type": "code",
   "source": [
    "def pos_only(x, /):\n",
    "    print(\"Positional-only argument:\", x)\n",
    "\n",
    "pos_only(3)\n",
    "# pos_only(x=3)   # Uncomment to see error\n",
    "print()"
   ],
   "id": "6316e113d46c9a1b",
   "outputs": [
    {
     "name": "stdout",
     "output_type": "stream",
     "text": [
      "Positional-only argument: 3\n",
      "\n"
     ]
    }
   ],
   "execution_count": 11
  },
  {
   "metadata": {},
   "cell_type": "markdown",
   "source": "## Keyword-Only Arguments",
   "id": "ee67978c978658d3"
  },
  {
   "metadata": {
    "ExecuteTime": {
     "end_time": "2025-08-23T18:21:25.264637Z",
     "start_time": "2025-08-23T18:21:25.262712Z"
    }
   },
   "cell_type": "code",
   "source": [
    "def kw_only(*, x):\n",
    "    print(\"Keyword-only argument:\", x)\n",
    "\n",
    "kw_only(x=3)\n",
    "# kw_only(3)   # Uncomment to see error\n",
    "print()"
   ],
   "id": "bb55251dbfb094cb",
   "outputs": [
    {
     "name": "stdout",
     "output_type": "stream",
     "text": [
      "Keyword-only argument: 3\n",
      "\n"
     ]
    }
   ],
   "execution_count": 12
  },
  {
   "metadata": {},
   "cell_type": "markdown",
   "source": "## Combine Positional-Only and Keyword-Only\n",
   "id": "9e5f495fbe25ab34"
  },
  {
   "metadata": {
    "ExecuteTime": {
     "end_time": "2025-08-23T18:21:25.274510Z",
     "start_time": "2025-08-23T18:21:25.272525Z"
    }
   },
   "cell_type": "code",
   "source": [
    "def mixed_args(a, b, /, *, c, d):\n",
    "    print(\"Sum =\", a + b + c + d)\n",
    "\n",
    "mixed_args(5, 6, c=7, d=8)\n",
    "print()"
   ],
   "id": "375e36c34be9edbb",
   "outputs": [
    {
     "name": "stdout",
     "output_type": "stream",
     "text": [
      "Sum = 26\n",
      "\n"
     ]
    }
   ],
   "execution_count": 13
  },
  {
   "metadata": {},
   "cell_type": "markdown",
   "source": "## Recursion",
   "id": "f09435d66c9d6b67"
  },
  {
   "metadata": {
    "ExecuteTime": {
     "end_time": "2025-08-23T18:21:25.286506Z",
     "start_time": "2025-08-23T18:21:25.282892Z"
    }
   },
   "cell_type": "code",
   "source": [
    "def tri_recursion(k):\n",
    "    if k > 0:\n",
    "        result = k + tri_recursion(k - 1)\n",
    "        print(\"Intermediate result:\", result)\n",
    "    else:\n",
    "        result = 0\n",
    "    return result\n",
    "\n",
    "print(\"Recursion Example Results:\")\n",
    "tri_recursion(6)"
   ],
   "id": "c3abe90be8bcb1b2",
   "outputs": [
    {
     "name": "stdout",
     "output_type": "stream",
     "text": [
      "Recursion Example Results:\n",
      "Intermediate result: 1\n",
      "Intermediate result: 3\n",
      "Intermediate result: 6\n",
      "Intermediate result: 10\n",
      "Intermediate result: 15\n",
      "Intermediate result: 21\n"
     ]
    },
    {
     "data": {
      "text/plain": [
       "21"
      ]
     },
     "execution_count": 14,
     "metadata": {},
     "output_type": "execute_result"
    }
   ],
   "execution_count": 14
  }
 ],
 "metadata": {
  "kernelspec": {
   "display_name": "Python 3",
   "language": "python",
   "name": "python3"
  },
  "language_info": {
   "codemirror_mode": {
    "name": "ipython",
    "version": 2
   },
   "file_extension": ".py",
   "mimetype": "text/x-python",
   "name": "python",
   "nbconvert_exporter": "python",
   "pygments_lexer": "ipython2",
   "version": "2.7.6"
  }
 },
 "nbformat": 4,
 "nbformat_minor": 5
}
