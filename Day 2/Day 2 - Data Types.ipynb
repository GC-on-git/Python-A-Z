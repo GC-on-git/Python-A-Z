{
 "cells": [
  {
   "metadata": {
    "ExecuteTime": {
     "end_time": "2025-08-24T16:14:37.836241Z",
     "start_time": "2025-08-24T16:14:37.833987Z"
    }
   },
   "cell_type": "code",
   "source": [
    "def pretty_section(title):\n",
    "    print(f\"\\n{'='*50}\\n{title}\\n{'='*50}\")"
   ],
   "id": "954a90ae46a55cf2",
   "outputs": [],
   "execution_count": 3
  },
  {
   "metadata": {},
   "cell_type": "markdown",
   "source": "# Data Types",
   "id": "c968e254fff98356"
  },
  {
   "metadata": {},
   "cell_type": "markdown",
   "source": [
    "## Numbers\n",
    "There are three numeric types in Python:\n",
    "\n",
    "* ```int```\n",
    "* ```float```\n",
    "* ```complex```"
   ],
   "id": "b48be77fee82f546"
  },
  {
   "metadata": {
    "ExecuteTime": {
     "end_time": "2025-08-24T16:14:37.856207Z",
     "start_time": "2025-08-24T16:14:37.853700Z"
    }
   },
   "cell_type": "code",
   "source": [
    "pretty_section(\"Data Types - Numbers\")\n",
    "\n",
    "x = 1    # int\n",
    "y = 2.8  # float\n",
    "z = 1j   # complex\n",
    "\n",
    "print(f\"x = {x} is of type: {type(x).__name__}\")\n",
    "print(f\"y = {y} is of type: {type(y).__name__}\")\n",
    "print(f\"z = {z} is of type: {type(z).__name__}\")"
   ],
   "id": "e8a0a172dad931d8",
   "outputs": [
    {
     "name": "stdout",
     "output_type": "stream",
     "text": [
      "\n",
      "==================================================\n",
      "Data Types - Numbers\n",
      "==================================================\n",
      "x = 1 is of type: int\n",
      "y = 2.8 is of type: float\n",
      "z = 1j is of type: complex\n"
     ]
    }
   ],
   "execution_count": 4
  },
  {
   "metadata": {},
   "cell_type": "markdown",
   "source": [
    "### Integer\n",
    "Int, or integer, is a whole number, positive or negative, without decimals, of unlimited length."
   ],
   "id": "7f8ac5efb3978622"
  },
  {
   "metadata": {
    "ExecuteTime": {
     "end_time": "2025-08-24T16:14:37.897995Z",
     "start_time": "2025-08-24T16:14:37.895578Z"
    }
   },
   "cell_type": "code",
   "source": [
    "pretty_section(\"Data Types - Numbers - Integers\")\n",
    "\n",
    "x = 0\n",
    "y = 35656222554887711\n",
    "z = -3255522\n",
    "\n",
    "print(f\"x = {x} is of type: {type(x).__name__}\")\n",
    "print(f\"y = {y} is of type: {type(y).__name__}\")\n",
    "print(f\"z = {z} is of type: {type(z).__name__}\")"
   ],
   "id": "8bd5c11e47c37dff",
   "outputs": [
    {
     "name": "stdout",
     "output_type": "stream",
     "text": [
      "\n",
      "==================================================\n",
      "Data Types - Numbers - Integers\n",
      "==================================================\n",
      "x = 0 is of type: int\n",
      "y = 35656222554887711 is of type: int\n",
      "z = -3255522 is of type: int\n"
     ]
    }
   ],
   "execution_count": 5
  },
  {
   "metadata": {},
   "cell_type": "markdown",
   "source": [
    "### Float\n",
    "Float, or \"floating point number\" is a number, positive or negative, containing one or more decimals."
   ],
   "id": "e0386e3b1eaad80e"
  },
  {
   "metadata": {
    "ExecuteTime": {
     "end_time": "2025-08-24T16:14:37.942872Z",
     "start_time": "2025-08-24T16:14:37.939845Z"
    }
   },
   "cell_type": "code",
   "source": [
    "pretty_section(\"Data Types - Numbers - Float\")\n",
    "\n",
    "x = 1.10\n",
    "y = 1.0\n",
    "z = -35.5934\n",
    "\n",
    "print(f\"x = {x} is of type: {type(x).__name__}\")\n",
    "print(f\"y = {y} is of type: {type(y).__name__}\")\n",
    "print(f\"z = {z} is of type: {type(z).__name__}\")"
   ],
   "id": "f971a26765b849e9",
   "outputs": [
    {
     "name": "stdout",
     "output_type": "stream",
     "text": [
      "\n",
      "==================================================\n",
      "Data Types - Numbers - Float\n",
      "==================================================\n",
      "x = 1.1 is of type: float\n",
      "y = 1.0 is of type: float\n",
      "z = -35.5934 is of type: float\n"
     ]
    }
   ],
   "execution_count": 6
  },
  {
   "metadata": {},
   "cell_type": "markdown",
   "source": "Float can also be scientific numbers with an \"e\" to indicate the power of 10.",
   "id": "fb4259695f6fbdc0"
  },
  {
   "metadata": {
    "ExecuteTime": {
     "end_time": "2025-08-24T16:14:37.974431Z",
     "start_time": "2025-08-24T16:14:37.971072Z"
    }
   },
   "cell_type": "code",
   "source": [
    "x = 35e3\n",
    "y = 12E5\n",
    "z = -87.7e100\n",
    "\n",
    "print(f\"x = {x} is of type: {type(x).__name__}\")\n",
    "print(f\"y = {y} is of type: {type(y).__name__}\")\n",
    "print(f\"z = {z} is of type: {type(z).__name__}\")"
   ],
   "id": "7c768bf88fd5ff31",
   "outputs": [
    {
     "name": "stdout",
     "output_type": "stream",
     "text": [
      "x = 35000.0 is of type: float\n",
      "y = 1200000.0 is of type: float\n",
      "z = -8.77e+101 is of type: float\n"
     ]
    }
   ],
   "execution_count": 7
  },
  {
   "metadata": {},
   "cell_type": "markdown",
   "source": [
    "### Complex\n",
    "Complex numbers are written with a \"j\" as the imaginary part:"
   ],
   "id": "b79db07ec38addd9"
  },
  {
   "metadata": {
    "ExecuteTime": {
     "end_time": "2025-08-24T16:14:38.016221Z",
     "start_time": "2025-08-24T16:14:38.013795Z"
    }
   },
   "cell_type": "code",
   "source": [
    "pretty_section(\"Data Types - Numbers - Complex\")\n",
    "\n",
    "x = 3+5j\n",
    "y = 5j\n",
    "z = -5j\n",
    "\n",
    "print(f\"x = {x} is of type: {type(x).__name__}\")\n",
    "print(f\"y = {y} is of type: {type(y).__name__}\")\n",
    "print(f\"z = {z} is of type: {type(z).__name__}\")"
   ],
   "id": "8146444fa80efc6b",
   "outputs": [
    {
     "name": "stdout",
     "output_type": "stream",
     "text": [
      "\n",
      "==================================================\n",
      "Data Types - Numbers - Complex\n",
      "==================================================\n",
      "x = (3+5j) is of type: complex\n",
      "y = 5j is of type: complex\n",
      "z = (-0-5j) is of type: complex\n"
     ]
    }
   ],
   "execution_count": 8
  },
  {
   "metadata": {},
   "cell_type": "markdown",
   "source": "**Note**: Numbers support all general arithmetic operators which we will see during arithmetic operators",
   "id": "5100df10d3f0d9d2"
  },
  {
   "metadata": {},
   "cell_type": "markdown",
   "source": "### Some special supported operations on numbers",
   "id": "ca7c6bb379c58b78"
  },
  {
   "metadata": {
    "ExecuteTime": {
     "end_time": "2025-08-24T16:14:38.053906Z",
     "start_time": "2025-08-24T16:14:38.045392Z"
    }
   },
   "cell_type": "code",
   "source": [
    "import math, cmath, random, statistics\n",
    "from fractions import Fraction\n",
    "from decimal import Decimal"
   ],
   "id": "767d67c869f035c3",
   "outputs": [],
   "execution_count": 9
  },
  {
   "metadata": {
    "ExecuteTime": {
     "end_time": "2025-08-24T16:14:38.063684Z",
     "start_time": "2025-08-24T16:14:38.060104Z"
    }
   },
   "cell_type": "code",
   "source": [
    "pretty_section(\"Built-in Operations\")\n",
    "\n",
    "x, y = -70.5346, 3\n",
    "\n",
    "print(f\"abs({x}) = {abs(x)}\")\n",
    "print(f\"round({x}, 3) = {round(x,3)}\")\n",
    "print(f\"int({x}) = {int(x)}\")\n",
    "print(f\"float({y}) = {float(y)}\")\n",
    "print(f\"complex({y}, {x}) = {complex(y, x)}\")\n",
    "\n",
    "print(\"\\nComparisons:\")\n",
    "print(f\"{x} < {y}? -> {x < y}\")\n",
    "print(f\"{x} == {y}? -> {x == y}\")\n",
    "\n",
    "print(\"\\nBitwise (integers only):\")\n",
    "a, b = 6, 3\n",
    "print(f\"{a} & {b} = {a & b} (AND)\")\n",
    "print(f\"{a} | {b} = {a | b} (OR)\")\n",
    "print(f\"{a} ^ {b} = {a ^ b} (XOR)\")\n",
    "print(f\"~{a} = {~a} (NOT)\")\n",
    "print(f\"{a} << 1 = {a << 1} (Left shift)\")\n",
    "print(f\"{a} >> 1 = {a >> 1} (Right shift)\")"
   ],
   "id": "d8d051280b0dd4e6",
   "outputs": [
    {
     "name": "stdout",
     "output_type": "stream",
     "text": [
      "\n",
      "==================================================\n",
      "Built-in Operations\n",
      "==================================================\n",
      "abs(-70.5346) = 70.5346\n",
      "round(-70.5346, 3) = -70.535\n",
      "int(-70.5346) = -70\n",
      "float(3) = 3.0\n",
      "complex(3, -70.5346) = (3-70.5346j)\n",
      "\n",
      "Comparisons:\n",
      "-70.5346 < 3? -> True\n",
      "-70.5346 == 3? -> False\n",
      "\n",
      "Bitwise (integers only):\n",
      "6 & 3 = 2 (AND)\n",
      "6 | 3 = 7 (OR)\n",
      "6 ^ 3 = 5 (XOR)\n",
      "~6 = -7 (NOT)\n",
      "6 << 1 = 12 (Left shift)\n",
      "6 >> 1 = 3 (Right shift)\n"
     ]
    }
   ],
   "execution_count": 10
  },
  {
   "metadata": {
    "ExecuteTime": {
     "end_time": "2025-08-24T16:14:38.097582Z",
     "start_time": "2025-08-24T16:14:38.094355Z"
    }
   },
   "cell_type": "code",
   "source": [
    "pretty_section(\"Math Module\")\n",
    "\n",
    "num = 16\n",
    "print(f\"math.sqrt({num}) = {math.sqrt(num)}\")\n",
    "print(f\"math.factorial(5) = {math.factorial(5)}\")\n",
    "print(f\"math.gcd(36, 60) = {math.gcd(36, 60)}\")\n",
    "print(f\"math.lcm(12, 15) = {math.lcm(12, 15)}\")\n",
    "\n",
    "print(f\"\\nmath.floor(8.9) = {math.floor(8.9)}\")\n",
    "print(f\"math.ceil(7.2) = {math.ceil(7.2)}\")\n",
    "print(f\"math.trunc(-7.8) = {math.trunc(-7.8)}\")\n",
    "\n",
    "print(f\"\\nmath.log(100, 10) = {math.log(100, 10)}\")\n",
    "print(f\"math.exp(2) = {math.exp(2)}\")\n",
    "print(f\"math.sin(math.pi/2) = {math.sin(math.pi/2)}\")\n",
    "print(f\"math.cos(math.pi/2) = {math.cos(math.pi/2)}\")\n",
    "print(f\"math.tan(math.pi/2) = {math.tan(math.pi/2)}\")"
   ],
   "id": "dd5a462d15ec5e21",
   "outputs": [
    {
     "name": "stdout",
     "output_type": "stream",
     "text": [
      "\n",
      "==================================================\n",
      "Math Module\n",
      "==================================================\n",
      "math.sqrt(16) = 4.0\n",
      "math.factorial(5) = 120\n",
      "math.gcd(36, 60) = 12\n",
      "math.lcm(12, 15) = 60\n",
      "\n",
      "math.floor(8.9) = 8\n",
      "math.ceil(7.2) = 8\n",
      "math.trunc(-7.8) = -7\n",
      "\n",
      "math.log(100, 10) = 2.0\n",
      "math.exp(2) = 7.38905609893065\n",
      "math.sin(math.pi/2) = 1.0\n",
      "math.cos(math.pi/2) = 6.123233995736766e-17\n",
      "math.tan(math.pi/2) = 1.633123935319537e+16\n"
     ]
    }
   ],
   "execution_count": 11
  },
  {
   "metadata": {
    "ExecuteTime": {
     "end_time": "2025-08-24T16:14:38.143597Z",
     "start_time": "2025-08-24T16:14:38.140147Z"
    }
   },
   "cell_type": "code",
   "source": [
    "pretty_section(\"CMath Module (Complex Numbers)\")\n",
    "\n",
    "z = 3 + 4j\n",
    "print(f\"cmath.sqrt({z}) = {cmath.sqrt(z)}\")\n",
    "print(f\"cmath.phase({z}) = {cmath.phase(z)} (angle in radians)\")\n",
    "print(f\"cmath.polar({z}) = {cmath.polar(z)} (r, φ)\")\n",
    "print(f\"cmath.rect(5, math.pi/2) = {cmath.rect(5, math.pi/2)} (convert polar -> complex)\")"
   ],
   "id": "74aeaa4ab6708ea",
   "outputs": [
    {
     "name": "stdout",
     "output_type": "stream",
     "text": [
      "\n",
      "==================================================\n",
      "CMath Module (Complex Numbers)\n",
      "==================================================\n",
      "cmath.sqrt((3+4j)) = (2+1j)\n",
      "cmath.phase((3+4j)) = 0.9272952180016122 (angle in radians)\n",
      "cmath.polar((3+4j)) = (5.0, 0.9272952180016122) (r, φ)\n",
      "cmath.rect(5, math.pi/2) = (3.061616997868383e-16+5j) (convert polar -> complex)\n"
     ]
    }
   ],
   "execution_count": 12
  },
  {
   "metadata": {
    "ExecuteTime": {
     "end_time": "2025-08-24T16:14:38.181307Z",
     "start_time": "2025-08-24T16:14:38.176526Z"
    }
   },
   "cell_type": "code",
   "source": [
    "pretty_section(\"Fractions and Decimals\")\n",
    "\n",
    "frac = Fraction(3, 8) + Fraction(1, 4)\n",
    "print(f\"Fraction(3, 7) = {Fraction(3, 7)}\")\n",
    "print(f\"Fraction(3, 8) + Fraction(1, 4) = {frac}\")\n",
    "\n",
    "dec = Decimal(\"0.1\") + Decimal(\"0.2\")\n",
    "print(f\"Decimal('0.1') + Decimal('0.2') = {dec} (no floating-point error)\")"
   ],
   "id": "8ec12419158397c2",
   "outputs": [
    {
     "name": "stdout",
     "output_type": "stream",
     "text": [
      "\n",
      "==================================================\n",
      "Fractions and Decimals\n",
      "==================================================\n",
      "Fraction(3, 7) = 3/7\n",
      "Fraction(3, 8) + Fraction(1, 4) = 5/8\n",
      "Decimal('0.1') + Decimal('0.2') = 0.3 (no floating-point error)\n"
     ]
    }
   ],
   "execution_count": 13
  },
  {
   "metadata": {
    "ExecuteTime": {
     "end_time": "2025-08-24T16:14:38.212114Z",
     "start_time": "2025-08-24T16:14:38.209084Z"
    }
   },
   "cell_type": "code",
   "source": [
    "pretty_section(\"Random Module\")\n",
    "\n",
    "print(f\"random.random() = {random.random()} (random float 0–1)\")\n",
    "print(f\"random.randint(1, 10) = {random.randint(1, 10)} (random integer)\")\n",
    "print(f\"random.choice([10,20,30]) = {random.choice([10,20,30])}\")"
   ],
   "id": "2b036a99e4327b7e",
   "outputs": [
    {
     "name": "stdout",
     "output_type": "stream",
     "text": [
      "\n",
      "==================================================\n",
      "Random Module\n",
      "==================================================\n",
      "random.random() = 0.3112139977417142 (random float 0–1)\n",
      "random.randint(1, 10) = 2 (random integer)\n",
      "random.choice([10,20,30]) = 10\n"
     ]
    }
   ],
   "execution_count": 14
  },
  {
   "metadata": {
    "ExecuteTime": {
     "end_time": "2025-08-24T16:14:38.240423Z",
     "start_time": "2025-08-24T16:14:38.238130Z"
    }
   },
   "cell_type": "code",
   "source": [
    "pretty_section(\"Statistics Module\")\n",
    "\n",
    "data = [2, 4, 4, 4, 5, 5, 7, 9]\n",
    "print(f\"Data = {data}\")\n",
    "print(f\"Mean = {statistics.mean(data)}\")\n",
    "print(f\"Median = {statistics.median(data)}\")\n",
    "print(f\"Variance = {statistics.variance(data)}\")\n",
    "print(f\"Standard Deviation = {statistics.stdev(data)}\")"
   ],
   "id": "b92922851473f907",
   "outputs": [
    {
     "name": "stdout",
     "output_type": "stream",
     "text": [
      "\n",
      "==================================================\n",
      "Statistics Module\n",
      "==================================================\n",
      "Data = [2, 4, 4, 4, 5, 5, 7, 9]\n",
      "Mean = 5\n",
      "Median = 4.5\n",
      "Variance = 4.571428571428571\n",
      "Standard Deviation = 2.138089935299395\n"
     ]
    }
   ],
   "execution_count": 15
  },
  {
   "metadata": {},
   "cell_type": "markdown",
   "source": [
    "## Strings\n",
    "Strings in python are surrounded by either single quotation marks, or double quotation marks."
   ],
   "id": "b459173e36d531d3"
  },
  {
   "metadata": {
    "ExecuteTime": {
     "end_time": "2025-08-24T16:14:38.262249Z",
     "start_time": "2025-08-24T16:14:38.260490Z"
    }
   },
   "cell_type": "code",
   "source": [
    "print(\"Hello\")\n",
    "print('Hi')"
   ],
   "id": "1ede5f55f7c18e4a",
   "outputs": [
    {
     "name": "stdout",
     "output_type": "stream",
     "text": [
      "Hello\n",
      "Hi\n"
     ]
    }
   ],
   "execution_count": 16
  },
  {
   "metadata": {},
   "cell_type": "markdown",
   "source": [
    "### Special characters inside a string\n",
    "\n",
    "To insert characters that are illegal in a string, use an escape character.\n",
    "An escape character is a backslash ```\\``` followed by the character to be inserted.\n",
    "An example of an illegal character is a double quote inside a string that is surrounded by double quotes:"
   ],
   "id": "857c5accd4ef0904"
  },
  {
   "metadata": {
    "ExecuteTime": {
     "end_time": "2025-08-24T16:14:44.371612Z",
     "start_time": "2025-08-24T16:14:44.368132Z"
    }
   },
   "cell_type": "code",
   "source": [
    "txt = \"We are the so-called \"Vikings\" from the north.\" # error\n",
    "txt"
   ],
   "id": "3de05ea5f415dc91",
   "outputs": [
    {
     "ename": "SyntaxError",
     "evalue": "invalid syntax (630240316.py, line 1)",
     "output_type": "error",
     "traceback": [
      "\u001B[0;36m  Cell \u001B[0;32mIn[18], line 1\u001B[0;36m\u001B[0m\n\u001B[0;31m    txt = \"We are the so-called \"Vikings\" from the north.\" # error\u001B[0m\n\u001B[0m                                 ^\u001B[0m\n\u001B[0;31mSyntaxError\u001B[0m\u001B[0;31m:\u001B[0m invalid syntax\n"
     ]
    }
   ],
   "execution_count": 18
  },
  {
   "metadata": {
    "ExecuteTime": {
     "end_time": "2025-08-24T16:14:45.025736Z",
     "start_time": "2025-08-24T16:14:45.022374Z"
    }
   },
   "cell_type": "code",
   "source": [
    "pretty_section(\"Data Types - Strings\")\n",
    "\n",
    "print(\"It's alright\")\n",
    "print(\"He is called 'Johnny'\")\n",
    "print('He is called \"Johnny\"')"
   ],
   "id": "d4a4bd3e12eb52f1",
   "outputs": [
    {
     "name": "stdout",
     "output_type": "stream",
     "text": [
      "\n",
      "==================================================\n",
      "Data Types - Strings\n",
      "==================================================\n",
      "It's alright\n",
      "He is called 'Johnny'\n",
      "He is called \"Johnny\"\n"
     ]
    }
   ],
   "execution_count": 19
  },
  {
   "metadata": {
    "ExecuteTime": {
     "end_time": "2025-08-24T16:14:45.470334Z",
     "start_time": "2025-08-24T16:14:45.467784Z"
    }
   },
   "cell_type": "code",
   "source": [
    "# Special characters\n",
    "pretty_section(\"Data Types - Strings - Special characters\")\n",
    "\n",
    "print('It\\'s Python!')              # Single Quote\n",
    "print(\"C:\\\\Users\\\\Name\")            # Backslash\n",
    "print(\"Hello\\nSusie\")               # New Line\n",
    "print(\"Hello\\rWorld\")               # Carriage Return (may overwrite)\n",
    "print(\"A\\tB\\tC\")                   # Tab\n",
    "print(\"ABC\\bD\")                    # Backspace\n",
    "print(\"Line1\\fLine2\")              # Form Feed (may not display visibly)\n",
    "print(\"\\141\\142\\143\")              # Octal value - prints 'abc'\n",
    "print(\"\\x41\\x42\\x43\")              # Hex value - prints 'ABC'"
   ],
   "id": "bd4fce07aaf6edd1",
   "outputs": [
    {
     "name": "stdout",
     "output_type": "stream",
     "text": [
      "\n",
      "==================================================\n",
      "Data Types - Strings - Special characters\n",
      "==================================================\n",
      "It's Python!\n",
      "C:\\Users\\Name\n",
      "Hello\n",
      "Susie\n",
      "World\n",
      "A\tB\tC\n",
      "ABD\n",
      "Line1\fLine2\n",
      "abc\n",
      "ABC\n"
     ]
    }
   ],
   "execution_count": 20
  },
  {
   "metadata": {},
   "cell_type": "markdown",
   "source": [
    "### Basic Operations\n",
    "\n",
    "* Concatenation : Using + (Note: Python does not add spaces when concatenating strings)\n",
    "* Duplication : Using * (Note: Only use positive integers)\n",
    "* Accessing characters : Using [ ]"
   ],
   "id": "be75c3d91b65e3a"
  },
  {
   "metadata": {
    "ExecuteTime": {
     "end_time": "2025-08-24T16:14:45.827657Z",
     "start_time": "2025-08-24T16:14:45.825146Z"
    }
   },
   "cell_type": "code",
   "source": [
    "pretty_section(\"Concatenation\")\n",
    "\n",
    "a = b = 'Duck.'\n",
    "c = 'Grey Duck!'\n",
    "print(f'a is {a}, b is {b}, c is {c}')\n",
    "print(f'Combining using + gives: \\n{a + b + c}')"
   ],
   "id": "1045eca90654622f",
   "outputs": [
    {
     "name": "stdout",
     "output_type": "stream",
     "text": [
      "\n",
      "==================================================\n",
      "Concatenation\n",
      "==================================================\n",
      "a is Duck., b is Duck., c is Grey Duck!\n",
      "Combining using + gives: \n",
      "Duck.Duck.Grey Duck!\n"
     ]
    }
   ],
   "execution_count": 21
  },
  {
   "metadata": {
    "ExecuteTime": {
     "end_time": "2025-08-24T16:14:45.990927Z",
     "start_time": "2025-08-24T16:14:45.987557Z"
    }
   },
   "cell_type": "code",
   "source": [
    "pretty_section(\"Duplication\")\n",
    "\n",
    "start = 'Na ' * 4 + '\\n'\n",
    "middle = 'Hey ' * 3 + '\\n'\n",
    "end = 'Goodbye.' * 1\n",
    "print(start + middle + end)"
   ],
   "id": "67d9499e0e986e47",
   "outputs": [
    {
     "name": "stdout",
     "output_type": "stream",
     "text": [
      "\n",
      "==================================================\n",
      "Duplication\n",
      "==================================================\n",
      "Na Na Na Na \n",
      "Hey Hey Hey \n",
      "Goodbye.\n"
     ]
    }
   ],
   "execution_count": 22
  },
  {
   "metadata": {
    "ExecuteTime": {
     "end_time": "2025-08-24T16:14:46.188885Z",
     "start_time": "2025-08-24T16:14:46.176530Z"
    }
   },
   "cell_type": "code",
   "source": [
    "pretty_section(\"Access characters\")\n",
    "\n",
    "letters = 'abcdefghijklmnopqrstuvwxyz'\n",
    "\n",
    "print(\"Alphabet letters:\", letters, \"\\n\")\n",
    "\n",
    "print(\"letters[0]   ->\", letters[0],   \"   (first character)\")\n",
    "print(\"letters[1]   ->\", letters[1],   \"   (second character)\")\n",
    "print(\"letters[-1]  ->\", letters[-1],  \"  (last character)\")\n",
    "print(\"letters[-2]  ->\", letters[-2],  \"  (second last character)\")\n",
    "print(\"letters[25]  ->\", letters[25],  \"  (26th character, index starts at 0)\")\n",
    "print(\"letters[100] ->\", letters[100], \"  (this will raise IndexError)\")"
   ],
   "id": "500e1c2570574b73",
   "outputs": [
    {
     "name": "stdout",
     "output_type": "stream",
     "text": [
      "\n",
      "==================================================\n",
      "Access characters\n",
      "==================================================\n",
      "Alphabet letters: abcdefghijklmnopqrstuvwxyz \n",
      "\n",
      "letters[0]   -> a    (first character)\n",
      "letters[1]   -> b    (second character)\n",
      "letters[-1]  -> z   (last character)\n",
      "letters[-2]  -> y   (second last character)\n",
      "letters[25]  -> z   (26th character, index starts at 0)\n"
     ]
    },
    {
     "ename": "IndexError",
     "evalue": "string index out of range",
     "output_type": "error",
     "traceback": [
      "\u001B[0;31m---------------------------------------------------------------------------\u001B[0m",
      "\u001B[0;31mIndexError\u001B[0m                                Traceback (most recent call last)",
      "Cell \u001B[0;32mIn[23], line 12\u001B[0m\n\u001B[1;32m     10\u001B[0m \u001B[38;5;28mprint\u001B[39m(\u001B[38;5;124m\"\u001B[39m\u001B[38;5;124mletters[-2]  ->\u001B[39m\u001B[38;5;124m\"\u001B[39m, letters[\u001B[38;5;241m-\u001B[39m\u001B[38;5;241m2\u001B[39m],  \u001B[38;5;124m\"\u001B[39m\u001B[38;5;124m  (second last character)\u001B[39m\u001B[38;5;124m\"\u001B[39m)\n\u001B[1;32m     11\u001B[0m \u001B[38;5;28mprint\u001B[39m(\u001B[38;5;124m\"\u001B[39m\u001B[38;5;124mletters[25]  ->\u001B[39m\u001B[38;5;124m\"\u001B[39m, letters[\u001B[38;5;241m25\u001B[39m],  \u001B[38;5;124m\"\u001B[39m\u001B[38;5;124m  (26th character, index starts at 0)\u001B[39m\u001B[38;5;124m\"\u001B[39m)\n\u001B[0;32m---> 12\u001B[0m \u001B[38;5;28mprint\u001B[39m(\u001B[38;5;124m\"\u001B[39m\u001B[38;5;124mletters[100] ->\u001B[39m\u001B[38;5;124m\"\u001B[39m, \u001B[43mletters\u001B[49m\u001B[43m[\u001B[49m\u001B[38;5;241;43m100\u001B[39;49m\u001B[43m]\u001B[49m, \u001B[38;5;124m\"\u001B[39m\u001B[38;5;124m  (this will raise IndexError)\u001B[39m\u001B[38;5;124m\"\u001B[39m)\n",
      "\u001B[0;31mIndexError\u001B[0m: string index out of range"
     ]
    }
   ],
   "execution_count": 23
  },
  {
   "metadata": {},
   "cell_type": "markdown",
   "source": [
    "### Slicing\n",
    "\n",
    "A substring (a part of a string) can be extracted from a string by using a slice. You\n",
    "define a slice by using square brackets, a start offset, an end offset, and an optional\n",
    "step size. Some of these can be omitted. The slice will include characters from offset\n",
    "start to one before end.\n",
    "\n",
    "* ```[:]``` extracts the entire sequence from start to end.\n",
    "* ```[ start :]``` specifies from the start offset to the end.\n",
    "* ```[: end ]``` specifies from the beginning to the end offset minus 1.\n",
    "* ```[ start : end ]``` indicates from the start offset to the end offset minus 1.\n",
    "* ```[ start : end : step ]``` extracts from the start offset to the end offset minus 1, skipping characters by step\n"
   ],
   "id": "4d20f08cb3bc5ee0"
  },
  {
   "metadata": {
    "ExecuteTime": {
     "end_time": "2025-08-24T16:14:48.075353Z",
     "start_time": "2025-08-24T16:14:48.071776Z"
    }
   },
   "cell_type": "code",
   "source": [
    "s = \"PythonRocks\"\n",
    "\n",
    "pretty_section(\"Original String\")\n",
    "print(f\"s = '{s}' (length = {len(s)})\")"
   ],
   "id": "3b01dacbaac1e792",
   "outputs": [
    {
     "name": "stdout",
     "output_type": "stream",
     "text": [
      "\n",
      "==================================================\n",
      "Original String\n",
      "==================================================\n",
      "s = 'PythonRocks' (length = 11)\n"
     ]
    }
   ],
   "execution_count": 24
  },
  {
   "metadata": {
    "ExecuteTime": {
     "end_time": "2025-08-24T16:14:48.244223Z",
     "start_time": "2025-08-24T16:14:48.241734Z"
    }
   },
   "cell_type": "code",
   "source": [
    "pretty_section(\"Basic Slicing\")\n",
    "\n",
    "print(f\"s[0:6]   -> '{s[0:6]}'   (first 6 characters)\")\n",
    "print(f\"s[:6]    -> '{s[:6]}'    (same as above, start omitted means 0)\")\n",
    "print(f\"s[6:]    -> '{s[6:]}'    (from index 6 to end)\")\n",
    "print(f\"s[:]     -> '{s[:]}'     (whole string)\")"
   ],
   "id": "5ec9d9877070d5a5",
   "outputs": [
    {
     "name": "stdout",
     "output_type": "stream",
     "text": [
      "\n",
      "==================================================\n",
      "Basic Slicing\n",
      "==================================================\n",
      "s[0:6]   -> 'Python'   (first 6 characters)\n",
      "s[:6]    -> 'Python'    (same as above, start omitted means 0)\n",
      "s[6:]    -> 'Rocks'    (from index 6 to end)\n",
      "s[:]     -> 'PythonRocks'     (whole string)\n"
     ]
    }
   ],
   "execution_count": 25
  },
  {
   "metadata": {
    "ExecuteTime": {
     "end_time": "2025-08-24T16:14:48.417880Z",
     "start_time": "2025-08-24T16:14:48.413920Z"
    }
   },
   "cell_type": "code",
   "source": [
    "pretty_section(\"Middle and End Slicing\")\n",
    "\n",
    "print(f\"s[2:8]   -> '{s[2:8]}'   (characters from index 2 to 7)\")\n",
    "print(f\"s[-5:]   -> '{s[-5:]}'   (last 5 characters)\")\n",
    "print(f\"s[:-5]   -> '{s[:-5]}'   (everything except last 5 chars)\")"
   ],
   "id": "adafdc15aea48f6f",
   "outputs": [
    {
     "name": "stdout",
     "output_type": "stream",
     "text": [
      "\n",
      "==================================================\n",
      "Middle and End Slicing\n",
      "==================================================\n",
      "s[2:8]   -> 'thonRo'   (characters from index 2 to 7)\n",
      "s[-5:]   -> 'Rocks'   (last 5 characters)\n",
      "s[:-5]   -> 'Python'   (everything except last 5 chars)\n"
     ]
    }
   ],
   "execution_count": 26
  },
  {
   "metadata": {
    "ExecuteTime": {
     "end_time": "2025-08-24T16:14:48.580604Z",
     "start_time": "2025-08-24T16:14:48.577401Z"
    }
   },
   "cell_type": "code",
   "source": [
    "pretty_section(\"Negative Indices\")\n",
    "\n",
    "print(f\"s[-1]    -> '{s[-1]}'    (last character)\")\n",
    "print(f\"s[-2]    -> '{s[-2]}'    (second last character)\")\n",
    "print(f\"s[-6:-1] -> '{s[-6:-1]}' (slice using negatives)\")"
   ],
   "id": "41f62c34e7438adc",
   "outputs": [
    {
     "name": "stdout",
     "output_type": "stream",
     "text": [
      "\n",
      "==================================================\n",
      "Negative Indices\n",
      "==================================================\n",
      "s[-1]    -> 's'    (last character)\n",
      "s[-2]    -> 'k'    (second last character)\n",
      "s[-6:-1] -> 'nRock' (slice using negatives)\n"
     ]
    }
   ],
   "execution_count": 27
  },
  {
   "metadata": {
    "ExecuteTime": {
     "end_time": "2025-08-24T16:14:49.077315Z",
     "start_time": "2025-08-24T16:14:49.074101Z"
    }
   },
   "cell_type": "code",
   "source": [
    "pretty_section(\"Step Parameter\")\n",
    "\n",
    "print(f\"s[::2]   -> '{s[::2]}'   (every 2nd character)\")\n",
    "print(f\"s[1::2]  -> '{s[1::2]}'  (every 2nd char starting at index 1)\")\n",
    "print(f\"s[::3]   -> '{s[::3]}'   (every 3rd character)\")\n",
    "print(f\"s[::-1]  -> '{s[::-1]}'  (reversed string)\")\n",
    "print(f\"s[::-2]  -> '{s[::-2]}'  (reversed, every 2nd character)\")\n",
    "print(f\"s[2:9:2] -> '{s[2:9:2]}' (from index 2 to 8, step 2)\")\n"
   ],
   "id": "4a87c0dc2891f28e",
   "outputs": [
    {
     "name": "stdout",
     "output_type": "stream",
     "text": [
      "\n",
      "==================================================\n",
      "Step Parameter\n",
      "==================================================\n",
      "s[::2]   -> 'PtoRcs'   (every 2nd character)\n",
      "s[1::2]  -> 'yhnok'  (every 2nd char starting at index 1)\n",
      "s[::3]   -> 'PhRk'   (every 3rd character)\n",
      "s[::-1]  -> 'skcoRnohtyP'  (reversed string)\n",
      "s[::-2]  -> 'scRotP'  (reversed, every 2nd character)\n",
      "s[2:9:2] -> 'toRc' (from index 2 to 8, step 2)\n"
     ]
    }
   ],
   "execution_count": 28
  },
  {
   "metadata": {
    "ExecuteTime": {
     "end_time": "2025-08-24T16:14:49.249429Z",
     "start_time": "2025-08-24T16:14:49.247385Z"
    }
   },
   "cell_type": "code",
   "source": [
    "pretty_section(\"Edge Cases\")\n",
    "\n",
    "print(f\"s[100:]  -> '{s[100:]}'  (out of range start -> empty)\")\n",
    "print(f\"s[:100]  -> '{s[:100]}'  (out of range end -> full string)\")\n",
    "print(f\"s[5:2]   -> '{s[5:2]}'   (start > end -> empty)\")\n",
    "print(f\"s[5:2:-1]-> '{s[5:2:-1]}'(reverse slice from index 5 down to 3)\")"
   ],
   "id": "1fa8efe213c0236a",
   "outputs": [
    {
     "name": "stdout",
     "output_type": "stream",
     "text": [
      "\n",
      "==================================================\n",
      "Edge Cases\n",
      "==================================================\n",
      "s[100:]  -> ''  (out of range start -> empty)\n",
      "s[:100]  -> 'PythonRocks'  (out of range end -> full string)\n",
      "s[5:2]   -> ''   (start > end -> empty)\n",
      "s[5:2:-1]-> 'noh'(reverse slice from index 5 down to 3)\n"
     ]
    }
   ],
   "execution_count": 29
  },
  {
   "metadata": {},
   "cell_type": "markdown",
   "source": "### More methods",
   "id": "8f4059f01b8bcd41"
  },
  {
   "metadata": {
    "ExecuteTime": {
     "end_time": "2025-08-24T16:14:49.576820Z",
     "start_time": "2025-08-24T16:14:49.574687Z"
    }
   },
   "cell_type": "code",
   "source": [
    "s = \"hello world\"\n",
    "s2 = \"HELLO\"\n",
    "s3 = \"12345\"\n",
    "s4 = \"   padded text   \"\n",
    "s5 = \"apple,banana,cher,ry\"\n",
    "s6 = \"Line1\\nLine2\\nLine3\"\n",
    "s7 = \"HelloWorld\""
   ],
   "id": "2fb26fc1b42ce612",
   "outputs": [],
   "execution_count": 30
  },
  {
   "metadata": {
    "ExecuteTime": {
     "end_time": "2025-08-24T16:14:50.060578Z",
     "start_time": "2025-08-24T16:14:50.056951Z"
    }
   },
   "cell_type": "code",
   "source": [
    "pretty_section(\"Case Conversion Methods\")\n",
    "\n",
    "print(f\"Original string: {s}\")\n",
    "print(\"s.capitalize() ->\", s.capitalize())\n",
    "print(\"s.casefold()   ->\", s.casefold())\n",
    "print(\"s.lower()      ->\", s.lower())\n",
    "print(\"s.upper()      ->\", s.upper())\n",
    "print(\"s.title()      ->\", s.title())\n",
    "print(\"s.swapcase()   ->\", s.swapcase())"
   ],
   "id": "db8f3c41d35854b2",
   "outputs": [
    {
     "name": "stdout",
     "output_type": "stream",
     "text": [
      "\n",
      "==================================================\n",
      "Case Conversion Methods\n",
      "==================================================\n",
      "Original string: hello world\n",
      "s.capitalize() -> Hello world\n",
      "s.casefold()   -> hello world\n",
      "s.lower()      -> hello world\n",
      "s.upper()      -> HELLO WORLD\n",
      "s.title()      -> Hello World\n",
      "s.swapcase()   -> HELLO WORLD\n"
     ]
    }
   ],
   "execution_count": 31
  },
  {
   "metadata": {
    "ExecuteTime": {
     "end_time": "2025-08-24T16:14:50.250968Z",
     "start_time": "2025-08-24T16:14:50.247563Z"
    }
   },
   "cell_type": "code",
   "source": [
    "pretty_section(\"Alignment and Padding\")\n",
    "\n",
    "print(f\"Original string: {s}\")\n",
    "print(\"s.center(20,'-') ->\", s.center(20, '-'))\n",
    "print(\"s.ljust(20,',')  ->\", s.ljust(20, ','))\n",
    "print(\"s.rjust(30,'-')  ->\", s.rjust(30, '-'))\n",
    "print(\"s.zfill(20)      ->\", s.zfill(20))"
   ],
   "id": "4790f6c7fb904d79",
   "outputs": [
    {
     "name": "stdout",
     "output_type": "stream",
     "text": [
      "\n",
      "==================================================\n",
      "Alignment and Padding\n",
      "==================================================\n",
      "Original string: hello world\n",
      "s.center(20,'-') -> ----hello world-----\n",
      "s.ljust(20,',')  -> hello world,,,,,,,,,\n",
      "s.rjust(30,'-')  -> -------------------hello world\n",
      "s.zfill(20)      -> 000000000hello world\n"
     ]
    }
   ],
   "execution_count": 32
  },
  {
   "metadata": {
    "ExecuteTime": {
     "end_time": "2025-08-24T16:14:50.598719Z",
     "start_time": "2025-08-24T16:14:50.595732Z"
    }
   },
   "cell_type": "code",
   "source": [
    "pretty_section(\"Search Methods\")\n",
    "\n",
    "print(f\"Original string: {s}\")\n",
    "print(\"s.find('world')   ->\", s.find(\"world\"))\n",
    "print(\"s.index('world')  ->\", s.index(\"world\"))\n",
    "print(\"s.rfind('l')      ->\", s.rfind(\"l\"))\n",
    "print(\"s.rindex('l')     ->\", s.rindex(\"l\"))\n",
    "print(\"s.startswith('he')->\", s.startswith(\"he\"))\n",
    "print(\"s.endswith('lid')  ->\", s.endswith(\"lid\"))"
   ],
   "id": "c1123fa3f67a5439",
   "outputs": [
    {
     "name": "stdout",
     "output_type": "stream",
     "text": [
      "\n",
      "==================================================\n",
      "Search Methods\n",
      "==================================================\n",
      "Original string: hello world\n",
      "s.find('world')   -> 6\n",
      "s.index('world')  -> 6\n",
      "s.rfind('l')      -> 9\n",
      "s.rindex('l')     -> 9\n",
      "s.startswith('he')-> True\n",
      "s.endswith('lid')  -> False\n"
     ]
    }
   ],
   "execution_count": 33
  },
  {
   "metadata": {
    "ExecuteTime": {
     "end_time": "2025-08-24T16:14:50.876298Z",
     "start_time": "2025-08-24T16:14:50.873639Z"
    }
   },
   "cell_type": "code",
   "source": [
    "pretty_section(\"Count and Replace\")\n",
    "\n",
    "print(\"s.count('l')             ->\", s.count(\"l\"))\n",
    "print(\"s.replace('world','Python')->\", s.replace(\"world\",\"Python\"))"
   ],
   "id": "90e87fbb657f9386",
   "outputs": [
    {
     "name": "stdout",
     "output_type": "stream",
     "text": [
      "\n",
      "==================================================\n",
      "Count and Replace\n",
      "==================================================\n",
      "s.count('l')             -> 3\n",
      "s.replace('world','Python')-> hello Python\n"
     ]
    }
   ],
   "execution_count": 34
  },
  {
   "metadata": {
    "ExecuteTime": {
     "end_time": "2025-08-24T16:14:51.056423Z",
     "start_time": "2025-08-24T16:14:51.052551Z"
    }
   },
   "cell_type": "code",
   "source": [
    "pretty_section(\"Splitting and Joining\")\n",
    "\n",
    "print(f\"Original string: {s}\")\n",
    "print(\"s5 string      ->\", s5)\n",
    "print(\"s6 string      ->\", s6)\n",
    "print(\"s.split()        ->\", s.split())\n",
    "print(\"s5.split(',')    ->\", s5.split(\",\"))\n",
    "print(\"s5.rsplit(',',1) ->\", s5.rsplit(\",\",1))\n",
    "print(\"s6.splitlines()  ->\", s6.splitlines())\n",
    "print(\"' - '.join(['A','B','C']) ->\", \" - \".join([\"A\",\"B\",\"C\"]))"
   ],
   "id": "d466087281d1b196",
   "outputs": [
    {
     "name": "stdout",
     "output_type": "stream",
     "text": [
      "\n",
      "==================================================\n",
      "Splitting and Joining\n",
      "==================================================\n",
      "Original string: hello world\n",
      "s5 string      -> apple,banana,cher,ry\n",
      "s6 string      -> Line1\n",
      "Line2\n",
      "Line3\n",
      "s.split()        -> ['hello', 'world']\n",
      "s5.split(',')    -> ['apple', 'banana', 'cher', 'ry']\n",
      "s5.rsplit(',',1) -> ['apple,banana,cher', 'ry']\n",
      "s6.splitlines()  -> ['Line1', 'Line2', 'Line3']\n",
      "' - '.join(['A','B','C']) -> A - B - C\n"
     ]
    }
   ],
   "execution_count": 35
  },
  {
   "metadata": {
    "ExecuteTime": {
     "end_time": "2025-08-24T16:14:51.183140Z",
     "start_time": "2025-08-24T16:14:51.180563Z"
    }
   },
   "cell_type": "code",
   "source": [
    "pretty_section(\"Strip and Whitespace Handling\")\n",
    "\n",
    "print(f\"Original string: {s4}\")\n",
    "print(\"s4.lstrip() ->\", s4.lstrip())\n",
    "print(\"s4.rstrip() ->\", s4.rstrip())\n",
    "print(\"s4.strip()  ->\", s4.strip())\n",
    "print(\"'a\\\\tb\\\\tc'.expandtabs(4) ->\", 'a\\tb\\tc'.expandtabs(4))"
   ],
   "id": "13e499f9d4da727d",
   "outputs": [
    {
     "name": "stdout",
     "output_type": "stream",
     "text": [
      "\n",
      "==================================================\n",
      "Strip and Whitespace Handling\n",
      "==================================================\n",
      "Original string:    padded text   \n",
      "s4.lstrip() -> padded text   \n",
      "s4.rstrip() ->    padded text\n",
      "s4.strip()  -> padded text\n",
      "'a\\tb\\tc'.expandtabs(4) -> a   b   c\n"
     ]
    }
   ],
   "execution_count": 36
  },
  {
   "metadata": {
    "ExecuteTime": {
     "end_time": "2025-08-24T16:14:51.332264Z",
     "start_time": "2025-08-24T16:14:51.329338Z"
    }
   },
   "cell_type": "code",
   "source": [
    "pretty_section(\"Partitioning\")\n",
    "\n",
    "print(\"s.partition(' ')   ->\", s.partition(\" \"))\n",
    "print(\"s.rpartition(' ') ->\", s.rpartition(\" \"))"
   ],
   "id": "28c4b8990c318c17",
   "outputs": [
    {
     "name": "stdout",
     "output_type": "stream",
     "text": [
      "\n",
      "==================================================\n",
      "Partitioning\n",
      "==================================================\n",
      "s.partition(' ')   -> ('hello', ' ', 'world')\n",
      "s.rpartition(' ') -> ('hello', ' ', 'world')\n"
     ]
    }
   ],
   "execution_count": 37
  },
  {
   "metadata": {
    "ExecuteTime": {
     "end_time": "2025-08-24T16:14:51.499803Z",
     "start_time": "2025-08-24T16:14:51.495978Z"
    }
   },
   "cell_type": "code",
   "source": [
    "pretty_section(\"Character Testing Methods\")\n",
    "\n",
    "print(f\"Original string: {s2}\")\n",
    "print(\"s2.isupper()   ->\", s2.isupper())\n",
    "print(\"s.islower()    ->\", s.islower())\n",
    "print(\"s.istitle()    ->\", s.istitle())\n",
    "print(\"s3.isdecimal() ->\", s3.isdecimal())\n",
    "print(\"s3.isdigit()   ->\", s3.isdigit())\n",
    "print(\"s3.isnumeric() ->\", s3.isnumeric())\n",
    "print(\"s.isalpha()    ->\", s.isalpha())\n",
    "print(\"s3.isalnum()   ->\", s3.isalnum())\n",
    "print(\"'abc123'.isalnum() ->\", \"abc123\".isalnum())\n",
    "print(\"s.isascii()    ->\", s.isascii())\n",
    "print(\"s.isspace()    ->\", \"   \".isspace())\n",
    "print(\"s.isidentifier()->\", \"my_var\".isidentifier())\n",
    "print(\"s.isprintable()->\", s.isprintable())\n"
   ],
   "id": "71649aae87854c45",
   "outputs": [
    {
     "name": "stdout",
     "output_type": "stream",
     "text": [
      "\n",
      "==================================================\n",
      "Character Testing Methods\n",
      "==================================================\n",
      "Original string: HELLO\n",
      "s2.isupper()   -> True\n",
      "s.islower()    -> True\n",
      "s.istitle()    -> False\n",
      "s3.isdecimal() -> True\n",
      "s3.isdigit()   -> True\n",
      "s3.isnumeric() -> True\n",
      "s.isalpha()    -> False\n",
      "s3.isalnum()   -> True\n",
      "'abc123'.isalnum() -> True\n",
      "s.isascii()    -> True\n",
      "s.isspace()    -> True\n",
      "s.isidentifier()-> True\n",
      "s.isprintable()-> True\n"
     ]
    }
   ],
   "execution_count": 38
  },
  {
   "metadata": {
    "ExecuteTime": {
     "end_time": "2025-08-24T16:14:51.628847Z",
     "start_time": "2025-08-24T16:14:51.626235Z"
    }
   },
   "cell_type": "code",
   "source": [
    "pretty_section(\"Formatting Strings\")\n",
    "\n",
    "print(\"'{} is {} years old'.format('Alice', 30) ->\", \"{} is {} years old\".format(\"Alice\",30))\n",
    "print(\"'Name: {name}, Age: {age}'.format_map({'name':'Bob','age':25}) ->\",\n",
    "      \"Name: {name}, Age: {age}\".format_map({\"name\":\"Bob\",\"age\":25}))"
   ],
   "id": "2c9eb9c7a50f686b",
   "outputs": [
    {
     "name": "stdout",
     "output_type": "stream",
     "text": [
      "\n",
      "==================================================\n",
      "Formatting Strings\n",
      "==================================================\n",
      "'{} is {} years old'.format('Alice', 30) -> Alice is 30 years old\n",
      "'Name: {name}, Age: {age}'.format_map({'name':'Bob','age':25}) -> Name: Bob, Age: 25\n"
     ]
    }
   ],
   "execution_count": 39
  },
  {
   "metadata": {
    "ExecuteTime": {
     "end_time": "2025-08-24T16:14:52.008808Z",
     "start_time": "2025-08-24T16:14:52.003613Z"
    }
   },
   "cell_type": "code",
   "source": [
    "pretty_section(\"Translation\")\n",
    "\n",
    "trans = str.maketrans(\"aeiou\", \"12345\")\n",
    "print(\"'hello world'.translate(trans) ->\", \"hello world\".translate(trans))"
   ],
   "id": "66ea03e5c75a3648",
   "outputs": [
    {
     "name": "stdout",
     "output_type": "stream",
     "text": [
      "\n",
      "==================================================\n",
      "Translation\n",
      "==================================================\n",
      "'hello world'.translate(trans) -> h2ll4 w4rld\n"
     ]
    }
   ],
   "execution_count": 40
  },
  {
   "metadata": {},
   "cell_type": "markdown",
   "source": [
    "## Booleans\n",
    "\n",
    "Booleans represent one of two values: _True_ or _False_."
   ],
   "id": "89c6696603f34558"
  },
  {
   "metadata": {
    "ExecuteTime": {
     "end_time": "2025-08-24T16:14:52.304430Z",
     "start_time": "2025-08-24T16:14:52.301412Z"
    }
   },
   "cell_type": "code",
   "source": [
    "print(\"bool(0)     ->\", bool(0), \"   (0 is considered False)\")\n",
    "print(\"bool(1)     ->\", bool(1), \"   (non-zero numbers are True)\")\n",
    "print(\"bool(-1)     ->\", bool(-1), \"   (non-zero numbers are True)\")\n",
    "print(\"bool('')    ->\", bool(''), \"   (empty string is False)\")\n",
    "print(\"bool('Hi')  ->\", bool('Hi'), \"   (non-empty string is True)\")\n",
    "print(\"5 > 3       ->\", 5 > 3, \"   (comparison returns a boolean)\")\n",
    "print(\"10 == 2*5   ->\", 10 == 2*5, \"   (True because 10 equals 10)\")"
   ],
   "id": "33a6c5a45478ad08",
   "outputs": [
    {
     "name": "stdout",
     "output_type": "stream",
     "text": [
      "bool(0)     -> False    (0 is considered False)\n",
      "bool(1)     -> True    (non-zero numbers are True)\n",
      "bool(-1)     -> True    (non-zero numbers are True)\n",
      "bool('')    -> False    (empty string is False)\n",
      "bool('Hi')  -> True    (non-empty string is True)\n",
      "5 > 3       -> True    (comparison returns a boolean)\n",
      "10 == 2*5   -> True    (True because 10 equals 10)\n"
     ]
    }
   ],
   "execution_count": 41
  },
  {
   "metadata": {},
   "cell_type": "markdown",
   "source": [
    "# Collections\n",
    "\n",
    "Data types that can store a collection of data"
   ],
   "id": "32c4c21f0f1d61a8"
  },
  {
   "metadata": {},
   "cell_type": "markdown",
   "source": [
    "## Lists\n",
    "* Lists are used for storing multiple items within a single variable.\n",
    "* List items are ordered, can be changed, and are allowed to contain duplicate values.\n",
    "* When lists are described as ordered, it means that the items are given a defined order, and that order is not changed.\n",
    "* When new items are added to a list, they are placed at the end.\n",
    "* Since lists are indexed, items with the same value can be included.\n",
    "* Lists are considered changeable/mutable , meaning that items can be changed, added, or removed after the list has been created."
   ],
   "id": "7bb49033147ed9e7"
  },
  {
   "metadata": {
    "ExecuteTime": {
     "end_time": "2025-08-24T16:21:57.003245Z",
     "start_time": "2025-08-24T16:21:56.999684Z"
    }
   },
   "cell_type": "code",
   "source": [
    "fruits = [\"apple\", \"banana\", \"cherry\"]\n",
    "print(\"List:\", fruits)\n",
    "print(\"Length:\", len(fruits))\n",
    "\n",
    "# The list() Constructor\n",
    "new_list = list((\"mango\", \"orange\", \"grape\"))\n",
    "print(\"Constructed list:\", new_list)"
   ],
   "id": "36fe01277aee8bc",
   "outputs": [
    {
     "name": "stdout",
     "output_type": "stream",
     "text": [
      "List: ['apple', 'banana', 'cherry']\n",
      "Length: 3\n",
      "Constructed list: ['mango', 'orange', 'grape']\n"
     ]
    }
   ],
   "execution_count": 58
  },
  {
   "metadata": {
    "ExecuteTime": {
     "end_time": "2025-08-24T16:19:12.555997Z",
     "start_time": "2025-08-24T16:19:12.551682Z"
    }
   },
   "cell_type": "code",
   "source": [
    "pretty_section(\"Access Items\")\n",
    "\n",
    "\n",
    "pretty_section(\"Normal indexing\")\n",
    "print(f\"Original list: {fruits}\")\n",
    "print(\"First item:\", fruits[0])\n",
    "print(\"Second item:\", fruits[1])\n",
    "\n",
    "pretty_section(\"Negative indexing\")\n",
    "print(\"Last item:\", fruits[-1])\n",
    "print(\"Second last item:\", fruits[-2])\n",
    "\n",
    "pretty_section(\"Range of index\")\n",
    "print(\"Range [1:3]:\", fruits[1:3])\n",
    "\n",
    "pretty_section(\"Range of negative index\")\n",
    "print(\"Range [-3:-1]:\", fruits[-3:-1])\n",
    "\n",
    "pretty_section(\"Check if item exists\")\n",
    "print(\"Is 'apple' in fruits?\", \"apple\" in fruits)\n",
    "print(\"Is 'kiwi' in fruits?\", \"kiwi\" in fruits)"
   ],
   "id": "e27a4ed00349f63",
   "outputs": [
    {
     "name": "stdout",
     "output_type": "stream",
     "text": [
      "\n",
      "==================================================\n",
      "Access Items\n",
      "==================================================\n",
      "\n",
      "==================================================\n",
      "Normal indexing\n",
      "==================================================\n",
      "Original list: ['apple', 'banana', 'cherry']\n",
      "First item: apple\n",
      "Second item: banana\n",
      "\n",
      "==================================================\n",
      "Negative indexing\n",
      "==================================================\n",
      "Last item: cherry\n",
      "Second last item: banana\n",
      "\n",
      "==================================================\n",
      "Range of index\n",
      "==================================================\n",
      "Range [1:3]: ['banana', 'cherry']\n",
      "\n",
      "==================================================\n",
      "Range of negative index\n",
      "==================================================\n",
      "Range [-3:-1]: ['apple', 'banana']\n",
      "\n",
      "==================================================\n",
      "Check if item exists\n",
      "==================================================\n",
      "Is 'apple' in fruits? True\n",
      "Is 'kiwi' in fruits? False\n"
     ]
    }
   ],
   "execution_count": 49
  },
  {
   "metadata": {
    "ExecuteTime": {
     "end_time": "2025-08-24T16:19:16.215052Z",
     "start_time": "2025-08-24T16:19:16.210366Z"
    }
   },
   "cell_type": "code",
   "source": [
    "pretty_section(\"Change Items\")\n",
    "\n",
    "list_original  =[\"apple\", \"banana\", \"cherry\"]\n",
    "pretty_section(\"By specific index\")\n",
    "print(f\"Original list: {list_original}\")\n",
    "fruits[1] = \"blueberry\"\n",
    "print(\"After index change:\", fruits)"
   ],
   "id": "b3d3aec6651bb62d",
   "outputs": [
    {
     "name": "stdout",
     "output_type": "stream",
     "text": [
      "\n",
      "==================================================\n",
      "Change Items\n",
      "==================================================\n",
      "\n",
      "==================================================\n",
      "By specific index\n",
      "==================================================\n",
      "Original list: ['apple', 'banana', 'cherry']\n",
      "After index change: ['apple', 'blueberry', 'cherry']\n"
     ]
    }
   ],
   "execution_count": 50
  },
  {
   "metadata": {
    "ExecuteTime": {
     "end_time": "2025-08-24T16:19:46.697173Z",
     "start_time": "2025-08-24T16:19:46.691658Z"
    }
   },
   "cell_type": "code",
   "source": [
    "pretty_section(\"By range of values\")\n",
    "fruits[0:2] = [\"kiwi\", \"melon\"]\n",
    "print(\"After range change:\", fruits)"
   ],
   "id": "513c026e04c9e181",
   "outputs": [
    {
     "name": "stdout",
     "output_type": "stream",
     "text": [
      "\n",
      "==================================================\n",
      "By range of values\n",
      "==================================================\n",
      "After range change: ['kiwi', 'melon', 'cherry']\n"
     ]
    }
   ],
   "execution_count": 51
  },
  {
   "metadata": {
    "ExecuteTime": {
     "end_time": "2025-08-24T16:20:26.296820Z",
     "start_time": "2025-08-24T16:20:26.292725Z"
    }
   },
   "cell_type": "code",
   "source": [
    "pretty_section(\"Insert\")\n",
    "fruits.insert(1, \"pear\")\n",
    "print(\"After insert:\", fruits)"
   ],
   "id": "a1b000bfaa5357a7",
   "outputs": [
    {
     "name": "stdout",
     "output_type": "stream",
     "text": [
      "\n",
      "==================================================\n",
      "Insert\n",
      "==================================================\n",
      "After insert: ['kiwi', 'pear', 'melon', 'cherry']\n"
     ]
    }
   ],
   "execution_count": 52
  },
  {
   "metadata": {
    "ExecuteTime": {
     "end_time": "2025-08-24T16:20:37.649159Z",
     "start_time": "2025-08-24T16:20:37.645617Z"
    }
   },
   "cell_type": "code",
   "source": [
    "pretty_section(\"Append\")\n",
    "fruits.append(\"strawberry\")\n",
    "print(\"After append:\", fruits)"
   ],
   "id": "41d1e901f1c6f045",
   "outputs": [
    {
     "name": "stdout",
     "output_type": "stream",
     "text": [
      "\n",
      "==================================================\n",
      "Append\n",
      "==================================================\n",
      "After append: ['kiwi', 'pear', 'melon', 'cherry', 'strawberry']\n"
     ]
    }
   ],
   "execution_count": 53
  },
  {
   "metadata": {
    "ExecuteTime": {
     "end_time": "2025-08-24T16:20:55.147400Z",
     "start_time": "2025-08-24T16:20:55.143872Z"
    }
   },
   "cell_type": "code",
   "source": [
    "pretty_section(\"Remove Items\")\n",
    "\n",
    "# Using remove()\n",
    "fruits.remove(\"pear\")\n",
    "print(\"After remove:\", fruits)"
   ],
   "id": "6662b6f1b6b91f4c",
   "outputs": [
    {
     "name": "stdout",
     "output_type": "stream",
     "text": [
      "\n",
      "==================================================\n",
      "Remove Items\n",
      "==================================================\n",
      "After remove: ['kiwi', 'melon', 'cherry', 'strawberry']\n"
     ]
    }
   ],
   "execution_count": 54
  },
  {
   "metadata": {
    "ExecuteTime": {
     "end_time": "2025-08-24T16:21:15.170897Z",
     "start_time": "2025-08-24T16:21:15.166389Z"
    }
   },
   "cell_type": "code",
   "source": [
    "\n",
    "# Using pop()\n",
    "popped_item = fruits.pop()\n",
    "print(\"After pop:\", fruits, \"| Popped:\", popped_item)"
   ],
   "id": "5552e7064c7f522a",
   "outputs": [
    {
     "name": "stdout",
     "output_type": "stream",
     "text": [
      "After pop: ['kiwi', 'melon'] | Popped: cherry\n"
     ]
    }
   ],
   "execution_count": 56
  },
  {
   "metadata": {
    "ExecuteTime": {
     "end_time": "2025-08-24T16:21:29.364123Z",
     "start_time": "2025-08-24T16:21:29.360963Z"
    }
   },
   "cell_type": "code",
   "source": [
    "\n",
    "# Using del\n",
    "del fruits[0]\n",
    "print(\"After del:\", fruits)"
   ],
   "id": "4840d19962361144",
   "outputs": [
    {
     "name": "stdout",
     "output_type": "stream",
     "text": [
      "After del: ['melon']\n"
     ]
    }
   ],
   "execution_count": 57
  },
  {
   "metadata": {
    "ExecuteTime": {
     "end_time": "2025-08-24T16:22:11.119606Z",
     "start_time": "2025-08-24T16:22:11.116981Z"
    }
   },
   "cell_type": "code",
   "source": [
    "print(f\"Original list: {fruits}\")\n",
    "# Using clear()\n",
    "fruits.clear()\n",
    "print(\"After clear:\", fruits)"
   ],
   "id": "142e90183ead980e",
   "outputs": [
    {
     "name": "stdout",
     "output_type": "stream",
     "text": [
      "Original list: ['apple', 'banana', 'cherry']\n",
      "After clear: []\n"
     ]
    }
   ],
   "execution_count": 59
  },
  {
   "metadata": {
    "ExecuteTime": {
     "end_time": "2025-08-24T16:26:31.780172Z",
     "start_time": "2025-08-24T16:26:31.775872Z"
    }
   },
   "cell_type": "code",
   "source": [
    "pretty_section(\"Sort Lists\")\n",
    "\n",
    "numbers = [5, 2, 9, 1, 5, 6]\n",
    "words = [\"Banana\", \"apple\", \"cherry\",\"dog\"]\n",
    "\n",
    "# Ascending\n",
    "numbers.sort()\n",
    "print(\"Sorted ascending:\", numbers)\n",
    "\n",
    "# Descending\n",
    "numbers.sort(reverse=True)\n",
    "print(\"Sorted descending:\", numbers)\n",
    "\n",
    "# Case insensitive\n",
    "# words.sort(key=str.lower)\n",
    "words.sort()\n",
    "print(\"Case sensitive sort:\", words)\n",
    "\n",
    "words.sort(key=str.lower)\n",
    "print(\"Case insensitive sort:\", words)\n",
    "\n",
    "\n",
    "\n",
    "# Custom sort with key (by length)\n",
    "words.sort(key=len)\n",
    "print(\"Sorted by length:\", words)"
   ],
   "id": "d54f324489fe7b8f",
   "outputs": [
    {
     "name": "stdout",
     "output_type": "stream",
     "text": [
      "\n",
      "==================================================\n",
      "Sort Lists\n",
      "==================================================\n",
      "Sorted ascending: [1, 2, 5, 5, 6, 9]\n",
      "Sorted descending: [9, 6, 5, 5, 2, 1]\n",
      "Case sensitive sort: ['Banana', 'apple', 'cherry', 'dog']\n",
      "Case insensitive sort: ['apple', 'Banana', 'cherry', 'dog']\n",
      "Sorted by length: ['dog', 'apple', 'Banana', 'cherry']\n"
     ]
    }
   ],
   "execution_count": 69
  },
  {
   "metadata": {
    "ExecuteTime": {
     "end_time": "2025-08-24T16:25:58.694084Z",
     "start_time": "2025-08-24T16:25:58.691111Z"
    }
   },
   "cell_type": "code",
   "source": [
    "numbers = [5, 2, 9, 1, 5, 6]\n",
    "# Reverse list\n",
    "numbers.reverse()\n",
    "print(\"Reversed numbers:\", numbers)"
   ],
   "id": "2c1cd0a11a485c62",
   "outputs": [
    {
     "name": "stdout",
     "output_type": "stream",
     "text": [
      "Reversed numbers: [6, 5, 1, 9, 2, 5]\n"
     ]
    }
   ],
   "execution_count": 68
  },
  {
   "metadata": {
    "ExecuteTime": {
     "end_time": "2025-08-24T16:27:30.079129Z",
     "start_time": "2025-08-24T16:27:30.075498Z"
    }
   },
   "cell_type": "code",
   "source": [
    "pretty_section(\"Copy Lists\")\n",
    "\n",
    "copy_list = numbers.copy()\n",
    "print(\"Original list:\", numbers)\n",
    "print(\"Copied list:\", copy_list)"
   ],
   "id": "6f0a70f62d921151",
   "outputs": [
    {
     "name": "stdout",
     "output_type": "stream",
     "text": [
      "\n",
      "==================================================\n",
      "Copy Lists\n",
      "==================================================\n",
      "Original list: [9, 6, 5, 5, 2, 1]\n",
      "Copied list: [9, 6, 5, 5, 2, 1]\n"
     ]
    }
   ],
   "execution_count": 71
  },
  {
   "metadata": {
    "ExecuteTime": {
     "end_time": "2025-08-24T16:27:38.525212Z",
     "start_time": "2025-08-24T16:27:38.521459Z"
    }
   },
   "cell_type": "code",
   "source": [
    "pretty_section(\"Join Lists\")\n",
    "\n",
    "list1 = [\"a\", \"b\", \"c\"]\n",
    "list2 = [1, 2, 3]\n",
    "\n",
    "# Using +\n",
    "joined = list1 + list2\n",
    "print(\"Joined (+):\", joined)\n",
    "\n",
    "# Using extend()\n",
    "list1.extend(list2)\n",
    "print(\"Extended:\", list1)\n"
   ],
   "id": "6afe0f84fc77706b",
   "outputs": [
    {
     "name": "stdout",
     "output_type": "stream",
     "text": [
      "\n",
      "==================================================\n",
      "Join Lists\n",
      "==================================================\n",
      "Joined (+): ['a', 'b', 'c', 1, 2, 3]\n",
      "Extended: ['a', 'b', 'c', 1, 2, 3]\n"
     ]
    }
   ],
   "execution_count": 72
  },
  {
   "metadata": {},
   "cell_type": "markdown",
   "source": "List comprehension is a really important tool that will be taught after control flow understanding",
   "id": "f08604d55a51617"
  },
  {
   "metadata": {},
   "cell_type": "markdown",
   "source": [
    "## Tuples\n",
    "* Tuple items are ordered, unchangeable, and allow duplicate values."
   ],
   "id": "c93aa6e875eb84bb"
  },
  {
   "metadata": {
    "ExecuteTime": {
     "end_time": "2025-08-24T16:28:52.202123Z",
     "start_time": "2025-08-24T16:28:52.197209Z"
    }
   },
   "cell_type": "code",
   "source": [
    "fruits = (\"apple\", \"banana\", \"cherry\")\n",
    "print(\"Tuple:\", fruits)\n",
    "print(\"Length:\", len(fruits))\n",
    "\n",
    "# The tuple() Constructor\n",
    "new_tuple = tuple((\"mango\", \"orange\", \"grape\"))\n",
    "print(\"Constructed tuple:\", new_tuple)"
   ],
   "id": "ee506228c7a4c585",
   "outputs": [
    {
     "name": "stdout",
     "output_type": "stream",
     "text": [
      "Tuple: ('apple', 'banana', 'cherry')\n",
      "Length: 3\n",
      "Constructed tuple: ('mango', 'orange', 'grape')\n"
     ]
    }
   ],
   "execution_count": 73
  },
  {
   "metadata": {
    "ExecuteTime": {
     "end_time": "2025-08-24T16:29:08.191779Z",
     "start_time": "2025-08-24T16:29:08.187205Z"
    }
   },
   "cell_type": "code",
   "source": [
    "pretty_section(\"Access Items\")\n",
    "\n",
    "# Normal indexing\n",
    "print(\"First item:\", fruits[0])\n",
    "print(\"Second item:\", fruits[1])\n",
    "\n",
    "# Negative indexing\n",
    "print(\"Last item:\", fruits[-1])\n",
    "print(\"Second last item:\", fruits[-2])\n",
    "\n",
    "# Range of index\n",
    "print(\"Range [1:3]:\", fruits[1:3])\n",
    "\n",
    "# Range of negative index\n",
    "print(\"Range [-3:-1]:\", fruits[-3:-1])\n",
    "\n",
    "# Check if item exists\n",
    "print(\"Is 'apple' in fruits?\", \"apple\" in fruits)\n",
    "print(\"Is 'kiwi' in fruits?\", \"kiwi\" in fruits)"
   ],
   "id": "2741fe42f9944e8a",
   "outputs": [
    {
     "name": "stdout",
     "output_type": "stream",
     "text": [
      "\n",
      "==================================================\n",
      "Access Items\n",
      "==================================================\n",
      "First item: apple\n",
      "Second item: banana\n",
      "Last item: cherry\n",
      "Second last item: banana\n",
      "Range [1:3]: ('banana', 'cherry')\n",
      "Range [-3:-1]: ('apple', 'banana')\n",
      "Is 'apple' in fruits? True\n",
      "Is 'kiwi' in fruits? False\n"
     ]
    }
   ],
   "execution_count": 74
  },
  {
   "metadata": {
    "ExecuteTime": {
     "end_time": "2025-08-24T16:30:04.447809Z",
     "start_time": "2025-08-24T16:30:04.443692Z"
    }
   },
   "cell_type": "code",
   "source": [
    "pretty_section(\"Immutability\")\n",
    "\n",
    "# Convert to list to change\n",
    "temp_list = list(fruits)\n",
    "temp_list[1] = \"blueberry\"\n",
    "fruits = tuple(temp_list)\n",
    "print(\"After changing (via list):\", fruits)"
   ],
   "id": "45241ddeb5c46933",
   "outputs": [
    {
     "name": "stdout",
     "output_type": "stream",
     "text": [
      "\n",
      "==================================================\n",
      "Immutability\n",
      "==================================================\n",
      "After changing (via list): ('apple', 'blueberry', 'cherry')\n"
     ]
    }
   ],
   "execution_count": 75
  },
  {
   "metadata": {
    "ExecuteTime": {
     "end_time": "2025-08-24T16:30:36.297672Z",
     "start_time": "2025-08-24T16:30:36.294366Z"
    }
   },
   "cell_type": "code",
   "source": [
    "pretty_section(\"Add Items\")\n",
    "\n",
    "# Tuples are immutable, so add via concatenation\n",
    "fruits = fruits + (\"pear\",)\n",
    "print(\"After adding item:\", fruits)"
   ],
   "id": "99c4c3c0cec466a9",
   "outputs": [
    {
     "name": "stdout",
     "output_type": "stream",
     "text": [
      "\n",
      "==================================================\n",
      "Add Items\n",
      "==================================================\n",
      "After adding item: ('apple', 'blueberry', 'cherry', 'pear')\n"
     ]
    }
   ],
   "execution_count": 76
  },
  {
   "metadata": {
    "ExecuteTime": {
     "end_time": "2025-08-24T16:31:21.760761Z",
     "start_time": "2025-08-24T16:31:21.757358Z"
    }
   },
   "cell_type": "code",
   "source": [
    "pretty_section(\"Remove Items\")\n",
    "\n",
    "# Convert to list and remove\n",
    "temp_list = list(fruits)\n",
    "temp_list.remove(\"apple\")\n",
    "fruits = tuple(temp_list)\n",
    "print(\"After removing item:\", fruits)"
   ],
   "id": "5fb3291d18644546",
   "outputs": [
    {
     "name": "stdout",
     "output_type": "stream",
     "text": [
      "\n",
      "==================================================\n",
      "Remove Items\n",
      "==================================================\n",
      "After removing item: ('blueberry', 'cherry', 'pear')\n"
     ]
    }
   ],
   "execution_count": 77
  },
  {
   "metadata": {
    "ExecuteTime": {
     "end_time": "2025-08-24T16:31:31.377714Z",
     "start_time": "2025-08-24T16:31:31.374855Z"
    }
   },
   "cell_type": "code",
   "source": [
    "\n",
    "# Using del (deletes tuple entirely)\n",
    "del fruits\n",
    "# print(fruits)  # would cause an error\n",
    "\n",
    "# Recreate for further examples\n",
    "fruits = (\"apple\", \"banana\", \"cherry\", \"banana\")"
   ],
   "id": "60ffa3fc7ae88867",
   "outputs": [],
   "execution_count": 78
  },
  {
   "metadata": {
    "ExecuteTime": {
     "end_time": "2025-08-24T16:35:29.485924Z",
     "start_time": "2025-08-24T16:35:29.479692Z"
    }
   },
   "cell_type": "code",
   "source": [
    "pretty_section(\"Looping\")\n",
    "\n",
    "for item in fruits:\n",
    "    print(\"Loop item:\", item)"
   ],
   "id": "ff2539cc0ae33720",
   "outputs": [
    {
     "name": "stdout",
     "output_type": "stream",
     "text": [
      "\n",
      "==================================================\n",
      "Looping\n",
      "==================================================\n",
      "Loop item: apple\n",
      "Loop item: banana\n",
      "Loop item: cherry\n",
      "Loop item: banana\n"
     ]
    }
   ],
   "execution_count": 79
  },
  {
   "metadata": {
    "ExecuteTime": {
     "end_time": "2025-08-24T16:35:45.807702Z",
     "start_time": "2025-08-24T16:35:45.801997Z"
    }
   },
   "cell_type": "code",
   "source": [
    "pretty_section(\"Join Tuples\")\n",
    "\n",
    "tuple1 = (\"a\", \"b\", \"c\")\n",
    "tuple2 = (1, 2, 3)\n",
    "joined = tuple1 + tuple2\n",
    "print(\"Joined tuple:\", joined)"
   ],
   "id": "db0c07d2ab0ca576",
   "outputs": [
    {
     "name": "stdout",
     "output_type": "stream",
     "text": [
      "\n",
      "==================================================\n",
      "Join Tuples\n",
      "==================================================\n",
      "Joined tuple: ('a', 'b', 'c', 1, 2, 3)\n"
     ]
    }
   ],
   "execution_count": 80
  },
  {
   "metadata": {
    "ExecuteTime": {
     "end_time": "2025-08-24T16:36:39.448517Z",
     "start_time": "2025-08-24T16:36:39.445108Z"
    }
   },
   "cell_type": "code",
   "source": [
    "pretty_section(\"Unpacking Tuples\")\n",
    "\n",
    "numbers = (1, 2, 3)\n",
    "x, y, z = numbers\n",
    "print(\"Unpacked:\", x, y, z)\n",
    "\n",
    "# Extended unpacking\n",
    "more_numbers = (1, 2, 3, 4, 5)\n",
    "a, b, *rest = more_numbers\n",
    "print(\"Extended unpacking:\", a, b, rest)\n",
    "print(type(rest))"
   ],
   "id": "bd3eba248375f737",
   "outputs": [
    {
     "name": "stdout",
     "output_type": "stream",
     "text": [
      "\n",
      "==================================================\n",
      "Unpacking Tuples\n",
      "==================================================\n",
      "Unpacked: 1 2 3\n",
      "Extended unpacking: 1 2 [3, 4, 5]\n",
      "<class 'list'>\n"
     ]
    }
   ],
   "execution_count": 82
  },
  {
   "metadata": {
    "ExecuteTime": {
     "end_time": "2025-08-24T16:36:49.691241Z",
     "start_time": "2025-08-24T16:36:49.687408Z"
    }
   },
   "cell_type": "code",
   "source": [
    "pretty_section(\"Tuple Methods\")\n",
    "\n",
    "# count()\n",
    "print(\"fruits.count('banana') ->\", fruits.count(\"banana\"))\n",
    "\n",
    "# index()\n",
    "print(\"fruits.index('cherry') ->\", fruits.index(\"cherry\"))\n"
   ],
   "id": "2f55d2b8a1d00f1e",
   "outputs": [
    {
     "name": "stdout",
     "output_type": "stream",
     "text": [
      "\n",
      "==================================================\n",
      "Tuple Methods\n",
      "==================================================\n",
      "fruits.count('banana') -> 2\n",
      "fruits.index('cherry') -> 2\n"
     ]
    }
   ],
   "execution_count": 83
  },
  {
   "metadata": {},
   "cell_type": "markdown",
   "source": [
    "## Set\n",
    "A set is a collection which is unordered, unchangeable, and unindexed."
   ],
   "id": "560123445f6404f8"
  },
  {
   "metadata": {
    "ExecuteTime": {
     "end_time": "2025-08-24T16:37:18.289908Z",
     "start_time": "2025-08-24T16:37:18.286640Z"
    }
   },
   "cell_type": "code",
   "source": [
    "fruits = {\"apple\", \"banana\", \"cherry\"}\n",
    "print(\"Initial set:\", fruits)"
   ],
   "id": "bc1a07bd772afcb4",
   "outputs": [
    {
     "name": "stdout",
     "output_type": "stream",
     "text": [
      "Initial set: {'cherry', 'apple', 'banana'}\n"
     ]
    }
   ],
   "execution_count": 84
  },
  {
   "metadata": {
    "ExecuteTime": {
     "end_time": "2025-08-24T16:37:23.917094Z",
     "start_time": "2025-08-24T16:37:23.913939Z"
    }
   },
   "cell_type": "code",
   "source": [
    "# add()\n",
    "\n",
    "fruits.add(\"orange\")\n",
    "print(\"After add:\", fruits)"
   ],
   "id": "6bb25edd82bdc802",
   "outputs": [
    {
     "name": "stdout",
     "output_type": "stream",
     "text": [
      "After add: {'orange', 'cherry', 'apple', 'banana'}\n"
     ]
    }
   ],
   "execution_count": 85
  },
  {
   "metadata": {
    "ExecuteTime": {
     "end_time": "2025-08-24T16:38:05.354437Z",
     "start_time": "2025-08-24T16:38:05.351027Z"
    }
   },
   "cell_type": "code",
   "source": [
    "# clear()\n",
    "\n",
    "temp = fruits.copy()\n",
    "temp.clear()\n",
    "print(\"After clear:\", temp)"
   ],
   "id": "8c0650dfc54c158c",
   "outputs": [
    {
     "name": "stdout",
     "output_type": "stream",
     "text": [
      "After clear: set()\n"
     ]
    }
   ],
   "execution_count": 86
  },
  {
   "metadata": {
    "ExecuteTime": {
     "end_time": "2025-08-24T16:38:07.819575Z",
     "start_time": "2025-08-24T16:38:07.816619Z"
    }
   },
   "cell_type": "code",
   "source": [
    "# copy()\n",
    "\n",
    "copied = fruits.copy()\n",
    "print(\"Copied set:\", copied)"
   ],
   "id": "eb9df7f7bf6ad001",
   "outputs": [
    {
     "name": "stdout",
     "output_type": "stream",
     "text": [
      "Copied set: {'orange', 'cherry', 'apple', 'banana'}\n"
     ]
    }
   ],
   "execution_count": 87
  },
  {
   "metadata": {
    "ExecuteTime": {
     "end_time": "2025-08-24T16:39:38.950066Z",
     "start_time": "2025-08-24T16:39:38.948045Z"
    }
   },
   "cell_type": "code",
   "source": [
    "# difference() (-)\n",
    "\n",
    "set1 = {\"apple\", \"banana\", \"cherry\"}\n",
    "set2 = {\"banana\", \"kiwi\"}\n",
    "print(\"Difference (operator):\", set1.difference(set2))\n",
    "print(\"Difference set1 - set2:\", set1 - set2)\n",
    "print(\"set1:\", set1)"
   ],
   "id": "977ee7c1d0af20fd",
   "outputs": [
    {
     "name": "stdout",
     "output_type": "stream",
     "text": [
      "Difference (operator): {'cherry', 'apple'}\n",
      "Difference set1 - set2: {'cherry', 'apple'}\n",
      "set1: {'cherry', 'apple', 'banana'}\n"
     ]
    }
   ],
   "execution_count": 91
  },
  {
   "metadata": {
    "ExecuteTime": {
     "end_time": "2025-08-24T16:39:18.128008Z",
     "start_time": "2025-08-24T16:39:18.124668Z"
    }
   },
   "cell_type": "code",
   "source": [
    "# difference_update() (-=)\n",
    "\n",
    "set1 = {\"apple\", \"banana\", \"cherry\"}\n",
    "set1.difference_update(set2)\n",
    "print(\"After difference_update:\", set1)"
   ],
   "id": "c5082b91bc79cac",
   "outputs": [
    {
     "name": "stdout",
     "output_type": "stream",
     "text": [
      "After difference_update: {'cherry', 'apple'}\n"
     ]
    }
   ],
   "execution_count": 90
  },
  {
   "metadata": {
    "ExecuteTime": {
     "end_time": "2025-08-24T16:39:52.288447Z",
     "start_time": "2025-08-24T16:39:52.285437Z"
    }
   },
   "cell_type": "code",
   "source": [
    "# discard()\n",
    "\n",
    "numbers = {1, 2, 3}\n",
    "numbers.discard(2)   # removes if present, no error if not\n",
    "print(\"After discard:\", numbers)"
   ],
   "id": "65246dfa36a262ac",
   "outputs": [
    {
     "name": "stdout",
     "output_type": "stream",
     "text": [
      "After discard: {1, 3}\n"
     ]
    }
   ],
   "execution_count": 92
  },
  {
   "metadata": {
    "ExecuteTime": {
     "end_time": "2025-08-24T16:40:02.318578Z",
     "start_time": "2025-08-24T16:40:02.315160Z"
    }
   },
   "cell_type": "code",
   "source": [
    "# intersection() (&)\n",
    "\n",
    "set1 = {\"apple\", \"banana\", \"cherry\"}\n",
    "set2 = {\"banana\", \"kiwi\"}\n",
    "print(\"Intersection:\", set1.intersection(set2))\n",
    "print(\"Intersection (operator):\", set1 & set2)"
   ],
   "id": "1ab04c497804260d",
   "outputs": [
    {
     "name": "stdout",
     "output_type": "stream",
     "text": [
      "Intersection: {'banana'}\n",
      "Intersection (operator): {'banana'}\n"
     ]
    }
   ],
   "execution_count": 93
  },
  {
   "metadata": {
    "ExecuteTime": {
     "end_time": "2025-08-24T16:40:04.136307Z",
     "start_time": "2025-08-24T16:40:04.132825Z"
    }
   },
   "cell_type": "code",
   "source": [
    "# intersection_update() (&=)\n",
    "\n",
    "set1 = {\"apple\", \"banana\", \"cherry\"}\n",
    "set1.intersection_update(set2)\n",
    "print(\"After intersection_update:\", set1)"
   ],
   "id": "dd9e8b72dcf9daed",
   "outputs": [
    {
     "name": "stdout",
     "output_type": "stream",
     "text": [
      "After intersection_update: {'banana'}\n"
     ]
    }
   ],
   "execution_count": 94
  },
  {
   "metadata": {
    "ExecuteTime": {
     "end_time": "2025-08-24T16:40:11.371055Z",
     "start_time": "2025-08-24T16:40:11.367309Z"
    }
   },
   "cell_type": "code",
   "source": [
    "# isdisjoint()\n",
    "\n",
    "a = {\"apple\", \"banana\"}\n",
    "b = {\"kiwi\", \"melon\"}\n",
    "print(\"Are disjoint (a & b)?\", a.isdisjoint(b))"
   ],
   "id": "86941bc2cf5ac727",
   "outputs": [
    {
     "name": "stdout",
     "output_type": "stream",
     "text": [
      "Are disjoint (a & b)? True\n"
     ]
    }
   ],
   "execution_count": 95
  },
  {
   "metadata": {
    "ExecuteTime": {
     "end_time": "2025-08-24T16:40:19.391925Z",
     "start_time": "2025-08-24T16:40:19.388860Z"
    }
   },
   "cell_type": "code",
   "source": [
    "# issubset() (<=, <)\n",
    "\n",
    "small = {\"apple\", \"banana\"}\n",
    "big = {\"apple\", \"banana\", \"cherry\"}\n",
    "print(\"small.issubset(big):\", small.issubset(big))\n",
    "print(\"small <= big:\", small <= big)\n",
    "print(\"small < big:\", small < big)"
   ],
   "id": "d6c5d33d7effa653",
   "outputs": [
    {
     "name": "stdout",
     "output_type": "stream",
     "text": [
      "small.issubset(big): True\n",
      "small <= big: True\n",
      "small < big: True\n"
     ]
    }
   ],
   "execution_count": 96
  },
  {
   "metadata": {
    "ExecuteTime": {
     "end_time": "2025-08-24T16:40:25.134537Z",
     "start_time": "2025-08-24T16:40:25.132229Z"
    }
   },
   "cell_type": "code",
   "source": [
    "# issuperset() (>=, >)\n",
    "\n",
    "print(\"big.issuperset(small):\", big.issuperset(small))\n",
    "print(\"big >= small:\", big >= small)\n",
    "print(\"big > small:\", big > small)"
   ],
   "id": "43c8e0729fbdace0",
   "outputs": [
    {
     "name": "stdout",
     "output_type": "stream",
     "text": [
      "big.issuperset(small): True\n",
      "big >= small: True\n",
      "big > small: True\n"
     ]
    }
   ],
   "execution_count": 97
  },
  {
   "metadata": {
    "ExecuteTime": {
     "end_time": "2025-08-24T16:40:31.985288Z",
     "start_time": "2025-08-24T16:40:31.981821Z"
    }
   },
   "cell_type": "code",
   "source": [
    "# pop()\n",
    "\n",
    "items = {\"x\", \"y\", \"z\"}\n",
    "popped = items.pop()\n",
    "print(\"After pop:\", items, \"| Popped element:\", popped)\n",
    "# remove()\n",
    "\n",
    "items = {\"x\", \"y\", \"z\"}\n",
    "items.remove(\"y\")\n",
    "print(\"After remove:\", items)"
   ],
   "id": "fd5fa31895e4503c",
   "outputs": [
    {
     "name": "stdout",
     "output_type": "stream",
     "text": [
      "After pop: {'y', 'z'} | Popped element: x\n",
      "After remove: {'x', 'z'}\n"
     ]
    }
   ],
   "execution_count": 98
  },
  {
   "metadata": {
    "ExecuteTime": {
     "end_time": "2025-08-24T16:40:52.876222Z",
     "start_time": "2025-08-24T16:40:52.873234Z"
    }
   },
   "cell_type": "code",
   "source": [
    "# symmetric_difference() (^)\n",
    "\n",
    "set1 = {\"apple\", \"banana\"}\n",
    "set2 = {\"banana\", \"cherry\"}\n",
    "print(\"Symmetric difference:\", set1.symmetric_difference(set2))\n",
    "print(\"Symmetric difference (operator):\", set1 ^ set2)"
   ],
   "id": "b7ccc2627755dce7",
   "outputs": [
    {
     "name": "stdout",
     "output_type": "stream",
     "text": [
      "Symmetric difference: {'cherry', 'apple'}\n",
      "Symmetric difference (operator): {'cherry', 'apple'}\n"
     ]
    }
   ],
   "execution_count": 99
  },
  {
   "metadata": {
    "ExecuteTime": {
     "end_time": "2025-08-24T16:40:59.371954Z",
     "start_time": "2025-08-24T16:40:59.368677Z"
    }
   },
   "cell_type": "code",
   "source": [
    "# symmetric_difference_update() (^=)\n",
    "\n",
    "set1 = {\"apple\", \"banana\"}\n",
    "set1.symmetric_difference_update(set2)\n",
    "print(\"After symmetric_difference_update:\", set1)"
   ],
   "id": "67568d4191a76ac",
   "outputs": [
    {
     "name": "stdout",
     "output_type": "stream",
     "text": [
      "After symmetric_difference_update: {'cherry', 'apple'}\n"
     ]
    }
   ],
   "execution_count": 100
  },
  {
   "metadata": {
    "ExecuteTime": {
     "end_time": "2025-08-24T16:41:00.958287Z",
     "start_time": "2025-08-24T16:41:00.954967Z"
    }
   },
   "cell_type": "code",
   "source": [
    "# union() (|)\n",
    "\n",
    "set1 = {\"apple\", \"banana\"}\n",
    "set2 = {\"cherry\", \"kiwi\"}\n",
    "print(\"Union:\", set1.union(set2))\n",
    "print(\"Union (operator):\", set1 | set2)"
   ],
   "id": "c5cc5b5e1251f996",
   "outputs": [
    {
     "name": "stdout",
     "output_type": "stream",
     "text": [
      "Union: {'kiwi', 'cherry', 'apple', 'banana'}\n",
      "Union (operator): {'kiwi', 'cherry', 'apple', 'banana'}\n"
     ]
    }
   ],
   "execution_count": 101
  },
  {
   "metadata": {
    "ExecuteTime": {
     "end_time": "2025-08-24T16:41:02.624242Z",
     "start_time": "2025-08-24T16:41:02.619571Z"
    }
   },
   "cell_type": "code",
   "source": [
    "# update()\n",
    "\n",
    "set1 = {\"apple\", \"banana\"}\n",
    "set2 = {\"cherry\", \"kiwi\"}\n",
    "set1.update(set2)\n",
    "print(\"After update:\", set1)\n"
   ],
   "id": "5c37f4f0d4ad7513",
   "outputs": [
    {
     "name": "stdout",
     "output_type": "stream",
     "text": [
      "After update: {'kiwi', 'cherry', 'apple', 'banana'}\n"
     ]
    }
   ],
   "execution_count": 102
  },
  {
   "metadata": {},
   "cell_type": "markdown",
   "source": [
    "## Dictionary\n",
    "A dictionary is a collection which is ordered, changeable and do not allow duplicates.\n",
    "\n",
    "Note : As of Python version 3.7, dictionaries are ordered. In Python 3.6 and earlier, dictionaries are unordered."
   ],
   "id": "c1e0373459d4eff1"
  },
  {
   "metadata": {
    "ExecuteTime": {
     "end_time": "2025-08-24T16:42:05.489177Z",
     "start_time": "2025-08-24T16:42:05.485399Z"
    }
   },
   "cell_type": "code",
   "source": [
    "# Sample dictionary\n",
    "person = {\"name\": \"Alice\", \"age\": 25, \"city\": \"New York\"}\n",
    "print(\"Initial dictionary:\", person)"
   ],
   "id": "cbbec5c753e33b9f",
   "outputs": [
    {
     "name": "stdout",
     "output_type": "stream",
     "text": [
      "Initial dictionary: {'name': 'Alice', 'age': 25, 'city': 'New York'}\n"
     ]
    }
   ],
   "execution_count": 103
  },
  {
   "metadata": {
    "ExecuteTime": {
     "end_time": "2025-08-24T16:42:07.298552Z",
     "start_time": "2025-08-24T16:42:07.295083Z"
    }
   },
   "cell_type": "code",
   "source": [
    "pretty_section(\"Creation & Copying\")\n",
    "\n",
    "# copy()\n",
    "copied = person.copy()\n",
    "print(\"Copied dictionary:\", copied)\n",
    "\n",
    "# fromkeys()\n",
    "keys = (\"a\", \"b\", \"c\")\n",
    "default_value = 0\n",
    "new_dict = dict.fromkeys(keys, default_value)\n",
    "print(\"Fromkeys dictionary:\", new_dict)"
   ],
   "id": "39d983776b2dc27e",
   "outputs": [
    {
     "name": "stdout",
     "output_type": "stream",
     "text": [
      "\n",
      "==================================================\n",
      "Creation & Copying\n",
      "==================================================\n",
      "Copied dictionary: {'name': 'Alice', 'age': 25, 'city': 'New York'}\n",
      "Fromkeys dictionary: {'a': 0, 'b': 0, 'c': 0}\n"
     ]
    }
   ],
   "execution_count": 104
  },
  {
   "metadata": {
    "ExecuteTime": {
     "end_time": "2025-08-24T16:42:28.168760Z",
     "start_time": "2025-08-24T16:42:28.165029Z"
    }
   },
   "cell_type": "code",
   "source": [
    "pretty_section(\"Access & View Objects\")\n",
    "\n",
    "# get()\n",
    "print(\"person.get('name'):\", person.get(\"name\"))\n",
    "print(\"person.get('salary', 'Not Found'):\", person.get(\"salary\", \"Not Found\"))\n",
    "\n",
    "# items()\n",
    "print(\"person.items():\", person.items())\n",
    "\n",
    "# keys()\n",
    "print(\"person.keys():\", person.keys())\n",
    "\n",
    "# values()\n",
    "print(\"person.values():\", person.values())"
   ],
   "id": "a2554b01b355357e",
   "outputs": [
    {
     "name": "stdout",
     "output_type": "stream",
     "text": [
      "\n",
      "==================================================\n",
      "Access & View Objects\n",
      "==================================================\n",
      "person.get('name'): Alice\n",
      "person.get('salary', 'Not Found'): Not Found\n",
      "person.items(): dict_items([('name', 'Alice'), ('age', 25), ('city', 'New York')])\n",
      "person.keys(): dict_keys(['name', 'age', 'city'])\n",
      "person.values(): dict_values(['Alice', 25, 'New York'])\n"
     ]
    }
   ],
   "execution_count": 105
  },
  {
   "metadata": {
    "ExecuteTime": {
     "end_time": "2025-08-24T16:43:30.090235Z",
     "start_time": "2025-08-24T16:43:30.086382Z"
    }
   },
   "cell_type": "code",
   "source": [
    "pretty_section(\"Adding & Updating\")\n",
    "\n",
    "# setdefault()\n",
    "temp = person.copy()\n",
    "print(\"setdefault existing key:\", temp.setdefault(\"name\", \"Unknown\"))\n",
    "print(\"setdefault new key:\", temp.setdefault(\"salary\", 50000))\n",
    "print(\"After setdefault:\", temp)\n",
    "\n",
    "# update()\n",
    "temp = person.copy()\n",
    "temp.update({\"age\": 30, \"country\": \"USA\"})\n",
    "print(\"After update:\", temp)"
   ],
   "id": "1ef5fb0532c15e24",
   "outputs": [
    {
     "name": "stdout",
     "output_type": "stream",
     "text": [
      "\n",
      "==================================================\n",
      "Adding & Updating\n",
      "==================================================\n",
      "setdefault existing key: Alice\n",
      "setdefault new key: 50000\n",
      "After setdefault: {'name': 'Alice', 'age': 25, 'city': 'New York', 'salary': 50000}\n",
      "After update: {'name': 'Alice', 'age': 30, 'city': 'New York', 'country': 'USA'}\n"
     ]
    }
   ],
   "execution_count": 106
  },
  {
   "metadata": {
    "ExecuteTime": {
     "end_time": "2025-08-24T16:44:34.779347Z",
     "start_time": "2025-08-24T16:44:34.776361Z"
    }
   },
   "cell_type": "code",
   "source": [
    "pretty_section(\"Removing Items\")\n",
    "\n",
    "# pop()\n",
    "temp = person.copy()\n",
    "removed = temp.pop(\"age\")\n",
    "print(\"After pop('age'):\", temp, \"| Removed value:\", removed)\n",
    "\n",
    "# popitem()\n",
    "temp = person.copy()\n",
    "last_item = temp.popitem()\n",
    "print(\"After popitem():\", temp, \"| Removed key-value pair:\", last_item)\n",
    "\n",
    "# clear()\n",
    "temp = person.copy()\n",
    "temp.clear()\n",
    "print(\"After clear():\", temp)"
   ],
   "id": "94e41c17ce79e9bc",
   "outputs": [
    {
     "name": "stdout",
     "output_type": "stream",
     "text": [
      "\n",
      "==================================================\n",
      "Removing Items\n",
      "==================================================\n",
      "After pop('age'): {'name': 'Alice', 'city': 'New York'} | Removed value: 25\n",
      "After popitem(): {'name': 'Alice', 'age': 25} | Removed key-value pair: ('city', 'New York')\n",
      "After clear(): {}\n"
     ]
    }
   ],
   "execution_count": 107
  },
  {
   "metadata": {
    "ExecuteTime": {
     "end_time": "2025-08-24T16:45:00.433959Z",
     "start_time": "2025-08-24T16:45:00.432319Z"
    }
   },
   "cell_type": "code",
   "source": "",
   "id": "ef9f74037f7fbc1c",
   "outputs": [],
   "execution_count": null
  },
  {
   "metadata": {
    "ExecuteTime": {
     "end_time": "2025-08-24T16:45:01.562878Z",
     "start_time": "2025-08-24T16:45:01.561316Z"
    }
   },
   "cell_type": "code",
   "source": "",
   "id": "873423d944a921e7",
   "outputs": [],
   "execution_count": null
  },
  {
   "metadata": {
    "ExecuteTime": {
     "end_time": "2025-08-24T16:45:02.009103Z",
     "start_time": "2025-08-24T16:45:02.006555Z"
    }
   },
   "cell_type": "code",
   "source": "",
   "id": "18922c5d3f495c0d",
   "outputs": [],
   "execution_count": null
  },
  {
   "metadata": {},
   "cell_type": "code",
   "outputs": [],
   "execution_count": null,
   "source": "",
   "id": "fd48398861d3cb41"
  }
 ],
 "metadata": {
  "kernelspec": {
   "display_name": "Python 3",
   "language": "python",
   "name": "python3"
  },
  "language_info": {
   "codemirror_mode": {
    "name": "ipython",
    "version": 2
   },
   "file_extension": ".py",
   "mimetype": "text/x-python",
   "name": "python",
   "nbconvert_exporter": "python",
   "pygments_lexer": "ipython2",
   "version": "2.7.6"
  }
 },
 "nbformat": 4,
 "nbformat_minor": 5
}
